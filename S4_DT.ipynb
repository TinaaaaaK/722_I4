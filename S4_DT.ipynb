{
 "cells": [
  {
   "cell_type": "markdown",
   "id": "89eda58d",
   "metadata": {},
   "source": [
    "This is some connect "
   ]
  },
  {
   "cell_type": "code",
   "execution_count": 34,
   "id": "671e6d0d",
   "metadata": {
    "scrolled": true
   },
   "outputs": [],
   "source": [
    "# Must be included at the beginning of each new notebook. Remember to change the app name.\n",
    "import findspark\n",
    "findspark.init('/home/ubuntu/spark-3.2.1-bin-hadoop2.7')\n",
    "import pyspark\n",
    "from pyspark.sql import SparkSession\n",
    "spark = SparkSession.builder.appName('basics').getOrCreate()"
   ]
  },
  {
   "cell_type": "code",
   "execution_count": 35,
   "id": "fff31127",
   "metadata": {},
   "outputs": [],
   "source": [
    "file = 'violence_data_NEW.csv'\n",
    "df = spark.read.csv(file, header=True, inferSchema=True)"
   ]
  },
  {
   "cell_type": "code",
   "execution_count": 36,
   "id": "a859fb5a",
   "metadata": {},
   "outputs": [],
   "source": [
    "from pyspark.sql.types import (StructField,StringType,IntegerType,StructType)"
   ]
  },
  {
   "cell_type": "code",
   "execution_count": 37,
   "id": "de4181ae",
   "metadata": {},
   "outputs": [],
   "source": [
    "#3.1 drop the 'Usere feedback' field\n",
    "columns_to_drop = ['User feedback']\n",
    "new_df = df.drop(*columns_to_drop)"
   ]
  },
  {
   "cell_type": "code",
   "execution_count": 38,
   "id": "d23fc58e",
   "metadata": {},
   "outputs": [
    {
     "data": {
      "text/plain": [
       "['RecordID',\n",
       " 'Country',\n",
       " 'Gender',\n",
       " 'Demographics Question',\n",
       " 'Demographics Response',\n",
       " 'Question',\n",
       " 'Survey Year',\n",
       " 'Value']"
      ]
     },
     "execution_count": 38,
     "metadata": {},
     "output_type": "execute_result"
    }
   ],
   "source": [
    "new_df.columns"
   ]
  },
  {
   "cell_type": "code",
   "execution_count": 39,
   "id": "14a55c66",
   "metadata": {},
   "outputs": [],
   "source": [
    "#use your sales average to fill missing data. \n",
    "from pyspark.sql.functions import mean\n",
    "#3.2 Dealing with the null value in 'Value' field\n",
    "mean_value = df.select(mean(df['Value'])).collect()[0][0]\n",
    "new_df = new_df.na.fill({'Value': mean_value})"
   ]
  },
  {
   "cell_type": "code",
   "execution_count": 40,
   "id": "a3dd6144",
   "metadata": {},
   "outputs": [
    {
     "name": "stdout",
     "output_type": "stream",
     "text": [
      "+--------+-----------+------+---------------------+---------------------+--------------------+-----------+-----------------+\n",
      "|RecordID|    Country|Gender|Demographics Question|Demographics Response|            Question|Survey Year|            Value|\n",
      "+--------+-----------+------+---------------------+---------------------+--------------------+-----------+-----------------+\n",
      "|       1|Afghanistan|     F|       Marital status|        Never married|... if she burns ...| 01/01/2015|19.76253687315632|\n",
      "|       1|Afghanistan|     F|            Education|               Higher|... if she burns ...| 01/01/2015|             10.1|\n",
      "|       1|Afghanistan|     F|            Education|            Secondary|... if she burns ...| 01/01/2015|             13.7|\n",
      "|       1|Afghanistan|     F|            Education|              Primary|... if she burns ...| 01/01/2015|             13.8|\n",
      "|       1|Afghanistan|     F|       Marital status| Widowed, divorced...|... if she burns ...| 01/01/2015|             13.8|\n",
      "|       1|Afghanistan|     F|           Employment|    Employed for kind|... if she burns ...| 01/01/2015|             17.0|\n",
      "|       1|Afghanistan|     F|                  Age|                15-24|... if she burns ...| 01/01/2015|             17.3|\n",
      "|       1|Afghanistan|     F|           Employment|           Unemployed|... if she burns ...| 01/01/2015|             18.0|\n",
      "|       1|Afghanistan|     F|            Residence|                Rural|... if she burns ...| 01/01/2015|             18.1|\n",
      "|       1|Afghanistan|     F|                  Age|                25-34|... if she burns ...| 01/01/2015|             18.2|\n",
      "|       1|Afghanistan|     F|       Marital status| Married or living...|... if she burns ...| 01/01/2015|             18.3|\n",
      "|       1|Afghanistan|     F|            Residence|                Urban|... if she burns ...| 01/01/2015|             18.3|\n",
      "|       1|Afghanistan|     F|                  Age|                35-49|... if she burns ...| 01/01/2015|             18.8|\n",
      "|       1|Afghanistan|     F|            Education|         No education|... if she burns ...| 01/01/2015|             19.1|\n",
      "|       1|Afghanistan|     F|           Employment|    Employed for cash|... if she burns ...| 01/01/2015|             20.8|\n",
      "|       1|Afghanistan|     M|       Marital status|        Never married|... if she burns ...| 01/01/2015|19.76253687315632|\n",
      "|       1|Afghanistan|     M|            Education|               Higher|... if she burns ...| 01/01/2015|              4.5|\n",
      "|       1|Afghanistan|     M|            Residence|                Urban|... if she burns ...| 01/01/2015|              4.6|\n",
      "|       1|Afghanistan|     M|           Employment|           Unemployed|... if she burns ...| 01/01/2015|              5.2|\n",
      "|       1|Afghanistan|     M|            Education|              Primary|... if she burns ...| 01/01/2015|              6.3|\n",
      "+--------+-----------+------+---------------------+---------------------+--------------------+-----------+-----------------+\n",
      "only showing top 20 rows\n",
      "\n",
      "root\n",
      " |-- RecordID: integer (nullable = true)\n",
      " |-- Country: string (nullable = true)\n",
      " |-- Gender: string (nullable = true)\n",
      " |-- Demographics Question: string (nullable = true)\n",
      " |-- Demographics Response: string (nullable = true)\n",
      " |-- Question: string (nullable = true)\n",
      " |-- Survey Year: string (nullable = true)\n",
      " |-- Value: double (nullable = false)\n",
      "\n"
     ]
    }
   ],
   "source": [
    "new_df.show()\n",
    "new_df.printSchema()"
   ]
  },
  {
   "cell_type": "code",
   "execution_count": 41,
   "id": "5783a8ae",
   "metadata": {},
   "outputs": [
    {
     "name": "stdout",
     "output_type": "stream",
     "text": [
      "+-----------------+\n",
      "|            Value|\n",
      "+-----------------+\n",
      "|19.76253687315632|\n",
      "|             10.1|\n",
      "|             13.7|\n",
      "|             13.8|\n",
      "|             13.8|\n",
      "|             17.0|\n",
      "|             17.3|\n",
      "|             18.0|\n",
      "|             18.1|\n",
      "|             18.2|\n",
      "|             18.3|\n",
      "|             18.3|\n",
      "|             18.8|\n",
      "|             19.1|\n",
      "|             20.8|\n",
      "|19.76253687315632|\n",
      "|              4.5|\n",
      "|              4.6|\n",
      "|              5.2|\n",
      "|              6.3|\n",
      "+-----------------+\n",
      "only showing top 20 rows\n",
      "\n",
      "+-------+------------------+\n",
      "|summary|             Value|\n",
      "+-------+------------------+\n",
      "|  count|             12600|\n",
      "|   mean| 19.76253687315705|\n",
      "| stddev|16.005588776096097|\n",
      "|    min|               0.0|\n",
      "|    max|              86.9|\n",
      "+-------+------------------+\n",
      "\n"
     ]
    }
   ],
   "source": [
    "new = 'Value'\n",
    "\n",
    "new_df.select(new).show()\n",
    "new_df.select(new).describe().show()"
   ]
  },
  {
   "cell_type": "code",
   "execution_count": 42,
   "id": "e85507af",
   "metadata": {},
   "outputs": [],
   "source": [
    "#3.3 Constructing new data from 'Value' called 'Measurement'\n",
    "from pyspark.sql.functions import mean, col, when \n",
    "data_copy_33 = new_df.withColumn(\n",
    "    'Measurement',\n",
    "    when(col('Value') == mean_value, 0).otherwise(1)\n",
    ")\n"
   ]
  },
  {
   "cell_type": "code",
   "execution_count": 43,
   "id": "90536425",
   "metadata": {},
   "outputs": [
    {
     "name": "stdout",
     "output_type": "stream",
     "text": [
      "+-----------+\n",
      "|Measurement|\n",
      "+-----------+\n",
      "|          0|\n",
      "|          1|\n",
      "|          1|\n",
      "|          1|\n",
      "|          1|\n",
      "|          1|\n",
      "|          1|\n",
      "|          1|\n",
      "|          1|\n",
      "|          1|\n",
      "|          1|\n",
      "|          1|\n",
      "|          1|\n",
      "|          1|\n",
      "|          1|\n",
      "|          0|\n",
      "|          1|\n",
      "|          1|\n",
      "|          1|\n",
      "|          1|\n",
      "+-----------+\n",
      "only showing top 20 rows\n",
      "\n",
      "+-------+-------------------+\n",
      "|summary|        Measurement|\n",
      "+-------+-------------------+\n",
      "|  count|              12600|\n",
      "|   mean| 0.8878571428571429|\n",
      "| stddev|0.31555465373180014|\n",
      "|    min|                  0|\n",
      "|    max|                  1|\n",
      "+-------+-------------------+\n",
      "\n"
     ]
    }
   ],
   "source": [
    "new = 'Measurement'\n",
    "\n",
    "data_copy_33.select(new).show()\n",
    "data_copy_33.select(new).describe().show()"
   ]
  },
  {
   "cell_type": "code",
   "execution_count": 44,
   "id": "f6358654",
   "metadata": {},
   "outputs": [
    {
     "name": "stdout",
     "output_type": "stream",
     "text": [
      "root\n",
      " |-- RecordID: integer (nullable = true)\n",
      " |-- Country: string (nullable = true)\n",
      " |-- Gender: string (nullable = true)\n",
      " |-- Demographics Question: string (nullable = true)\n",
      " |-- Demographics Response: string (nullable = true)\n",
      " |-- Question: string (nullable = true)\n",
      " |-- Survey Year: string (nullable = true)\n",
      " |-- Value: double (nullable = false)\n",
      " |-- Measurement: integer (nullable = false)\n",
      "\n"
     ]
    }
   ],
   "source": [
    "data_copy_33.printSchema()"
   ]
  },
  {
   "cell_type": "code",
   "execution_count": 45,
   "id": "07ffe426",
   "metadata": {},
   "outputs": [],
   "source": [
    "#3.4 Merging with other dataframe\n",
    "file2 = 'violence_data_merge.csv'\n",
    "merge_df = spark.read.csv(file2, header=True, inferSchema=True)"
   ]
  },
  {
   "cell_type": "code",
   "execution_count": 46,
   "id": "4b5aa2cd",
   "metadata": {
    "scrolled": true
   },
   "outputs": [
    {
     "name": "stdout",
     "output_type": "stream",
     "text": [
      "+--------+----+----+----+----+----+----+----+-------------+\n",
      "|RecordID| _c1| _c2| _c3| _c4| _c5| _c6| _c7|User feedback|\n",
      "+--------+----+----+----+----+----+----+----+-------------+\n",
      "|       1|null|null|null|null|null|null|null|         null|\n",
      "|       1|null|null|null|null|null|null|null|         null|\n",
      "|       1|null|null|null|null|null|null|null|         null|\n",
      "|       1|null|null|null|null|null|null|null|           10|\n",
      "|       1|null|null|null|null|null|null|null|         null|\n",
      "|       1|null|null|null|null|null|null|null|         null|\n",
      "|       1|null|null|null|null|null|null|null|           23|\n",
      "|       1|null|null|null|null|null|null|null|            e|\n",
      "|       1|null|null|null|null|null|null|null|           4t|\n",
      "|       1|null|null|null|null|null|null|null|             |\n",
      "|       1|null|null|null|null|null|null|null|         null|\n",
      "|       1|null|null|null|null|null|null|null|         null|\n",
      "|       1|null|null|null|null|null|null|null|          532|\n",
      "|       1|null|null|null|null|null|null|null|         null|\n",
      "|       1|null|null|null|null|null|null|null|         null|\n",
      "|       1|null|null|null|null|null|null|null|         null|\n",
      "|       1|null|null|null|null|null|null|null|         null|\n",
      "|       1|null|null|null|null|null|null|null|          543|\n",
      "|       1|null|null|null|null|null|null|null|         null|\n",
      "|       1|null|null|null|null|null|null|null|         null|\n",
      "+--------+----+----+----+----+----+----+----+-------------+\n",
      "only showing top 20 rows\n",
      "\n"
     ]
    },
    {
     "name": "stderr",
     "output_type": "stream",
     "text": [
      "23/10/11 02:25:32 WARN CSVHeaderChecker: CSV header does not conform to the schema.\n",
      " Header: RecordID, , , , , , , , User feedback\n",
      " Schema: RecordID, _c1, _c2, _c3, _c4, _c5, _c6, _c7, User feedback\n",
      "Expected: _c1 but found: \n",
      "CSV file: file:///home/ubuntu/722_I4/violence_data_merge.csv\n"
     ]
    }
   ],
   "source": [
    "merge_df.show()"
   ]
  },
  {
   "cell_type": "code",
   "execution_count": 47,
   "id": "967035c8",
   "metadata": {},
   "outputs": [],
   "source": [
    "merged_data = data_copy_33.join(merge_df, 'RecordID')"
   ]
  },
  {
   "cell_type": "code",
   "execution_count": 48,
   "id": "6a54d672",
   "metadata": {},
   "outputs": [
    {
     "name": "stdout",
     "output_type": "stream",
     "text": [
      "+--------+-----------+------+---------------------+---------------------+--------------------+-----------+-----------------+-----------+----+----+----+----+----+----+----+-------------+\n",
      "|RecordID|    Country|Gender|Demographics Question|Demographics Response|            Question|Survey Year|            Value|Measurement| _c1| _c2| _c3| _c4| _c5| _c6| _c7|User feedback|\n",
      "+--------+-----------+------+---------------------+---------------------+--------------------+-----------+-----------------+-----------+----+----+----+----+----+----+----+-------------+\n",
      "|       1|Afghanistan|     F|       Marital status|        Never married|... if she burns ...| 01/01/2015|19.76253687315632|          0|null|null|null|null|null|null|null|           4e|\n",
      "|       1|Afghanistan|     F|       Marital status|        Never married|... if she burns ...| 01/01/2015|19.76253687315632|          0|null|null|null|null|null|null|null|         gf43|\n",
      "|       1|Afghanistan|     F|       Marital status|        Never married|... if she burns ...| 01/01/2015|19.76253687315632|          0|null|null|null|null|null|null|null|         null|\n",
      "|       1|Afghanistan|     F|       Marital status|        Never married|... if she burns ...| 01/01/2015|19.76253687315632|          0|null|null|null|null|null|null|null|         null|\n",
      "|       1|Afghanistan|     F|       Marital status|        Never married|... if she burns ...| 01/01/2015|19.76253687315632|          0|null|null|null|null|null|null|null|        fdcet|\n",
      "|       1|Afghanistan|     F|       Marital status|        Never married|... if she burns ...| 01/01/2015|19.76253687315632|          0|null|null|null|null|null|null|null|         null|\n",
      "|       1|Afghanistan|     F|       Marital status|        Never married|... if she burns ...| 01/01/2015|19.76253687315632|          0|null|null|null|null|null|null|null|         null|\n",
      "|       1|Afghanistan|     F|       Marital status|        Never married|... if she burns ...| 01/01/2015|19.76253687315632|          0|null|null|null|null|null|null|null|           f5|\n",
      "|       1|Afghanistan|     F|       Marital status|        Never married|... if she burns ...| 01/01/2015|19.76253687315632|          0|null|null|null|null|null|null|null|         null|\n",
      "|       1|Afghanistan|     F|       Marital status|        Never married|... if she burns ...| 01/01/2015|19.76253687315632|          0|null|null|null|null|null|null|null|         r54t|\n",
      "|       1|Afghanistan|     F|       Marital status|        Never married|... if she burns ...| 01/01/2015|19.76253687315632|          0|null|null|null|null|null|null|null|         null|\n",
      "|       1|Afghanistan|     F|       Marital status|        Never married|... if she burns ...| 01/01/2015|19.76253687315632|          0|null|null|null|null|null|null|null|         null|\n",
      "|       1|Afghanistan|     F|       Marital status|        Never married|... if she burns ...| 01/01/2015|19.76253687315632|          0|null|null|null|null|null|null|null|          543|\n",
      "|       1|Afghanistan|     F|       Marital status|        Never married|... if she burns ...| 01/01/2015|19.76253687315632|          0|null|null|null|null|null|null|null|         null|\n",
      "|       1|Afghanistan|     F|       Marital status|        Never married|... if she burns ...| 01/01/2015|19.76253687315632|          0|null|null|null|null|null|null|null|         null|\n",
      "|       1|Afghanistan|     F|       Marital status|        Never married|... if she burns ...| 01/01/2015|19.76253687315632|          0|null|null|null|null|null|null|null|         null|\n",
      "|       1|Afghanistan|     F|       Marital status|        Never married|... if she burns ...| 01/01/2015|19.76253687315632|          0|null|null|null|null|null|null|null|         null|\n",
      "|       1|Afghanistan|     F|       Marital status|        Never married|... if she burns ...| 01/01/2015|19.76253687315632|          0|null|null|null|null|null|null|null|          532|\n",
      "|       1|Afghanistan|     F|       Marital status|        Never married|... if she burns ...| 01/01/2015|19.76253687315632|          0|null|null|null|null|null|null|null|         null|\n",
      "|       1|Afghanistan|     F|       Marital status|        Never married|... if she burns ...| 01/01/2015|19.76253687315632|          0|null|null|null|null|null|null|null|         null|\n",
      "+--------+-----------+------+---------------------+---------------------+--------------------+-----------+-----------------+-----------+----+----+----+----+----+----+----+-------------+\n",
      "only showing top 20 rows\n",
      "\n",
      "root\n",
      " |-- RecordID: integer (nullable = true)\n",
      " |-- Country: string (nullable = true)\n",
      " |-- Gender: string (nullable = true)\n",
      " |-- Demographics Question: string (nullable = true)\n",
      " |-- Demographics Response: string (nullable = true)\n",
      " |-- Question: string (nullable = true)\n",
      " |-- Survey Year: string (nullable = true)\n",
      " |-- Value: double (nullable = false)\n",
      " |-- Measurement: integer (nullable = false)\n",
      " |-- _c1: string (nullable = true)\n",
      " |-- _c2: string (nullable = true)\n",
      " |-- _c3: string (nullable = true)\n",
      " |-- _c4: string (nullable = true)\n",
      " |-- _c5: string (nullable = true)\n",
      " |-- _c6: string (nullable = true)\n",
      " |-- _c7: string (nullable = true)\n",
      " |-- User feedback: string (nullable = true)\n",
      "\n"
     ]
    },
    {
     "name": "stderr",
     "output_type": "stream",
     "text": [
      "23/10/11 02:25:32 WARN CSVHeaderChecker: CSV header does not conform to the schema.\n",
      " Header: RecordID, , , , , , , , User feedback\n",
      " Schema: RecordID, _c1, _c2, _c3, _c4, _c5, _c6, _c7, User feedback\n",
      "Expected: _c1 but found: \n",
      "CSV file: file:///home/ubuntu/722_I4/violence_data_merge.csv\n"
     ]
    }
   ],
   "source": [
    "merged_data.show()\n",
    "merged_data.printSchema()"
   ]
  },
  {
   "cell_type": "code",
   "execution_count": 49,
   "id": "921fd5a7",
   "metadata": {},
   "outputs": [],
   "source": [
    "#3.5 Removing all the other fields that do not have anything contains\n",
    "columns_to_drop = ['_c1', '_c2', '_c3', '_c4', '_c5', '_c6', '_c7']\n",
    "merged_data = merged_data.drop(*columns_to_drop)"
   ]
  },
  {
   "cell_type": "code",
   "execution_count": 50,
   "id": "ce614c09",
   "metadata": {},
   "outputs": [
    {
     "name": "stdout",
     "output_type": "stream",
     "text": [
      "root\n",
      " |-- RecordID: integer (nullable = true)\n",
      " |-- Country: string (nullable = true)\n",
      " |-- Gender: string (nullable = true)\n",
      " |-- Demographics Question: string (nullable = true)\n",
      " |-- Demographics Response: string (nullable = true)\n",
      " |-- Question: string (nullable = true)\n",
      " |-- Survey Year: string (nullable = true)\n",
      " |-- Value: double (nullable = false)\n",
      " |-- Measurement: integer (nullable = false)\n",
      " |-- User feedback: string (nullable = true)\n",
      "\n",
      "+-----+\n",
      "|Value|\n",
      "+-----+\n",
      "| null|\n",
      "| 10.1|\n",
      "| 13.7|\n",
      "| 13.8|\n",
      "| 13.8|\n",
      "| 17.0|\n",
      "| 17.3|\n",
      "| 18.0|\n",
      "| 18.1|\n",
      "| 18.2|\n",
      "| 18.3|\n",
      "| 18.3|\n",
      "| 18.8|\n",
      "| 19.1|\n",
      "| 20.8|\n",
      "| null|\n",
      "|  4.5|\n",
      "|  4.6|\n",
      "|  5.2|\n",
      "|  6.3|\n",
      "+-----+\n",
      "only showing top 20 rows\n",
      "\n",
      "+-------+------------------+\n",
      "|summary|             Value|\n",
      "+-------+------------------+\n",
      "|  count|            378000|\n",
      "|   mean| 19.76253687315055|\n",
      "| stddev|16.004974791697258|\n",
      "|    min|               0.0|\n",
      "|    max|              86.9|\n",
      "+-------+------------------+\n",
      "\n"
     ]
    }
   ],
   "source": [
    "merged_data.printSchema()\n",
    "new = 'Value'\n",
    "\n",
    "df.select(new).show()\n",
    "merged_data.select(new).describe().show()"
   ]
  },
  {
   "cell_type": "code",
   "execution_count": 51,
   "id": "fbeba851",
   "metadata": {},
   "outputs": [],
   "source": [
    "#4.1 Feature selection & Encoding the string fields\n",
    "from pyspark.ml.feature import StringIndexer, OneHotEncoder\n",
    "from pyspark.ml.feature import VectorAssembler"
   ]
  },
  {
   "cell_type": "code",
   "execution_count": 52,
   "id": "01e93f8e",
   "metadata": {},
   "outputs": [],
   "source": [
    "#Encoding 'Country'\n",
    "indexer = StringIndexer(inputCol=\"Country\", outputCol=\"CountryIndex\")\n",
    "encoder = OneHotEncoder(inputCols=[\"CountryIndex\"], outputCols=[\"CountryVec\"])\n",
    "df = indexer.fit(df).transform(df)\n",
    "df = encoder.fit(df).transform(df)"
   ]
  },
  {
   "cell_type": "code",
   "execution_count": 53,
   "id": "4e8993cd",
   "metadata": {},
   "outputs": [
    {
     "name": "stdout",
     "output_type": "stream",
     "text": [
      "root\n",
      " |-- RecordID: integer (nullable = true)\n",
      " |-- Country: string (nullable = true)\n",
      " |-- Gender: string (nullable = true)\n",
      " |-- Demographics Question: string (nullable = true)\n",
      " |-- Demographics Response: string (nullable = true)\n",
      " |-- Question: string (nullable = true)\n",
      " |-- Survey Year: string (nullable = true)\n",
      " |-- Value: double (nullable = true)\n",
      " |-- User feedback: string (nullable = true)\n",
      " |-- CountryIndex: double (nullable = false)\n",
      " |-- CountryVec: vector (nullable = true)\n",
      "\n"
     ]
    }
   ],
   "source": [
    "df.printSchema()"
   ]
  },
  {
   "cell_type": "code",
   "execution_count": 54,
   "id": "922fda86",
   "metadata": {
    "scrolled": true
   },
   "outputs": [
    {
     "name": "stdout",
     "output_type": "stream",
     "text": [
      "root\n",
      " |-- RecordID: integer (nullable = true)\n",
      " |-- Country: string (nullable = true)\n",
      " |-- Gender: string (nullable = true)\n",
      " |-- Demographics Question: string (nullable = true)\n",
      " |-- Demographics Response: string (nullable = true)\n",
      " |-- Question: string (nullable = true)\n",
      " |-- Survey Year: string (nullable = true)\n",
      " |-- Value: double (nullable = true)\n",
      " |-- User feedback: string (nullable = true)\n",
      " |-- CountryIndex: double (nullable = false)\n",
      " |-- CountryVec: vector (nullable = true)\n",
      " |-- GenderIndex: double (nullable = false)\n",
      " |-- GenderVec: vector (nullable = true)\n",
      "\n"
     ]
    }
   ],
   "source": [
    "#Encoding 'Gender'\n",
    "indexer = StringIndexer(inputCol=\"Gender\", outputCol=\"GenderIndex\")\n",
    "encoder = OneHotEncoder(inputCols=[\"GenderIndex\"], outputCols=[\"GenderVec\"])\n",
    "df = indexer.fit(df).transform(df)\n",
    "df = encoder.fit(df).transform(df)\n",
    "df.printSchema()"
   ]
  },
  {
   "cell_type": "code",
   "execution_count": 55,
   "id": "5d0473e5",
   "metadata": {},
   "outputs": [
    {
     "name": "stdout",
     "output_type": "stream",
     "text": [
      "root\n",
      " |-- RecordID: integer (nullable = true)\n",
      " |-- Country: string (nullable = true)\n",
      " |-- Gender: string (nullable = true)\n",
      " |-- Demographics Question: string (nullable = true)\n",
      " |-- Demographics Response: string (nullable = true)\n",
      " |-- Question: string (nullable = true)\n",
      " |-- Survey Year: string (nullable = true)\n",
      " |-- Value: double (nullable = true)\n",
      " |-- User feedback: string (nullable = true)\n",
      " |-- CountryIndex: double (nullable = false)\n",
      " |-- CountryVec: vector (nullable = true)\n",
      " |-- GenderIndex: double (nullable = false)\n",
      " |-- GenderVec: vector (nullable = true)\n",
      " |-- ResponseIndex: double (nullable = false)\n",
      "\n"
     ]
    }
   ],
   "source": [
    "#Encoding 'Demographics Response' \n",
    "#responseIndexer = StringIndexer(inputCol=\"Demographics Response\", outputCol=\"ResponseIndex\")\n",
    "#responseEncoder = OneHotEncoder(inputCols=[\"ResponseIndex\"], outputCols=[\"ResponseVec\"])\n",
    "#df = responseIndexer.fit(df).transform(df)\n",
    "#df = responseEncoder.fit(df).transform(df)\n",
    "indexer = StringIndexer(inputCol=\"Demographics Response\", outputCol=\"ResponseIndex\")\n",
    "df = indexer.fit(df).transform(df)\n",
    "df.printSchema()"
   ]
  },
  {
   "cell_type": "code",
   "execution_count": 56,
   "id": "08cbc67a",
   "metadata": {},
   "outputs": [
    {
     "name": "stdout",
     "output_type": "stream",
     "text": [
      "+--------+-----------+------+---------------------+---------------------+--------------------+-----------+-----+-------------+------------+--------------+-----------+-------------+-------------+\n",
      "|RecordID|    Country|Gender|Demographics Question|Demographics Response|            Question|Survey Year|Value|User feedback|CountryIndex|    CountryVec|GenderIndex|    GenderVec|ResponseIndex|\n",
      "+--------+-----------+------+---------------------+---------------------+--------------------+-----------+-----+-------------+------------+--------------+-----------+-------------+-------------+\n",
      "|       1|Afghanistan|     F|       Marital status|        Never married|... if she burns ...| 01/01/2015| null|         null|         0.0|(69,[0],[1.0])|        0.0|(1,[0],[1.0])|          7.0|\n",
      "|       1|Afghanistan|     F|            Education|               Higher|... if she burns ...| 01/01/2015| 10.1|         null|         0.0|(69,[0],[1.0])|        0.0|(1,[0],[1.0])|          5.0|\n",
      "|       1|Afghanistan|     F|            Education|            Secondary|... if she burns ...| 01/01/2015| 13.7|         null|         0.0|(69,[0],[1.0])|        0.0|(1,[0],[1.0])|         11.0|\n",
      "|       1|Afghanistan|     F|            Education|              Primary|... if she burns ...| 01/01/2015| 13.8|           10|         0.0|(69,[0],[1.0])|        0.0|(1,[0],[1.0])|          9.0|\n",
      "|       1|Afghanistan|     F|       Marital status| Widowed, divorced...|... if she burns ...| 01/01/2015| 13.8|         null|         0.0|(69,[0],[1.0])|        0.0|(1,[0],[1.0])|         14.0|\n",
      "|       1|Afghanistan|     F|           Employment|    Employed for kind|... if she burns ...| 01/01/2015| 17.0|         null|         0.0|(69,[0],[1.0])|        0.0|(1,[0],[1.0])|          4.0|\n",
      "|       1|Afghanistan|     F|                  Age|                15-24|... if she burns ...| 01/01/2015| 17.3|           23|         0.0|(69,[0],[1.0])|        0.0|(1,[0],[1.0])|          0.0|\n",
      "|       1|Afghanistan|     F|           Employment|           Unemployed|... if she burns ...| 01/01/2015| 18.0|            e|         0.0|(69,[0],[1.0])|        0.0|(1,[0],[1.0])|         12.0|\n",
      "|       1|Afghanistan|     F|            Residence|                Rural|... if she burns ...| 01/01/2015| 18.1|           4t|         0.0|(69,[0],[1.0])|        0.0|(1,[0],[1.0])|         10.0|\n",
      "|       1|Afghanistan|     F|                  Age|                25-34|... if she burns ...| 01/01/2015| 18.2|             |         0.0|(69,[0],[1.0])|        0.0|(1,[0],[1.0])|          1.0|\n",
      "|       1|Afghanistan|     F|       Marital status| Married or living...|... if she burns ...| 01/01/2015| 18.3|         null|         0.0|(69,[0],[1.0])|        0.0|(1,[0],[1.0])|          6.0|\n",
      "|       1|Afghanistan|     F|            Residence|                Urban|... if she burns ...| 01/01/2015| 18.3|         null|         0.0|(69,[0],[1.0])|        0.0|(1,[0],[1.0])|         13.0|\n",
      "|       1|Afghanistan|     F|                  Age|                35-49|... if she burns ...| 01/01/2015| 18.8|          532|         0.0|(69,[0],[1.0])|        0.0|(1,[0],[1.0])|          2.0|\n",
      "|       1|Afghanistan|     F|            Education|         No education|... if she burns ...| 01/01/2015| 19.1|         null|         0.0|(69,[0],[1.0])|        0.0|(1,[0],[1.0])|          8.0|\n",
      "|       1|Afghanistan|     F|           Employment|    Employed for cash|... if she burns ...| 01/01/2015| 20.8|         null|         0.0|(69,[0],[1.0])|        0.0|(1,[0],[1.0])|          3.0|\n",
      "|       1|Afghanistan|     M|       Marital status|        Never married|... if she burns ...| 01/01/2015| null|         null|         0.0|(69,[0],[1.0])|        1.0|    (1,[],[])|          7.0|\n",
      "|       1|Afghanistan|     M|            Education|               Higher|... if she burns ...| 01/01/2015|  4.5|         null|         0.0|(69,[0],[1.0])|        1.0|    (1,[],[])|          5.0|\n",
      "|       1|Afghanistan|     M|            Residence|                Urban|... if she burns ...| 01/01/2015|  4.6|          543|         0.0|(69,[0],[1.0])|        1.0|    (1,[],[])|         13.0|\n",
      "|       1|Afghanistan|     M|           Employment|           Unemployed|... if she burns ...| 01/01/2015|  5.2|         null|         0.0|(69,[0],[1.0])|        1.0|    (1,[],[])|         12.0|\n",
      "|       1|Afghanistan|     M|            Education|              Primary|... if she burns ...| 01/01/2015|  6.3|         null|         0.0|(69,[0],[1.0])|        1.0|    (1,[],[])|          9.0|\n",
      "+--------+-----------+------+---------------------+---------------------+--------------------+-----------+-----+-------------+------------+--------------+-----------+-------------+-------------+\n",
      "only showing top 20 rows\n",
      "\n"
     ]
    }
   ],
   "source": [
    "df.show()\n",
    "#ret"
   ]
  },
  {
   "cell_type": "code",
   "execution_count": 57,
   "id": "cf22be59",
   "metadata": {
    "scrolled": true
   },
   "outputs": [
    {
     "name": "stdout",
     "output_type": "stream",
     "text": [
      "root\n",
      " |-- RecordID: integer (nullable = true)\n",
      " |-- CountryVec: vector (nullable = true)\n",
      " |-- GenderIndex: double (nullable = false)\n",
      " |-- GenderVec: vector (nullable = true)\n",
      " |-- ResponseIndex: double (nullable = false)\n",
      "\n"
     ]
    }
   ],
   "source": [
    "#\n",
    "selectedCols = [col for col in df.columns if col  in ['RecordID','CountryVec','GenderVec',\n",
    "                                                         'ResponseIndex','GenderIndex']]\n",
    "new_df = df.select(selectedCols)\n",
    "new_df.printSchema()"
   ]
  },
  {
   "cell_type": "code",
   "execution_count": 58,
   "id": "434ed448",
   "metadata": {},
   "outputs": [
    {
     "name": "stdout",
     "output_type": "stream",
     "text": [
      "+--------+--------------+-----------+-------------+-------------+\n",
      "|RecordID|    CountryVec|GenderIndex|    GenderVec|ResponseIndex|\n",
      "+--------+--------------+-----------+-------------+-------------+\n",
      "|       1|(69,[0],[1.0])|        0.0|(1,[0],[1.0])|          7.0|\n",
      "|       1|(69,[0],[1.0])|        0.0|(1,[0],[1.0])|          5.0|\n",
      "|       1|(69,[0],[1.0])|        0.0|(1,[0],[1.0])|         11.0|\n",
      "|       1|(69,[0],[1.0])|        0.0|(1,[0],[1.0])|          9.0|\n",
      "|       1|(69,[0],[1.0])|        0.0|(1,[0],[1.0])|         14.0|\n",
      "|       1|(69,[0],[1.0])|        0.0|(1,[0],[1.0])|          4.0|\n",
      "|       1|(69,[0],[1.0])|        0.0|(1,[0],[1.0])|          0.0|\n",
      "|       1|(69,[0],[1.0])|        0.0|(1,[0],[1.0])|         12.0|\n",
      "|       1|(69,[0],[1.0])|        0.0|(1,[0],[1.0])|         10.0|\n",
      "|       1|(69,[0],[1.0])|        0.0|(1,[0],[1.0])|          1.0|\n",
      "|       1|(69,[0],[1.0])|        0.0|(1,[0],[1.0])|          6.0|\n",
      "|       1|(69,[0],[1.0])|        0.0|(1,[0],[1.0])|         13.0|\n",
      "|       1|(69,[0],[1.0])|        0.0|(1,[0],[1.0])|          2.0|\n",
      "|       1|(69,[0],[1.0])|        0.0|(1,[0],[1.0])|          8.0|\n",
      "|       1|(69,[0],[1.0])|        0.0|(1,[0],[1.0])|          3.0|\n",
      "|       1|(69,[0],[1.0])|        1.0|    (1,[],[])|          7.0|\n",
      "|       1|(69,[0],[1.0])|        1.0|    (1,[],[])|          5.0|\n",
      "|       1|(69,[0],[1.0])|        1.0|    (1,[],[])|         13.0|\n",
      "|       1|(69,[0],[1.0])|        1.0|    (1,[],[])|         12.0|\n",
      "|       1|(69,[0],[1.0])|        1.0|    (1,[],[])|          9.0|\n",
      "+--------+--------------+-----------+-------------+-------------+\n",
      "only showing top 20 rows\n",
      "\n"
     ]
    }
   ],
   "source": [
    "new_df.show()"
   ]
  },
  {
   "cell_type": "code",
   "execution_count": 59,
   "id": "cfeb0200",
   "metadata": {},
   "outputs": [],
   "source": [
    "from pyspark.sql import SparkSession\n",
    "from pyspark.ml.feature import ChiSqSelector, VectorAssembler, StringIndexer\n",
    "from pyspark.ml import Pipeline\n",
    "from pyspark.sql.functions import col\n",
    "from pyspark.sql.types import DoubleType\n"
   ]
  },
  {
   "cell_type": "code",
   "execution_count": 60,
   "id": "d10b0036",
   "metadata": {},
   "outputs": [],
   "source": [
    "#creating new field which is called 'featuresnew'\n",
    "feature_columns = [col for col in new_df.columns if (col != 'GenderIndex' or col != 'Value')]  \n",
    "assembler = VectorAssembler(inputCols=feature_columns, outputCol=\"featuresnew\")\n",
    "df = assembler.transform(new_df)\n"
   ]
  },
  {
   "cell_type": "code",
   "execution_count": 61,
   "id": "c1d7beb6",
   "metadata": {},
   "outputs": [],
   "source": [
    "\n",
    "from pyspark.ml.feature import ChiSqSelector\n",
    "\n",
    "selector = ChiSqSelector(numTopFeatures=5, featuresCol='featuresnew',\n",
    "                        outputCol='selectedFeatures', labelCol='GenderIndex')\n",
    "\n",
    "\n",
    "\n",
    "\n",
    "\n"
   ]
  },
  {
   "cell_type": "code",
   "execution_count": 62,
   "id": "e993526c",
   "metadata": {},
   "outputs": [
    {
     "name": "stdout",
     "output_type": "stream",
     "text": [
      "+-------+------------------+------------------+-----------------+\n",
      "|summary|          RecordID|       GenderIndex|    ResponseIndex|\n",
      "+-------+------------------+------------------+-----------------+\n",
      "|  count|             12600|             12600|            12600|\n",
      "|   mean|             210.5|               0.5|              7.0|\n",
      "| stddev|121.24802439346753|0.5000198424509481|4.320665257311134|\n",
      "|    min|                 1|               0.0|              0.0|\n",
      "|    max|               420|               1.0|             14.0|\n",
      "+-------+------------------+------------------+-----------------+\n",
      "\n"
     ]
    }
   ],
   "source": [
    "df.describe().show()"
   ]
  },
  {
   "cell_type": "code",
   "execution_count": 63,
   "id": "c0f7ae4d",
   "metadata": {},
   "outputs": [],
   "source": [
    "selected_data = selector.fit(df).transform(df)"
   ]
  },
  {
   "cell_type": "code",
   "execution_count": 64,
   "id": "ed79c4f4",
   "metadata": {},
   "outputs": [
    {
     "name": "stdout",
     "output_type": "stream",
     "text": [
      "+--------------------+\n",
      "|    selectedFeatures|\n",
      "+--------------------+\n",
      "|(5,[0,1,4],[1.0,1...|\n",
      "|(5,[0,1,4],[1.0,1...|\n",
      "|(5,[0,1,4],[1.0,1...|\n",
      "|(5,[0,1,4],[1.0,1...|\n",
      "|(5,[0,1,4],[1.0,1...|\n",
      "|(5,[0,1,4],[1.0,1...|\n",
      "|(5,[0,1,4],[1.0,1...|\n",
      "|(5,[0,1,4],[1.0,1...|\n",
      "|(5,[0,1,4],[1.0,1...|\n",
      "|(5,[0,1,4],[1.0,1...|\n",
      "|(5,[0,1,4],[1.0,1...|\n",
      "|(5,[0,1,4],[1.0,1...|\n",
      "|(5,[0,1,4],[1.0,1...|\n",
      "|(5,[0,1,4],[1.0,1...|\n",
      "|(5,[0,1,4],[1.0,1...|\n",
      "|(5,[0,1,3],[1.0,1...|\n",
      "|(5,[0,1,3],[1.0,1...|\n",
      "|(5,[0,1,3],[1.0,1...|\n",
      "|(5,[0,1,3],[1.0,1...|\n",
      "|(5,[0,1,3],[1.0,1...|\n",
      "+--------------------+\n",
      "only showing top 20 rows\n",
      "\n"
     ]
    }
   ],
   "source": [
    "selected_data.select('selectedFeatures').show()"
   ]
  },
  {
   "cell_type": "code",
   "execution_count": 65,
   "id": "2ac7ec81",
   "metadata": {},
   "outputs": [
    {
     "name": "stdout",
     "output_type": "stream",
     "text": [
      "+--------+--------------+-----------+-------------+-------------+--------------------+--------------------+\n",
      "|RecordID|    CountryVec|GenderIndex|    GenderVec|ResponseIndex|         featuresnew|    selectedFeatures|\n",
      "+--------+--------------+-----------+-------------+-------------+--------------------+--------------------+\n",
      "|       1|(69,[0],[1.0])|        0.0|(1,[0],[1.0])|          7.0|(73,[0,1,71,72],[...|(5,[0,1,4],[1.0,1...|\n",
      "|       1|(69,[0],[1.0])|        0.0|(1,[0],[1.0])|          5.0|(73,[0,1,71,72],[...|(5,[0,1,4],[1.0,1...|\n",
      "|       1|(69,[0],[1.0])|        0.0|(1,[0],[1.0])|         11.0|(73,[0,1,71,72],[...|(5,[0,1,4],[1.0,1...|\n",
      "|       1|(69,[0],[1.0])|        0.0|(1,[0],[1.0])|          9.0|(73,[0,1,71,72],[...|(5,[0,1,4],[1.0,1...|\n",
      "|       1|(69,[0],[1.0])|        0.0|(1,[0],[1.0])|         14.0|(73,[0,1,71,72],[...|(5,[0,1,4],[1.0,1...|\n",
      "|       1|(69,[0],[1.0])|        0.0|(1,[0],[1.0])|          4.0|(73,[0,1,71,72],[...|(5,[0,1,4],[1.0,1...|\n",
      "|       1|(69,[0],[1.0])|        0.0|(1,[0],[1.0])|          0.0|(73,[0,1,71],[1.0...|(5,[0,1,4],[1.0,1...|\n",
      "|       1|(69,[0],[1.0])|        0.0|(1,[0],[1.0])|         12.0|(73,[0,1,71,72],[...|(5,[0,1,4],[1.0,1...|\n",
      "|       1|(69,[0],[1.0])|        0.0|(1,[0],[1.0])|         10.0|(73,[0,1,71,72],[...|(5,[0,1,4],[1.0,1...|\n",
      "|       1|(69,[0],[1.0])|        0.0|(1,[0],[1.0])|          1.0|(73,[0,1,71,72],[...|(5,[0,1,4],[1.0,1...|\n",
      "|       1|(69,[0],[1.0])|        0.0|(1,[0],[1.0])|          6.0|(73,[0,1,71,72],[...|(5,[0,1,4],[1.0,1...|\n",
      "|       1|(69,[0],[1.0])|        0.0|(1,[0],[1.0])|         13.0|(73,[0,1,71,72],[...|(5,[0,1,4],[1.0,1...|\n",
      "|       1|(69,[0],[1.0])|        0.0|(1,[0],[1.0])|          2.0|(73,[0,1,71,72],[...|(5,[0,1,4],[1.0,1...|\n",
      "|       1|(69,[0],[1.0])|        0.0|(1,[0],[1.0])|          8.0|(73,[0,1,71,72],[...|(5,[0,1,4],[1.0,1...|\n",
      "|       1|(69,[0],[1.0])|        0.0|(1,[0],[1.0])|          3.0|(73,[0,1,71,72],[...|(5,[0,1,4],[1.0,1...|\n",
      "|       1|(69,[0],[1.0])|        1.0|    (1,[],[])|          7.0|(73,[0,1,70,72],[...|(5,[0,1,3],[1.0,1...|\n",
      "|       1|(69,[0],[1.0])|        1.0|    (1,[],[])|          5.0|(73,[0,1,70,72],[...|(5,[0,1,3],[1.0,1...|\n",
      "|       1|(69,[0],[1.0])|        1.0|    (1,[],[])|         13.0|(73,[0,1,70,72],[...|(5,[0,1,3],[1.0,1...|\n",
      "|       1|(69,[0],[1.0])|        1.0|    (1,[],[])|         12.0|(73,[0,1,70,72],[...|(5,[0,1,3],[1.0,1...|\n",
      "|       1|(69,[0],[1.0])|        1.0|    (1,[],[])|          9.0|(73,[0,1,70,72],[...|(5,[0,1,3],[1.0,1...|\n",
      "+--------+--------------+-----------+-------------+-------------+--------------------+--------------------+\n",
      "only showing top 20 rows\n",
      "\n"
     ]
    }
   ],
   "source": [
    "selected_data.show()"
   ]
  },
  {
   "cell_type": "code",
   "execution_count": null,
   "id": "c2427d49",
   "metadata": {},
   "outputs": [],
   "source": [
    "\n"
   ]
  },
  {
   "cell_type": "code",
   "execution_count": null,
   "id": "5be08a69",
   "metadata": {},
   "outputs": [],
   "source": []
  },
  {
   "cell_type": "code",
   "execution_count": null,
   "id": "b25cc973",
   "metadata": {},
   "outputs": [],
   "source": [
    "\n"
   ]
  },
  {
   "cell_type": "code",
   "execution_count": null,
   "id": "105ccc57",
   "metadata": {},
   "outputs": [],
   "source": []
  }
 ],
 "metadata": {
  "kernelspec": {
   "display_name": "Python 3 (ipykernel)",
   "language": "python",
   "name": "python3"
  },
  "language_info": {
   "codemirror_mode": {
    "name": "ipython",
    "version": 3
   },
   "file_extension": ".py",
   "mimetype": "text/x-python",
   "name": "python",
   "nbconvert_exporter": "python",
   "pygments_lexer": "ipython3",
   "version": "3.10.12"
  }
 },
 "nbformat": 4,
 "nbformat_minor": 5
}
