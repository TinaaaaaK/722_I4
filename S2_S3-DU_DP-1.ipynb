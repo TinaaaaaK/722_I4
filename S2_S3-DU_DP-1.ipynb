{
 "cells": [
  {
   "cell_type": "markdown",
   "id": "89eda58d",
   "metadata": {},
   "source": [
    "This is some connect "
   ]
  },
  {
   "cell_type": "code",
   "execution_count": 2,
   "id": "385ef2f9",
   "metadata": {},
   "outputs": [
    {
     "name": "stdout",
     "output_type": "stream",
     "text": [
      "<class 'pandas.core.frame.DataFrame'>\n",
      "RangeIndex: 12600 entries, 0 to 12599\n",
      "Data columns (total 9 columns):\n",
      " #   Column                 Non-Null Count  Dtype  \n",
      "---  ------                 --------------  -----  \n",
      " 0   RecordID               12600 non-null  int64  \n",
      " 1   Country                12600 non-null  object \n",
      " 2   Gender                 12600 non-null  object \n",
      " 3   Demographics Question  12600 non-null  object \n",
      " 4   Demographics Response  12600 non-null  object \n",
      " 5   Question               12600 non-null  object \n",
      " 6   Survey Year            12600 non-null  object \n",
      " 7   Value                  11187 non-null  float64\n",
      " 8   User feedback          79 non-null     object \n",
      "dtypes: float64(1), int64(1), object(7)\n",
      "memory usage: 886.1+ KB\n",
      "None\n"
     ]
    }
   ],
   "source": [
    "import pandas as pd\n",
    "file = 'violence_data_NEW.csv'\n",
    "df = pd.read_csv(file)\n",
    "print(df.info())"
   ]
  },
  {
   "cell_type": "code",
   "execution_count": 3,
   "id": "671e6d0d",
   "metadata": {},
   "outputs": [
    {
     "name": "stderr",
     "output_type": "stream",
     "text": [
      "WARNING: An illegal reflective access operation has occurred\n",
      "WARNING: Illegal reflective access by org.apache.spark.unsafe.Platform (file:/home/ubuntu/spark-3.2.1-bin-hadoop2.7/jars/spark-unsafe_2.12-3.2.1.jar) to constructor java.nio.DirectByteBuffer(long,int)\n",
      "WARNING: Please consider reporting this to the maintainers of org.apache.spark.unsafe.Platform\n",
      "WARNING: Use --illegal-access=warn to enable warnings of further illegal reflective access operations\n",
      "WARNING: All illegal access operations will be denied in a future release\n",
      "Using Spark's default log4j profile: org/apache/spark/log4j-defaults.properties\n",
      "Setting default log level to \"WARN\".\n",
      "To adjust logging level use sc.setLogLevel(newLevel). For SparkR, use setLogLevel(newLevel).\n",
      "23/10/10 06:12:25 WARN NativeCodeLoader: Unable to load native-hadoop library for your platform... using builtin-java classes where applicable\n",
      "23/10/10 06:12:26 WARN Utils: Service 'SparkUI' could not bind on port 4040. Attempting port 4041.\n",
      "23/10/10 06:12:26 WARN Utils: Service 'SparkUI' could not bind on port 4041. Attempting port 4042.\n"
     ]
    }
   ],
   "source": [
    "# Must be included at the beginning of each new notebook. Remember to change the app name.\n",
    "import findspark\n",
    "findspark.init('/home/ubuntu/spark-3.2.1-bin-hadoop2.7')\n",
    "import pyspark\n",
    "from pyspark.sql import SparkSession\n",
    "spark = SparkSession.builder.appName('basics').getOrCreate()"
   ]
  },
  {
   "cell_type": "code",
   "execution_count": 4,
   "id": "fff31127",
   "metadata": {},
   "outputs": [],
   "source": [
    "file = 'violence_data_NEW.csv'\n",
    "df = spark.read.csv(file, header=True, inferSchema=True)"
   ]
  },
  {
   "cell_type": "code",
   "execution_count": 5,
   "id": "75798370",
   "metadata": {},
   "outputs": [
    {
     "name": "stdout",
     "output_type": "stream",
     "text": [
      "+--------+-----------+------+---------------------+---------------------+--------------------+-----------+-----+-------------+\n",
      "|RecordID|    Country|Gender|Demographics Question|Demographics Response|            Question|Survey Year|Value|User feedback|\n",
      "+--------+-----------+------+---------------------+---------------------+--------------------+-----------+-----+-------------+\n",
      "|       1|Afghanistan|     F|       Marital status|        Never married|... if she burns ...| 01/01/2015| null|         null|\n",
      "|       1|Afghanistan|     F|            Education|               Higher|... if she burns ...| 01/01/2015| 10.1|         null|\n",
      "|       1|Afghanistan|     F|            Education|            Secondary|... if she burns ...| 01/01/2015| 13.7|         null|\n",
      "|       1|Afghanistan|     F|            Education|              Primary|... if she burns ...| 01/01/2015| 13.8|           10|\n",
      "|       1|Afghanistan|     F|       Marital status| Widowed, divorced...|... if she burns ...| 01/01/2015| 13.8|         null|\n",
      "|       1|Afghanistan|     F|           Employment|    Employed for kind|... if she burns ...| 01/01/2015| 17.0|         null|\n",
      "|       1|Afghanistan|     F|                  Age|                15-24|... if she burns ...| 01/01/2015| 17.3|           23|\n",
      "|       1|Afghanistan|     F|           Employment|           Unemployed|... if she burns ...| 01/01/2015| 18.0|            e|\n",
      "|       1|Afghanistan|     F|            Residence|                Rural|... if she burns ...| 01/01/2015| 18.1|           4t|\n",
      "|       1|Afghanistan|     F|                  Age|                25-34|... if she burns ...| 01/01/2015| 18.2|             |\n",
      "|       1|Afghanistan|     F|       Marital status| Married or living...|... if she burns ...| 01/01/2015| 18.3|         null|\n",
      "|       1|Afghanistan|     F|            Residence|                Urban|... if she burns ...| 01/01/2015| 18.3|         null|\n",
      "|       1|Afghanistan|     F|                  Age|                35-49|... if she burns ...| 01/01/2015| 18.8|          532|\n",
      "|       1|Afghanistan|     F|            Education|         No education|... if she burns ...| 01/01/2015| 19.1|         null|\n",
      "|       1|Afghanistan|     F|           Employment|    Employed for cash|... if she burns ...| 01/01/2015| 20.8|         null|\n",
      "|       1|Afghanistan|     M|       Marital status|        Never married|... if she burns ...| 01/01/2015| null|         null|\n",
      "|       1|Afghanistan|     M|            Education|               Higher|... if she burns ...| 01/01/2015|  4.5|         null|\n",
      "|       1|Afghanistan|     M|            Residence|                Urban|... if she burns ...| 01/01/2015|  4.6|          543|\n",
      "|       1|Afghanistan|     M|           Employment|           Unemployed|... if she burns ...| 01/01/2015|  5.2|         null|\n",
      "|       1|Afghanistan|     M|            Education|              Primary|... if she burns ...| 01/01/2015|  6.3|         null|\n",
      "+--------+-----------+------+---------------------+---------------------+--------------------+-----------+-----+-------------+\n",
      "only showing top 20 rows\n",
      "\n"
     ]
    }
   ],
   "source": [
    "# The show method allows you visualise DataFrames. We can see that there are two columns. \n",
    "df.show()\n"
   ]
  },
  {
   "cell_type": "code",
   "execution_count": 6,
   "id": "3da8fb95",
   "metadata": {},
   "outputs": [
    {
     "data": {
      "text/plain": [
       "['RecordID',\n",
       " 'Country',\n",
       " 'Gender',\n",
       " 'Demographics Question',\n",
       " 'Demographics Response',\n",
       " 'Question',\n",
       " 'Survey Year',\n",
       " 'Value',\n",
       " 'User feedback']"
      ]
     },
     "execution_count": 6,
     "metadata": {},
     "output_type": "execute_result"
    }
   ],
   "source": [
    "df.columns"
   ]
  },
  {
   "cell_type": "code",
   "execution_count": 7,
   "id": "20ef80a3",
   "metadata": {},
   "outputs": [
    {
     "name": "stderr",
     "output_type": "stream",
     "text": [
      "\r",
      "[Stage 3:>                                                          (0 + 1) / 1]\r"
     ]
    },
    {
     "name": "stdout",
     "output_type": "stream",
     "text": [
      "+-------+------------------+-----------+------+---------------------+---------------------+--------------------+-----------+------------------+----------------+\n",
      "|summary|          RecordID|    Country|Gender|Demographics Question|Demographics Response|            Question|Survey Year|             Value|   User feedback|\n",
      "+-------+------------------+-----------+------+---------------------+---------------------+--------------------+-----------+------------------+----------------+\n",
      "|  count|             12600|      12600| 12600|                12600|                12600|               12600|      12600|             11187|              79|\n",
      "|   mean|             210.5|       null|  null|                 null|                 null|                null|       null| 19.76253687315632|           232.2|\n",
      "| stddev|121.24802439346753|       null|  null|                 null|                 null|                null|       null|16.986436699740587|253.959051817414|\n",
      "|    min|                 1|Afghanistan|     F|                  Age|                15-24|... for at least ...| 01/01/2000|               0.0|                |\n",
      "|    max|               420|   Zimbabwe|     M|            Residence| Widowed, divorced...|... if she refuse...| 01/01/2018|              86.9|             r55|\n",
      "+-------+------------------+-----------+------+---------------------+---------------------+--------------------+-----------+------------------+----------------+\n",
      "\n"
     ]
    },
    {
     "name": "stderr",
     "output_type": "stream",
     "text": [
      "\r",
      "                                                                                \r"
     ]
    }
   ],
   "source": [
    "df.describe().show()"
   ]
  },
  {
   "cell_type": "code",
   "execution_count": 8,
   "id": "d6dfddab",
   "metadata": {},
   "outputs": [
    {
     "name": "stdout",
     "output_type": "stream",
     "text": [
      "root\n",
      " |-- RecordID: integer (nullable = true)\n",
      " |-- Country: string (nullable = true)\n",
      " |-- Gender: string (nullable = true)\n",
      " |-- Demographics Question: string (nullable = true)\n",
      " |-- Demographics Response: string (nullable = true)\n",
      " |-- Question: string (nullable = true)\n",
      " |-- Survey Year: string (nullable = true)\n",
      " |-- Value: double (nullable = true)\n",
      " |-- User feedback: string (nullable = true)\n",
      "\n"
     ]
    }
   ],
   "source": [
    "df.printSchema()"
   ]
  },
  {
   "cell_type": "code",
   "execution_count": 9,
   "id": "a859fb5a",
   "metadata": {},
   "outputs": [],
   "source": [
    "from pyspark.sql.types import (StructField,StringType,IntegerType,StructType)"
   ]
  },
  {
   "cell_type": "code",
   "execution_count": 10,
   "id": "579acf46",
   "metadata": {},
   "outputs": [
    {
     "name": "stdout",
     "output_type": "stream",
     "text": [
      "+-----------+\n",
      "|    Country|\n",
      "+-----------+\n",
      "|Afghanistan|\n",
      "|Afghanistan|\n",
      "|Afghanistan|\n",
      "|Afghanistan|\n",
      "|Afghanistan|\n",
      "|Afghanistan|\n",
      "|Afghanistan|\n",
      "|Afghanistan|\n",
      "|Afghanistan|\n",
      "|Afghanistan|\n",
      "|Afghanistan|\n",
      "|Afghanistan|\n",
      "|Afghanistan|\n",
      "|Afghanistan|\n",
      "|Afghanistan|\n",
      "|Afghanistan|\n",
      "|Afghanistan|\n",
      "|Afghanistan|\n",
      "|Afghanistan|\n",
      "|Afghanistan|\n",
      "+-----------+\n",
      "only showing top 20 rows\n",
      "\n"
     ]
    }
   ],
   "source": [
    "df.select('Country').show()"
   ]
  },
  {
   "cell_type": "code",
   "execution_count": 11,
   "id": "55fe5b7b",
   "metadata": {},
   "outputs": [
    {
     "name": "stdout",
     "output_type": "stream",
     "text": [
      "+-------+-----------+\n",
      "|summary|    Country|\n",
      "+-------+-----------+\n",
      "|  count|      12600|\n",
      "|   mean|       null|\n",
      "| stddev|       null|\n",
      "|    min|Afghanistan|\n",
      "|    max|   Zimbabwe|\n",
      "+-------+-----------+\n",
      "\n"
     ]
    }
   ],
   "source": [
    "df.select('Country').describe().show()"
   ]
  },
  {
   "cell_type": "code",
   "execution_count": 12,
   "id": "66c82c1b",
   "metadata": {},
   "outputs": [
    {
     "name": "stdout",
     "output_type": "stream",
     "text": [
      "+------+\n",
      "|Gender|\n",
      "+------+\n",
      "|     F|\n",
      "|     F|\n",
      "|     F|\n",
      "|     F|\n",
      "|     F|\n",
      "|     F|\n",
      "|     F|\n",
      "|     F|\n",
      "|     F|\n",
      "|     F|\n",
      "|     F|\n",
      "|     F|\n",
      "|     F|\n",
      "|     F|\n",
      "|     F|\n",
      "|     M|\n",
      "|     M|\n",
      "|     M|\n",
      "|     M|\n",
      "|     M|\n",
      "+------+\n",
      "only showing top 20 rows\n",
      "\n",
      "+-------+------+\n",
      "|summary|Gender|\n",
      "+-------+------+\n",
      "|  count| 12600|\n",
      "|   mean|  null|\n",
      "| stddev|  null|\n",
      "|    min|     F|\n",
      "|    max|     M|\n",
      "+-------+------+\n",
      "\n"
     ]
    }
   ],
   "source": [
    "df.select('Gender').show()\n",
    "df.select('Gender').describe().show()"
   ]
  },
  {
   "cell_type": "code",
   "execution_count": 13,
   "id": "e7a4cd7d",
   "metadata": {},
   "outputs": [
    {
     "name": "stdout",
     "output_type": "stream",
     "text": [
      "+---------------------+\n",
      "|Demographics Question|\n",
      "+---------------------+\n",
      "|       Marital status|\n",
      "|            Education|\n",
      "|            Education|\n",
      "|            Education|\n",
      "|       Marital status|\n",
      "|           Employment|\n",
      "|                  Age|\n",
      "|           Employment|\n",
      "|            Residence|\n",
      "|                  Age|\n",
      "|       Marital status|\n",
      "|            Residence|\n",
      "|                  Age|\n",
      "|            Education|\n",
      "|           Employment|\n",
      "|       Marital status|\n",
      "|            Education|\n",
      "|            Residence|\n",
      "|           Employment|\n",
      "|            Education|\n",
      "+---------------------+\n",
      "only showing top 20 rows\n",
      "\n",
      "+-------+---------------------+\n",
      "|summary|Demographics Question|\n",
      "+-------+---------------------+\n",
      "|  count|                12600|\n",
      "|   mean|                 null|\n",
      "| stddev|                 null|\n",
      "|    min|                  Age|\n",
      "|    max|            Residence|\n",
      "+-------+---------------------+\n",
      "\n"
     ]
    }
   ],
   "source": [
    "new = 'Demographics Question'\n",
    "\n",
    "df.select(new).show()\n",
    "df.select(new).describe().show()"
   ]
  },
  {
   "cell_type": "code",
   "execution_count": 14,
   "id": "3d58b997",
   "metadata": {},
   "outputs": [
    {
     "name": "stdout",
     "output_type": "stream",
     "text": [
      "+--------------------+\n",
      "|            Question|\n",
      "+--------------------+\n",
      "|... if she burns ...|\n",
      "|... if she burns ...|\n",
      "|... if she burns ...|\n",
      "|... if she burns ...|\n",
      "|... if she burns ...|\n",
      "|... if she burns ...|\n",
      "|... if she burns ...|\n",
      "|... if she burns ...|\n",
      "|... if she burns ...|\n",
      "|... if she burns ...|\n",
      "|... if she burns ...|\n",
      "|... if she burns ...|\n",
      "|... if she burns ...|\n",
      "|... if she burns ...|\n",
      "|... if she burns ...|\n",
      "|... if she burns ...|\n",
      "|... if she burns ...|\n",
      "|... if she burns ...|\n",
      "|... if she burns ...|\n",
      "|... if she burns ...|\n",
      "+--------------------+\n",
      "only showing top 20 rows\n",
      "\n",
      "+-------+--------------------+\n",
      "|summary|            Question|\n",
      "+-------+--------------------+\n",
      "|  count|               12600|\n",
      "|   mean|                null|\n",
      "| stddev|                null|\n",
      "|    min|... for at least ...|\n",
      "|    max|... if she refuse...|\n",
      "+-------+--------------------+\n",
      "\n"
     ]
    }
   ],
   "source": [
    "new = 'Question'\n",
    "\n",
    "df.select(new).show()\n",
    "df.select(new).describe().show()"
   ]
  },
  {
   "cell_type": "code",
   "execution_count": 15,
   "id": "6b31b1b2",
   "metadata": {},
   "outputs": [
    {
     "name": "stdout",
     "output_type": "stream",
     "text": [
      "+---------------------+\n",
      "|Demographics Response|\n",
      "+---------------------+\n",
      "|        Never married|\n",
      "|               Higher|\n",
      "|            Secondary|\n",
      "|              Primary|\n",
      "| Widowed, divorced...|\n",
      "|    Employed for kind|\n",
      "|                15-24|\n",
      "|           Unemployed|\n",
      "|                Rural|\n",
      "|                25-34|\n",
      "| Married or living...|\n",
      "|                Urban|\n",
      "|                35-49|\n",
      "|         No education|\n",
      "|    Employed for cash|\n",
      "|        Never married|\n",
      "|               Higher|\n",
      "|                Urban|\n",
      "|           Unemployed|\n",
      "|              Primary|\n",
      "+---------------------+\n",
      "only showing top 20 rows\n",
      "\n",
      "+-------+---------------------+\n",
      "|summary|Demographics Response|\n",
      "+-------+---------------------+\n",
      "|  count|                12600|\n",
      "|   mean|                 null|\n",
      "| stddev|                 null|\n",
      "|    min|                15-24|\n",
      "|    max| Widowed, divorced...|\n",
      "+-------+---------------------+\n",
      "\n"
     ]
    }
   ],
   "source": [
    "\n",
    "new = 'Demographics Response'\n",
    "\n",
    "df.select(new).show()\n",
    "df.select(new).describe().show()"
   ]
  },
  {
   "cell_type": "code",
   "execution_count": 16,
   "id": "a80a7100",
   "metadata": {},
   "outputs": [
    {
     "name": "stdout",
     "output_type": "stream",
     "text": [
      "+-----------+\n",
      "|Survey Year|\n",
      "+-----------+\n",
      "| 01/01/2015|\n",
      "| 01/01/2015|\n",
      "| 01/01/2015|\n",
      "| 01/01/2015|\n",
      "| 01/01/2015|\n",
      "| 01/01/2015|\n",
      "| 01/01/2015|\n",
      "| 01/01/2015|\n",
      "| 01/01/2015|\n",
      "| 01/01/2015|\n",
      "| 01/01/2015|\n",
      "| 01/01/2015|\n",
      "| 01/01/2015|\n",
      "| 01/01/2015|\n",
      "| 01/01/2015|\n",
      "| 01/01/2015|\n",
      "| 01/01/2015|\n",
      "| 01/01/2015|\n",
      "| 01/01/2015|\n",
      "| 01/01/2015|\n",
      "+-----------+\n",
      "only showing top 20 rows\n",
      "\n",
      "+-------+-----------+\n",
      "|summary|Survey Year|\n",
      "+-------+-----------+\n",
      "|  count|      12600|\n",
      "|   mean|       null|\n",
      "| stddev|       null|\n",
      "|    min| 01/01/2000|\n",
      "|    max| 01/01/2018|\n",
      "+-------+-----------+\n",
      "\n"
     ]
    }
   ],
   "source": [
    "\n",
    "new = 'Survey Year'\n",
    "\n",
    "df.select(new).show()\n",
    "df.select(new).describe().show()"
   ]
  },
  {
   "cell_type": "code",
   "execution_count": 17,
   "id": "bf3d65f1",
   "metadata": {},
   "outputs": [
    {
     "name": "stdout",
     "output_type": "stream",
     "text": [
      "+-----+\n",
      "|Value|\n",
      "+-----+\n",
      "| null|\n",
      "| 10.1|\n",
      "| 13.7|\n",
      "| 13.8|\n",
      "| 13.8|\n",
      "| 17.0|\n",
      "| 17.3|\n",
      "| 18.0|\n",
      "| 18.1|\n",
      "| 18.2|\n",
      "| 18.3|\n",
      "| 18.3|\n",
      "| 18.8|\n",
      "| 19.1|\n",
      "| 20.8|\n",
      "| null|\n",
      "|  4.5|\n",
      "|  4.6|\n",
      "|  5.2|\n",
      "|  6.3|\n",
      "+-----+\n",
      "only showing top 20 rows\n",
      "\n",
      "+-------+------------------+\n",
      "|summary|             Value|\n",
      "+-------+------------------+\n",
      "|  count|             11187|\n",
      "|   mean| 19.76253687315632|\n",
      "| stddev|16.986436699740587|\n",
      "|    min|               0.0|\n",
      "|    max|              86.9|\n",
      "+-------+------------------+\n",
      "\n"
     ]
    }
   ],
   "source": [
    "\n",
    "new = 'Value'\n",
    "\n",
    "df.select(new).show()\n",
    "df.select(new).describe().show()"
   ]
  },
  {
   "cell_type": "code",
   "execution_count": 18,
   "id": "ee63bb48",
   "metadata": {},
   "outputs": [
    {
     "name": "stdout",
     "output_type": "stream",
     "text": [
      "+-------------+\n",
      "|User feedback|\n",
      "+-------------+\n",
      "|         null|\n",
      "|         null|\n",
      "|         null|\n",
      "|           10|\n",
      "|         null|\n",
      "|         null|\n",
      "|           23|\n",
      "|            e|\n",
      "|           4t|\n",
      "|             |\n",
      "|         null|\n",
      "|         null|\n",
      "|          532|\n",
      "|         null|\n",
      "|         null|\n",
      "|         null|\n",
      "|         null|\n",
      "|          543|\n",
      "|         null|\n",
      "|         null|\n",
      "+-------------+\n",
      "only showing top 20 rows\n",
      "\n",
      "+-------+----------------+\n",
      "|summary|   User feedback|\n",
      "+-------+----------------+\n",
      "|  count|              79|\n",
      "|   mean|           232.2|\n",
      "| stddev|253.959051817414|\n",
      "|    min|                |\n",
      "|    max|             r55|\n",
      "+-------+----------------+\n",
      "\n"
     ]
    }
   ],
   "source": [
    "\n",
    "new = 'User feedback'\n",
    "\n",
    "df.select(new).show()\n",
    "df.select(new).describe().show()"
   ]
  },
  {
   "cell_type": "code",
   "execution_count": 19,
   "id": "de4181ae",
   "metadata": {},
   "outputs": [],
   "source": [
    "#3.1 drop the 'Usere feedback' field\n",
    "columns_to_drop = ['User feedback']\n",
    "new_df = df.drop(*columns_to_drop)"
   ]
  },
  {
   "cell_type": "code",
   "execution_count": 20,
   "id": "d23fc58e",
   "metadata": {},
   "outputs": [
    {
     "data": {
      "text/plain": [
       "['RecordID',\n",
       " 'Country',\n",
       " 'Gender',\n",
       " 'Demographics Question',\n",
       " 'Demographics Response',\n",
       " 'Question',\n",
       " 'Survey Year',\n",
       " 'Value']"
      ]
     },
     "execution_count": 20,
     "metadata": {},
     "output_type": "execute_result"
    }
   ],
   "source": [
    "new_df.columns"
   ]
  },
  {
   "cell_type": "code",
   "execution_count": 21,
   "id": "14a55c66",
   "metadata": {},
   "outputs": [],
   "source": [
    "#use your sales average to fill missing data. \n",
    "from pyspark.sql.functions import mean\n",
    "#3.2 Dealing with the null value in 'Value' field\n",
    "mean_value = df.select(mean(df['Value'])).collect()[0][0]\n",
    "new_df = new_df.na.fill({'Value': mean_value})"
   ]
  },
  {
   "cell_type": "code",
   "execution_count": 22,
   "id": "a3dd6144",
   "metadata": {},
   "outputs": [
    {
     "name": "stdout",
     "output_type": "stream",
     "text": [
      "+--------+-----------+------+---------------------+---------------------+--------------------+-----------+-----------------+\n",
      "|RecordID|    Country|Gender|Demographics Question|Demographics Response|            Question|Survey Year|            Value|\n",
      "+--------+-----------+------+---------------------+---------------------+--------------------+-----------+-----------------+\n",
      "|       1|Afghanistan|     F|       Marital status|        Never married|... if she burns ...| 01/01/2015|19.76253687315632|\n",
      "|       1|Afghanistan|     F|            Education|               Higher|... if she burns ...| 01/01/2015|             10.1|\n",
      "|       1|Afghanistan|     F|            Education|            Secondary|... if she burns ...| 01/01/2015|             13.7|\n",
      "|       1|Afghanistan|     F|            Education|              Primary|... if she burns ...| 01/01/2015|             13.8|\n",
      "|       1|Afghanistan|     F|       Marital status| Widowed, divorced...|... if she burns ...| 01/01/2015|             13.8|\n",
      "|       1|Afghanistan|     F|           Employment|    Employed for kind|... if she burns ...| 01/01/2015|             17.0|\n",
      "|       1|Afghanistan|     F|                  Age|                15-24|... if she burns ...| 01/01/2015|             17.3|\n",
      "|       1|Afghanistan|     F|           Employment|           Unemployed|... if she burns ...| 01/01/2015|             18.0|\n",
      "|       1|Afghanistan|     F|            Residence|                Rural|... if she burns ...| 01/01/2015|             18.1|\n",
      "|       1|Afghanistan|     F|                  Age|                25-34|... if she burns ...| 01/01/2015|             18.2|\n",
      "|       1|Afghanistan|     F|       Marital status| Married or living...|... if she burns ...| 01/01/2015|             18.3|\n",
      "|       1|Afghanistan|     F|            Residence|                Urban|... if she burns ...| 01/01/2015|             18.3|\n",
      "|       1|Afghanistan|     F|                  Age|                35-49|... if she burns ...| 01/01/2015|             18.8|\n",
      "|       1|Afghanistan|     F|            Education|         No education|... if she burns ...| 01/01/2015|             19.1|\n",
      "|       1|Afghanistan|     F|           Employment|    Employed for cash|... if she burns ...| 01/01/2015|             20.8|\n",
      "|       1|Afghanistan|     M|       Marital status|        Never married|... if she burns ...| 01/01/2015|19.76253687315632|\n",
      "|       1|Afghanistan|     M|            Education|               Higher|... if she burns ...| 01/01/2015|              4.5|\n",
      "|       1|Afghanistan|     M|            Residence|                Urban|... if she burns ...| 01/01/2015|              4.6|\n",
      "|       1|Afghanistan|     M|           Employment|           Unemployed|... if she burns ...| 01/01/2015|              5.2|\n",
      "|       1|Afghanistan|     M|            Education|              Primary|... if she burns ...| 01/01/2015|              6.3|\n",
      "+--------+-----------+------+---------------------+---------------------+--------------------+-----------+-----------------+\n",
      "only showing top 20 rows\n",
      "\n",
      "root\n",
      " |-- RecordID: integer (nullable = true)\n",
      " |-- Country: string (nullable = true)\n",
      " |-- Gender: string (nullable = true)\n",
      " |-- Demographics Question: string (nullable = true)\n",
      " |-- Demographics Response: string (nullable = true)\n",
      " |-- Question: string (nullable = true)\n",
      " |-- Survey Year: string (nullable = true)\n",
      " |-- Value: double (nullable = false)\n",
      "\n"
     ]
    }
   ],
   "source": [
    "new_df.show()\n",
    "new_df.printSchema()"
   ]
  },
  {
   "cell_type": "code",
   "execution_count": 23,
   "id": "5783a8ae",
   "metadata": {},
   "outputs": [
    {
     "name": "stdout",
     "output_type": "stream",
     "text": [
      "+-----------------+\n",
      "|            Value|\n",
      "+-----------------+\n",
      "|19.76253687315632|\n",
      "|             10.1|\n",
      "|             13.7|\n",
      "|             13.8|\n",
      "|             13.8|\n",
      "|             17.0|\n",
      "|             17.3|\n",
      "|             18.0|\n",
      "|             18.1|\n",
      "|             18.2|\n",
      "|             18.3|\n",
      "|             18.3|\n",
      "|             18.8|\n",
      "|             19.1|\n",
      "|             20.8|\n",
      "|19.76253687315632|\n",
      "|              4.5|\n",
      "|              4.6|\n",
      "|              5.2|\n",
      "|              6.3|\n",
      "+-----------------+\n",
      "only showing top 20 rows\n",
      "\n",
      "+-------+------------------+\n",
      "|summary|             Value|\n",
      "+-------+------------------+\n",
      "|  count|             12600|\n",
      "|   mean| 19.76253687315705|\n",
      "| stddev|16.005588776096097|\n",
      "|    min|               0.0|\n",
      "|    max|              86.9|\n",
      "+-------+------------------+\n",
      "\n"
     ]
    }
   ],
   "source": [
    "new = 'Value'\n",
    "\n",
    "new_df.select(new).show()\n",
    "new_df.select(new).describe().show()"
   ]
  },
  {
   "cell_type": "code",
   "execution_count": 24,
   "id": "e85507af",
   "metadata": {},
   "outputs": [],
   "source": [
    "#3.3 Constructing new data from 'Value' called 'Measurement'\n",
    "from pyspark.sql.functions import mean, col, when \n",
    "data_copy_33 = new_df.withColumn(\n",
    "    'Measurement',\n",
    "    when(col('Value') == mean_value, 0).otherwise(1)\n",
    ")\n"
   ]
  },
  {
   "cell_type": "code",
   "execution_count": 25,
   "id": "90536425",
   "metadata": {},
   "outputs": [
    {
     "name": "stdout",
     "output_type": "stream",
     "text": [
      "+-----------+\n",
      "|Measurement|\n",
      "+-----------+\n",
      "|          0|\n",
      "|          1|\n",
      "|          1|\n",
      "|          1|\n",
      "|          1|\n",
      "|          1|\n",
      "|          1|\n",
      "|          1|\n",
      "|          1|\n",
      "|          1|\n",
      "|          1|\n",
      "|          1|\n",
      "|          1|\n",
      "|          1|\n",
      "|          1|\n",
      "|          0|\n",
      "|          1|\n",
      "|          1|\n",
      "|          1|\n",
      "|          1|\n",
      "+-----------+\n",
      "only showing top 20 rows\n",
      "\n",
      "+-------+-------------------+\n",
      "|summary|        Measurement|\n",
      "+-------+-------------------+\n",
      "|  count|              12600|\n",
      "|   mean| 0.8878571428571429|\n",
      "| stddev|0.31555465373180014|\n",
      "|    min|                  0|\n",
      "|    max|                  1|\n",
      "+-------+-------------------+\n",
      "\n"
     ]
    }
   ],
   "source": [
    "new = 'Measurement'\n",
    "\n",
    "data_copy_33.select(new).show()\n",
    "data_copy_33.select(new).describe().show()"
   ]
  },
  {
   "cell_type": "code",
   "execution_count": 26,
   "id": "f6358654",
   "metadata": {},
   "outputs": [
    {
     "name": "stdout",
     "output_type": "stream",
     "text": [
      "root\n",
      " |-- RecordID: integer (nullable = true)\n",
      " |-- Country: string (nullable = true)\n",
      " |-- Gender: string (nullable = true)\n",
      " |-- Demographics Question: string (nullable = true)\n",
      " |-- Demographics Response: string (nullable = true)\n",
      " |-- Question: string (nullable = true)\n",
      " |-- Survey Year: string (nullable = true)\n",
      " |-- Value: double (nullable = false)\n",
      " |-- Measurement: integer (nullable = false)\n",
      "\n"
     ]
    }
   ],
   "source": [
    "data_copy_33.printSchema()"
   ]
  },
  {
   "cell_type": "code",
   "execution_count": 40,
   "id": "ee1ee946",
   "metadata": {},
   "outputs": [
    {
     "name": "stdout",
     "output_type": "stream",
     "text": [
      "+-----------------+\n",
      "|            Value|\n",
      "+-----------------+\n",
      "|19.76253687315632|\n",
      "|             10.1|\n",
      "|             13.7|\n",
      "|             13.8|\n",
      "|             13.8|\n",
      "|             17.0|\n",
      "|             17.3|\n",
      "|             18.0|\n",
      "|             18.1|\n",
      "|             18.2|\n",
      "|             18.3|\n",
      "|             18.3|\n",
      "|             18.8|\n",
      "|             19.1|\n",
      "|             20.8|\n",
      "|19.76253687315632|\n",
      "|              4.5|\n",
      "|              4.6|\n",
      "|              5.2|\n",
      "|              6.3|\n",
      "+-----------------+\n",
      "only showing top 20 rows\n",
      "\n",
      "+-------+------------------+\n",
      "|summary|             Value|\n",
      "+-------+------------------+\n",
      "|  count|             12600|\n",
      "|   mean| 19.76253687315705|\n",
      "| stddev|16.005588776096097|\n",
      "|    min|               0.0|\n",
      "|    max|              86.9|\n",
      "+-------+------------------+\n",
      "\n"
     ]
    }
   ],
   "source": [
    "new = 'Value'\n",
    "\n",
    "data_copy_33.select(new).show()\n",
    "data_copy_33.select(new).describe().show()"
   ]
  },
  {
   "cell_type": "code",
   "execution_count": 27,
   "id": "07ffe426",
   "metadata": {},
   "outputs": [],
   "source": [
    "#3.4 Merging with other dataframe\n",
    "file2 = 'violence_data_merge.csv'\n",
    "merge_df = spark.read.csv(file2, header=True, inferSchema=True)"
   ]
  },
  {
   "cell_type": "code",
   "execution_count": 28,
   "id": "4b5aa2cd",
   "metadata": {
    "scrolled": true
   },
   "outputs": [
    {
     "name": "stdout",
     "output_type": "stream",
     "text": [
      "+--------+----+----+----+----+----+----+----+-------------+\n",
      "|RecordID| _c1| _c2| _c3| _c4| _c5| _c6| _c7|User feedback|\n",
      "+--------+----+----+----+----+----+----+----+-------------+\n",
      "|       1|null|null|null|null|null|null|null|         null|\n",
      "|       1|null|null|null|null|null|null|null|         null|\n",
      "|       1|null|null|null|null|null|null|null|         null|\n",
      "|       1|null|null|null|null|null|null|null|           10|\n",
      "|       1|null|null|null|null|null|null|null|         null|\n",
      "|       1|null|null|null|null|null|null|null|         null|\n",
      "|       1|null|null|null|null|null|null|null|           23|\n",
      "|       1|null|null|null|null|null|null|null|            e|\n",
      "|       1|null|null|null|null|null|null|null|           4t|\n",
      "|       1|null|null|null|null|null|null|null|             |\n",
      "|       1|null|null|null|null|null|null|null|         null|\n",
      "|       1|null|null|null|null|null|null|null|         null|\n",
      "|       1|null|null|null|null|null|null|null|          532|\n",
      "|       1|null|null|null|null|null|null|null|         null|\n",
      "|       1|null|null|null|null|null|null|null|         null|\n",
      "|       1|null|null|null|null|null|null|null|         null|\n",
      "|       1|null|null|null|null|null|null|null|         null|\n",
      "|       1|null|null|null|null|null|null|null|          543|\n",
      "|       1|null|null|null|null|null|null|null|         null|\n",
      "|       1|null|null|null|null|null|null|null|         null|\n",
      "+--------+----+----+----+----+----+----+----+-------------+\n",
      "only showing top 20 rows\n",
      "\n"
     ]
    },
    {
     "name": "stderr",
     "output_type": "stream",
     "text": [
      "23/10/10 06:12:42 WARN CSVHeaderChecker: CSV header does not conform to the schema.\n",
      " Header: RecordID, , , , , , , , User feedback\n",
      " Schema: RecordID, _c1, _c2, _c3, _c4, _c5, _c6, _c7, User feedback\n",
      "Expected: _c1 but found: \n",
      "CSV file: file:///home/ubuntu/722_I4/violence_data_merge.csv\n"
     ]
    }
   ],
   "source": [
    "merge_df.show()"
   ]
  },
  {
   "cell_type": "code",
   "execution_count": 41,
   "id": "967035c8",
   "metadata": {},
   "outputs": [],
   "source": [
    "merged_data = data_copy_33.join(merge_df, 'RecordID')"
   ]
  },
  {
   "cell_type": "code",
   "execution_count": 42,
   "id": "43128290",
   "metadata": {},
   "outputs": [
    {
     "name": "stdout",
     "output_type": "stream",
     "text": [
      "+-----------------+\n",
      "|            Value|\n",
      "+-----------------+\n",
      "|19.76253687315632|\n",
      "|19.76253687315632|\n",
      "|19.76253687315632|\n",
      "|19.76253687315632|\n",
      "|19.76253687315632|\n",
      "|19.76253687315632|\n",
      "|19.76253687315632|\n",
      "|19.76253687315632|\n",
      "|19.76253687315632|\n",
      "|19.76253687315632|\n",
      "|19.76253687315632|\n",
      "|19.76253687315632|\n",
      "|19.76253687315632|\n",
      "|19.76253687315632|\n",
      "|19.76253687315632|\n",
      "|19.76253687315632|\n",
      "|19.76253687315632|\n",
      "|19.76253687315632|\n",
      "|19.76253687315632|\n",
      "|19.76253687315632|\n",
      "+-----------------+\n",
      "only showing top 20 rows\n",
      "\n",
      "+-------+------------------+\n",
      "|summary|             Value|\n",
      "+-------+------------------+\n",
      "|  count|            378000|\n",
      "|   mean| 19.76253687315055|\n",
      "| stddev|16.004974791697258|\n",
      "|    min|               0.0|\n",
      "|    max|              86.9|\n",
      "+-------+------------------+\n",
      "\n"
     ]
    }
   ],
   "source": [
    "new = 'Value'\n",
    "\n",
    "merged_data.select(new).show()\n",
    "merged_data.select(new).describe().show()"
   ]
  },
  {
   "cell_type": "code",
   "execution_count": 38,
   "id": "6a54d672",
   "metadata": {},
   "outputs": [
    {
     "name": "stderr",
     "output_type": "stream",
     "text": [
      "23/10/10 06:15:41 WARN CSVHeaderChecker: CSV header does not conform to the schema.\n",
      " Header: RecordID, , , , , , , , User feedback\n",
      " Schema: RecordID, _c1, _c2, _c3, _c4, _c5, _c6, _c7, User feedback\n",
      "Expected: _c1 but found: \n",
      "CSV file: file:///home/ubuntu/722_I4/violence_data_merge.csv\n"
     ]
    },
    {
     "name": "stdout",
     "output_type": "stream",
     "text": [
      "+--------+-----------+------+---------------------+---------------------+--------------------+-----------+-----------------+----+----+----+----+----+----+----+-------------+\n",
      "|RecordID|    Country|Gender|Demographics Question|Demographics Response|            Question|Survey Year|            Value| _c1| _c2| _c3| _c4| _c5| _c6| _c7|User feedback|\n",
      "+--------+-----------+------+---------------------+---------------------+--------------------+-----------+-----------------+----+----+----+----+----+----+----+-------------+\n",
      "|       1|Afghanistan|     F|       Marital status|        Never married|... if she burns ...| 01/01/2015|19.76253687315632|null|null|null|null|null|null|null|           4e|\n",
      "|       1|Afghanistan|     F|       Marital status|        Never married|... if she burns ...| 01/01/2015|19.76253687315632|null|null|null|null|null|null|null|         gf43|\n",
      "|       1|Afghanistan|     F|       Marital status|        Never married|... if she burns ...| 01/01/2015|19.76253687315632|null|null|null|null|null|null|null|         null|\n",
      "|       1|Afghanistan|     F|       Marital status|        Never married|... if she burns ...| 01/01/2015|19.76253687315632|null|null|null|null|null|null|null|         null|\n",
      "|       1|Afghanistan|     F|       Marital status|        Never married|... if she burns ...| 01/01/2015|19.76253687315632|null|null|null|null|null|null|null|        fdcet|\n",
      "|       1|Afghanistan|     F|       Marital status|        Never married|... if she burns ...| 01/01/2015|19.76253687315632|null|null|null|null|null|null|null|         null|\n",
      "|       1|Afghanistan|     F|       Marital status|        Never married|... if she burns ...| 01/01/2015|19.76253687315632|null|null|null|null|null|null|null|         null|\n",
      "|       1|Afghanistan|     F|       Marital status|        Never married|... if she burns ...| 01/01/2015|19.76253687315632|null|null|null|null|null|null|null|           f5|\n",
      "|       1|Afghanistan|     F|       Marital status|        Never married|... if she burns ...| 01/01/2015|19.76253687315632|null|null|null|null|null|null|null|         null|\n",
      "|       1|Afghanistan|     F|       Marital status|        Never married|... if she burns ...| 01/01/2015|19.76253687315632|null|null|null|null|null|null|null|         r54t|\n",
      "|       1|Afghanistan|     F|       Marital status|        Never married|... if she burns ...| 01/01/2015|19.76253687315632|null|null|null|null|null|null|null|         null|\n",
      "|       1|Afghanistan|     F|       Marital status|        Never married|... if she burns ...| 01/01/2015|19.76253687315632|null|null|null|null|null|null|null|         null|\n",
      "|       1|Afghanistan|     F|       Marital status|        Never married|... if she burns ...| 01/01/2015|19.76253687315632|null|null|null|null|null|null|null|          543|\n",
      "|       1|Afghanistan|     F|       Marital status|        Never married|... if she burns ...| 01/01/2015|19.76253687315632|null|null|null|null|null|null|null|         null|\n",
      "|       1|Afghanistan|     F|       Marital status|        Never married|... if she burns ...| 01/01/2015|19.76253687315632|null|null|null|null|null|null|null|         null|\n",
      "|       1|Afghanistan|     F|       Marital status|        Never married|... if she burns ...| 01/01/2015|19.76253687315632|null|null|null|null|null|null|null|         null|\n",
      "|       1|Afghanistan|     F|       Marital status|        Never married|... if she burns ...| 01/01/2015|19.76253687315632|null|null|null|null|null|null|null|         null|\n",
      "|       1|Afghanistan|     F|       Marital status|        Never married|... if she burns ...| 01/01/2015|19.76253687315632|null|null|null|null|null|null|null|          532|\n",
      "|       1|Afghanistan|     F|       Marital status|        Never married|... if she burns ...| 01/01/2015|19.76253687315632|null|null|null|null|null|null|null|         null|\n",
      "|       1|Afghanistan|     F|       Marital status|        Never married|... if she burns ...| 01/01/2015|19.76253687315632|null|null|null|null|null|null|null|         null|\n",
      "+--------+-----------+------+---------------------+---------------------+--------------------+-----------+-----------------+----+----+----+----+----+----+----+-------------+\n",
      "only showing top 20 rows\n",
      "\n",
      "root\n",
      " |-- RecordID: integer (nullable = true)\n",
      " |-- Country: string (nullable = true)\n",
      " |-- Gender: string (nullable = true)\n",
      " |-- Demographics Question: string (nullable = true)\n",
      " |-- Demographics Response: string (nullable = true)\n",
      " |-- Question: string (nullable = true)\n",
      " |-- Survey Year: string (nullable = true)\n",
      " |-- Value: double (nullable = false)\n",
      " |-- _c1: string (nullable = true)\n",
      " |-- _c2: string (nullable = true)\n",
      " |-- _c3: string (nullable = true)\n",
      " |-- _c4: string (nullable = true)\n",
      " |-- _c5: string (nullable = true)\n",
      " |-- _c6: string (nullable = true)\n",
      " |-- _c7: string (nullable = true)\n",
      " |-- User feedback: string (nullable = true)\n",
      "\n"
     ]
    }
   ],
   "source": [
    "merged_data.show()\n",
    "merged_data.printSchema()"
   ]
  },
  {
   "cell_type": "code",
   "execution_count": 31,
   "id": "921fd5a7",
   "metadata": {},
   "outputs": [],
   "source": [
    "#3.5 Removing all the other fields that do not have anything contains\n",
    "columns_to_drop = ['_c1', '_c2', '_c3', '_c4', '_c5', '_c6', '_c7']\n",
    "merged_data = merged_data.drop(*columns_to_drop)"
   ]
  },
  {
   "cell_type": "code",
   "execution_count": 32,
   "id": "ce614c09",
   "metadata": {},
   "outputs": [
    {
     "name": "stdout",
     "output_type": "stream",
     "text": [
      "root\n",
      " |-- RecordID: integer (nullable = true)\n",
      " |-- Country: string (nullable = true)\n",
      " |-- Gender: string (nullable = true)\n",
      " |-- Demographics Question: string (nullable = true)\n",
      " |-- Demographics Response: string (nullable = true)\n",
      " |-- Question: string (nullable = true)\n",
      " |-- Survey Year: string (nullable = true)\n",
      " |-- Value: double (nullable = false)\n",
      " |-- Measurement: integer (nullable = false)\n",
      " |-- User feedback: string (nullable = true)\n",
      "\n"
     ]
    }
   ],
   "source": [
    "merged_data.printSchema()"
   ]
  },
  {
   "cell_type": "code",
   "execution_count": null,
   "id": "e57265a0",
   "metadata": {},
   "outputs": [],
   "source": []
  }
 ],
 "metadata": {
  "kernelspec": {
   "display_name": "Python 3 (ipykernel)",
   "language": "python",
   "name": "python3"
  },
  "language_info": {
   "codemirror_mode": {
    "name": "ipython",
    "version": 3
   },
   "file_extension": ".py",
   "mimetype": "text/x-python",
   "name": "python",
   "nbconvert_exporter": "python",
   "pygments_lexer": "ipython3",
   "version": "3.10.12"
  }
 },
 "nbformat": 4,
 "nbformat_minor": 5
}
