{
 "cells": [
  {
   "cell_type": "markdown",
   "id": "89eda58d",
   "metadata": {},
   "source": [
    "This is some connect "
   ]
  },
  {
   "cell_type": "code",
   "execution_count": 40,
   "id": "671e6d0d",
   "metadata": {
    "scrolled": true
   },
   "outputs": [],
   "source": [
    "# Must be included at the beginning of each new notebook. Remember to change the app name.\n",
    "import findspark\n",
    "findspark.init('/home/ubuntu/spark-3.2.1-bin-hadoop2.7')\n",
    "import pyspark\n",
    "from pyspark.sql import SparkSession\n",
    "spark = SparkSession.builder.appName('basics').getOrCreate()"
   ]
  },
  {
   "cell_type": "code",
   "execution_count": 41,
   "id": "fff31127",
   "metadata": {},
   "outputs": [],
   "source": [
    "file = 'violence_data_NEW.csv'\n",
    "df = spark.read.csv(file, header=True, inferSchema=True)"
   ]
  },
  {
   "cell_type": "code",
   "execution_count": 42,
   "id": "a859fb5a",
   "metadata": {},
   "outputs": [],
   "source": [
    "from pyspark.sql.types import (StructField,StringType,IntegerType,StructType)"
   ]
  },
  {
   "cell_type": "code",
   "execution_count": 43,
   "id": "de4181ae",
   "metadata": {},
   "outputs": [],
   "source": [
    "#3.1 drop the 'Usere feedback' field\n",
    "columns_to_drop = ['User feedback']\n",
    "new_df = df.drop(*columns_to_drop)"
   ]
  },
  {
   "cell_type": "code",
   "execution_count": 44,
   "id": "d23fc58e",
   "metadata": {},
   "outputs": [
    {
     "data": {
      "text/plain": [
       "['RecordID',\n",
       " 'Country',\n",
       " 'Gender',\n",
       " 'Demographics Question',\n",
       " 'Demographics Response',\n",
       " 'Question',\n",
       " 'Survey Year',\n",
       " 'Value']"
      ]
     },
     "execution_count": 44,
     "metadata": {},
     "output_type": "execute_result"
    }
   ],
   "source": [
    "new_df.columns"
   ]
  },
  {
   "cell_type": "code",
   "execution_count": 45,
   "id": "14a55c66",
   "metadata": {},
   "outputs": [],
   "source": [
    "#use your sales average to fill missing data. \n",
    "from pyspark.sql.functions import mean\n",
    "#3.2 Dealing with the null value in 'Value' field\n",
    "mean_value = df.select(mean(df['Value'])).collect()[0][0]\n",
    "new_df = new_df.na.fill({'Value': mean_value})"
   ]
  },
  {
   "cell_type": "code",
   "execution_count": 46,
   "id": "a3dd6144",
   "metadata": {},
   "outputs": [
    {
     "name": "stdout",
     "output_type": "stream",
     "text": [
      "+--------+-----------+------+---------------------+---------------------+--------------------+-----------+-----------------+\n",
      "|RecordID|    Country|Gender|Demographics Question|Demographics Response|            Question|Survey Year|            Value|\n",
      "+--------+-----------+------+---------------------+---------------------+--------------------+-----------+-----------------+\n",
      "|       1|Afghanistan|     F|       Marital status|        Never married|... if she burns ...| 01/01/2015|19.76253687315632|\n",
      "|       1|Afghanistan|     F|            Education|               Higher|... if she burns ...| 01/01/2015|             10.1|\n",
      "|       1|Afghanistan|     F|            Education|            Secondary|... if she burns ...| 01/01/2015|             13.7|\n",
      "|       1|Afghanistan|     F|            Education|              Primary|... if she burns ...| 01/01/2015|             13.8|\n",
      "|       1|Afghanistan|     F|       Marital status| Widowed, divorced...|... if she burns ...| 01/01/2015|             13.8|\n",
      "|       1|Afghanistan|     F|           Employment|    Employed for kind|... if she burns ...| 01/01/2015|             17.0|\n",
      "|       1|Afghanistan|     F|                  Age|                15-24|... if she burns ...| 01/01/2015|             17.3|\n",
      "|       1|Afghanistan|     F|           Employment|           Unemployed|... if she burns ...| 01/01/2015|             18.0|\n",
      "|       1|Afghanistan|     F|            Residence|                Rural|... if she burns ...| 01/01/2015|             18.1|\n",
      "|       1|Afghanistan|     F|                  Age|                25-34|... if she burns ...| 01/01/2015|             18.2|\n",
      "|       1|Afghanistan|     F|       Marital status| Married or living...|... if she burns ...| 01/01/2015|             18.3|\n",
      "|       1|Afghanistan|     F|            Residence|                Urban|... if she burns ...| 01/01/2015|             18.3|\n",
      "|       1|Afghanistan|     F|                  Age|                35-49|... if she burns ...| 01/01/2015|             18.8|\n",
      "|       1|Afghanistan|     F|            Education|         No education|... if she burns ...| 01/01/2015|             19.1|\n",
      "|       1|Afghanistan|     F|           Employment|    Employed for cash|... if she burns ...| 01/01/2015|             20.8|\n",
      "|       1|Afghanistan|     M|       Marital status|        Never married|... if she burns ...| 01/01/2015|19.76253687315632|\n",
      "|       1|Afghanistan|     M|            Education|               Higher|... if she burns ...| 01/01/2015|              4.5|\n",
      "|       1|Afghanistan|     M|            Residence|                Urban|... if she burns ...| 01/01/2015|              4.6|\n",
      "|       1|Afghanistan|     M|           Employment|           Unemployed|... if she burns ...| 01/01/2015|              5.2|\n",
      "|       1|Afghanistan|     M|            Education|              Primary|... if she burns ...| 01/01/2015|              6.3|\n",
      "+--------+-----------+------+---------------------+---------------------+--------------------+-----------+-----------------+\n",
      "only showing top 20 rows\n",
      "\n",
      "root\n",
      " |-- RecordID: integer (nullable = true)\n",
      " |-- Country: string (nullable = true)\n",
      " |-- Gender: string (nullable = true)\n",
      " |-- Demographics Question: string (nullable = true)\n",
      " |-- Demographics Response: string (nullable = true)\n",
      " |-- Question: string (nullable = true)\n",
      " |-- Survey Year: string (nullable = true)\n",
      " |-- Value: double (nullable = false)\n",
      "\n"
     ]
    }
   ],
   "source": [
    "new_df.show()\n",
    "new_df.printSchema()"
   ]
  },
  {
   "cell_type": "code",
   "execution_count": 47,
   "id": "5783a8ae",
   "metadata": {},
   "outputs": [
    {
     "name": "stdout",
     "output_type": "stream",
     "text": [
      "+-----------------+\n",
      "|            Value|\n",
      "+-----------------+\n",
      "|19.76253687315632|\n",
      "|             10.1|\n",
      "|             13.7|\n",
      "|             13.8|\n",
      "|             13.8|\n",
      "|             17.0|\n",
      "|             17.3|\n",
      "|             18.0|\n",
      "|             18.1|\n",
      "|             18.2|\n",
      "|             18.3|\n",
      "|             18.3|\n",
      "|             18.8|\n",
      "|             19.1|\n",
      "|             20.8|\n",
      "|19.76253687315632|\n",
      "|              4.5|\n",
      "|              4.6|\n",
      "|              5.2|\n",
      "|              6.3|\n",
      "+-----------------+\n",
      "only showing top 20 rows\n",
      "\n",
      "+-------+------------------+\n",
      "|summary|             Value|\n",
      "+-------+------------------+\n",
      "|  count|             12600|\n",
      "|   mean| 19.76253687315705|\n",
      "| stddev|16.005588776096097|\n",
      "|    min|               0.0|\n",
      "|    max|              86.9|\n",
      "+-------+------------------+\n",
      "\n"
     ]
    }
   ],
   "source": [
    "new = 'Value'\n",
    "\n",
    "new_df.select(new).show()\n",
    "new_df.select(new).describe().show()"
   ]
  },
  {
   "cell_type": "code",
   "execution_count": 48,
   "id": "e85507af",
   "metadata": {},
   "outputs": [],
   "source": [
    "#3.3 Constructing new data from 'Value' called 'Measurement'\n",
    "from pyspark.sql.functions import mean, col, when \n",
    "data_copy_33 = new_df.withColumn(\n",
    "    'Measurement',\n",
    "    when(col('Value') == mean_value, 0).otherwise(1)\n",
    ")\n"
   ]
  },
  {
   "cell_type": "code",
   "execution_count": 49,
   "id": "90536425",
   "metadata": {},
   "outputs": [
    {
     "name": "stdout",
     "output_type": "stream",
     "text": [
      "+-----------+\n",
      "|Measurement|\n",
      "+-----------+\n",
      "|          0|\n",
      "|          1|\n",
      "|          1|\n",
      "|          1|\n",
      "|          1|\n",
      "|          1|\n",
      "|          1|\n",
      "|          1|\n",
      "|          1|\n",
      "|          1|\n",
      "|          1|\n",
      "|          1|\n",
      "|          1|\n",
      "|          1|\n",
      "|          1|\n",
      "|          0|\n",
      "|          1|\n",
      "|          1|\n",
      "|          1|\n",
      "|          1|\n",
      "+-----------+\n",
      "only showing top 20 rows\n",
      "\n",
      "+-------+-------------------+\n",
      "|summary|        Measurement|\n",
      "+-------+-------------------+\n",
      "|  count|              12600|\n",
      "|   mean| 0.8878571428571429|\n",
      "| stddev|0.31555465373180014|\n",
      "|    min|                  0|\n",
      "|    max|                  1|\n",
      "+-------+-------------------+\n",
      "\n"
     ]
    }
   ],
   "source": [
    "new = 'Measurement'\n",
    "\n",
    "data_copy_33.select(new).show()\n",
    "data_copy_33.select(new).describe().show()"
   ]
  },
  {
   "cell_type": "code",
   "execution_count": 50,
   "id": "f6358654",
   "metadata": {},
   "outputs": [
    {
     "name": "stdout",
     "output_type": "stream",
     "text": [
      "root\n",
      " |-- RecordID: integer (nullable = true)\n",
      " |-- Country: string (nullable = true)\n",
      " |-- Gender: string (nullable = true)\n",
      " |-- Demographics Question: string (nullable = true)\n",
      " |-- Demographics Response: string (nullable = true)\n",
      " |-- Question: string (nullable = true)\n",
      " |-- Survey Year: string (nullable = true)\n",
      " |-- Value: double (nullable = false)\n",
      " |-- Measurement: integer (nullable = false)\n",
      "\n"
     ]
    }
   ],
   "source": [
    "data_copy_33.printSchema()"
   ]
  },
  {
   "cell_type": "code",
   "execution_count": 51,
   "id": "07ffe426",
   "metadata": {},
   "outputs": [],
   "source": [
    "#3.4 Merging with other dataframe\n",
    "file2 = 'violence_data_merge.csv'\n",
    "merge_df = spark.read.csv(file2, header=True, inferSchema=True)"
   ]
  },
  {
   "cell_type": "code",
   "execution_count": 52,
   "id": "4b5aa2cd",
   "metadata": {
    "scrolled": true
   },
   "outputs": [
    {
     "name": "stdout",
     "output_type": "stream",
     "text": [
      "+--------+----+----+----+----+----+----+----+-------------+\n",
      "|RecordID| _c1| _c2| _c3| _c4| _c5| _c6| _c7|User feedback|\n",
      "+--------+----+----+----+----+----+----+----+-------------+\n",
      "|       1|null|null|null|null|null|null|null|         null|\n",
      "|       1|null|null|null|null|null|null|null|         null|\n",
      "|       1|null|null|null|null|null|null|null|         null|\n",
      "|       1|null|null|null|null|null|null|null|           10|\n",
      "|       1|null|null|null|null|null|null|null|         null|\n",
      "|       1|null|null|null|null|null|null|null|         null|\n",
      "|       1|null|null|null|null|null|null|null|           23|\n",
      "|       1|null|null|null|null|null|null|null|            e|\n",
      "|       1|null|null|null|null|null|null|null|           4t|\n",
      "|       1|null|null|null|null|null|null|null|             |\n",
      "|       1|null|null|null|null|null|null|null|         null|\n",
      "|       1|null|null|null|null|null|null|null|         null|\n",
      "|       1|null|null|null|null|null|null|null|          532|\n",
      "|       1|null|null|null|null|null|null|null|         null|\n",
      "|       1|null|null|null|null|null|null|null|         null|\n",
      "|       1|null|null|null|null|null|null|null|         null|\n",
      "|       1|null|null|null|null|null|null|null|         null|\n",
      "|       1|null|null|null|null|null|null|null|          543|\n",
      "|       1|null|null|null|null|null|null|null|         null|\n",
      "|       1|null|null|null|null|null|null|null|         null|\n",
      "+--------+----+----+----+----+----+----+----+-------------+\n",
      "only showing top 20 rows\n",
      "\n"
     ]
    },
    {
     "name": "stderr",
     "output_type": "stream",
     "text": [
      "23/10/12 13:48:20 WARN CSVHeaderChecker: CSV header does not conform to the schema.\n",
      " Header: RecordID, , , , , , , , User feedback\n",
      " Schema: RecordID, _c1, _c2, _c3, _c4, _c5, _c6, _c7, User feedback\n",
      "Expected: _c1 but found: \n",
      "CSV file: file:///home/ubuntu/722_I4/violence_data_merge.csv\n"
     ]
    }
   ],
   "source": [
    "merge_df.show()"
   ]
  },
  {
   "cell_type": "code",
   "execution_count": 53,
   "id": "967035c8",
   "metadata": {},
   "outputs": [],
   "source": [
    "merged_data = data_copy_33.join(merge_df, 'RecordID')"
   ]
  },
  {
   "cell_type": "code",
   "execution_count": 54,
   "id": "6a54d672",
   "metadata": {},
   "outputs": [
    {
     "name": "stderr",
     "output_type": "stream",
     "text": [
      "23/10/12 13:48:21 WARN CSVHeaderChecker: CSV header does not conform to the schema.\n",
      " Header: RecordID, , , , , , , , User feedback\n",
      " Schema: RecordID, _c1, _c2, _c3, _c4, _c5, _c6, _c7, User feedback\n",
      "Expected: _c1 but found: \n",
      "CSV file: file:///home/ubuntu/722_I4/violence_data_merge.csv\n"
     ]
    },
    {
     "name": "stdout",
     "output_type": "stream",
     "text": [
      "+--------+-----------+------+---------------------+---------------------+--------------------+-----------+-----------------+-----------+----+----+----+----+----+----+----+-------------+\n",
      "|RecordID|    Country|Gender|Demographics Question|Demographics Response|            Question|Survey Year|            Value|Measurement| _c1| _c2| _c3| _c4| _c5| _c6| _c7|User feedback|\n",
      "+--------+-----------+------+---------------------+---------------------+--------------------+-----------+-----------------+-----------+----+----+----+----+----+----+----+-------------+\n",
      "|       1|Afghanistan|     F|       Marital status|        Never married|... if she burns ...| 01/01/2015|19.76253687315632|          0|null|null|null|null|null|null|null|           4e|\n",
      "|       1|Afghanistan|     F|       Marital status|        Never married|... if she burns ...| 01/01/2015|19.76253687315632|          0|null|null|null|null|null|null|null|         gf43|\n",
      "|       1|Afghanistan|     F|       Marital status|        Never married|... if she burns ...| 01/01/2015|19.76253687315632|          0|null|null|null|null|null|null|null|         null|\n",
      "|       1|Afghanistan|     F|       Marital status|        Never married|... if she burns ...| 01/01/2015|19.76253687315632|          0|null|null|null|null|null|null|null|         null|\n",
      "|       1|Afghanistan|     F|       Marital status|        Never married|... if she burns ...| 01/01/2015|19.76253687315632|          0|null|null|null|null|null|null|null|        fdcet|\n",
      "|       1|Afghanistan|     F|       Marital status|        Never married|... if she burns ...| 01/01/2015|19.76253687315632|          0|null|null|null|null|null|null|null|         null|\n",
      "|       1|Afghanistan|     F|       Marital status|        Never married|... if she burns ...| 01/01/2015|19.76253687315632|          0|null|null|null|null|null|null|null|         null|\n",
      "|       1|Afghanistan|     F|       Marital status|        Never married|... if she burns ...| 01/01/2015|19.76253687315632|          0|null|null|null|null|null|null|null|           f5|\n",
      "|       1|Afghanistan|     F|       Marital status|        Never married|... if she burns ...| 01/01/2015|19.76253687315632|          0|null|null|null|null|null|null|null|         null|\n",
      "|       1|Afghanistan|     F|       Marital status|        Never married|... if she burns ...| 01/01/2015|19.76253687315632|          0|null|null|null|null|null|null|null|         r54t|\n",
      "|       1|Afghanistan|     F|       Marital status|        Never married|... if she burns ...| 01/01/2015|19.76253687315632|          0|null|null|null|null|null|null|null|         null|\n",
      "|       1|Afghanistan|     F|       Marital status|        Never married|... if she burns ...| 01/01/2015|19.76253687315632|          0|null|null|null|null|null|null|null|         null|\n",
      "|       1|Afghanistan|     F|       Marital status|        Never married|... if she burns ...| 01/01/2015|19.76253687315632|          0|null|null|null|null|null|null|null|          543|\n",
      "|       1|Afghanistan|     F|       Marital status|        Never married|... if she burns ...| 01/01/2015|19.76253687315632|          0|null|null|null|null|null|null|null|         null|\n",
      "|       1|Afghanistan|     F|       Marital status|        Never married|... if she burns ...| 01/01/2015|19.76253687315632|          0|null|null|null|null|null|null|null|         null|\n",
      "|       1|Afghanistan|     F|       Marital status|        Never married|... if she burns ...| 01/01/2015|19.76253687315632|          0|null|null|null|null|null|null|null|         null|\n",
      "|       1|Afghanistan|     F|       Marital status|        Never married|... if she burns ...| 01/01/2015|19.76253687315632|          0|null|null|null|null|null|null|null|         null|\n",
      "|       1|Afghanistan|     F|       Marital status|        Never married|... if she burns ...| 01/01/2015|19.76253687315632|          0|null|null|null|null|null|null|null|          532|\n",
      "|       1|Afghanistan|     F|       Marital status|        Never married|... if she burns ...| 01/01/2015|19.76253687315632|          0|null|null|null|null|null|null|null|         null|\n",
      "|       1|Afghanistan|     F|       Marital status|        Never married|... if she burns ...| 01/01/2015|19.76253687315632|          0|null|null|null|null|null|null|null|         null|\n",
      "+--------+-----------+------+---------------------+---------------------+--------------------+-----------+-----------------+-----------+----+----+----+----+----+----+----+-------------+\n",
      "only showing top 20 rows\n",
      "\n",
      "root\n",
      " |-- RecordID: integer (nullable = true)\n",
      " |-- Country: string (nullable = true)\n",
      " |-- Gender: string (nullable = true)\n",
      " |-- Demographics Question: string (nullable = true)\n",
      " |-- Demographics Response: string (nullable = true)\n",
      " |-- Question: string (nullable = true)\n",
      " |-- Survey Year: string (nullable = true)\n",
      " |-- Value: double (nullable = false)\n",
      " |-- Measurement: integer (nullable = false)\n",
      " |-- _c1: string (nullable = true)\n",
      " |-- _c2: string (nullable = true)\n",
      " |-- _c3: string (nullable = true)\n",
      " |-- _c4: string (nullable = true)\n",
      " |-- _c5: string (nullable = true)\n",
      " |-- _c6: string (nullable = true)\n",
      " |-- _c7: string (nullable = true)\n",
      " |-- User feedback: string (nullable = true)\n",
      "\n"
     ]
    }
   ],
   "source": [
    "merged_data.show()\n",
    "merged_data.printSchema()"
   ]
  },
  {
   "cell_type": "code",
   "execution_count": 55,
   "id": "921fd5a7",
   "metadata": {},
   "outputs": [],
   "source": [
    "#3.5 Removing all the other fields that do not have anything contains\n",
    "columns_to_drop = ['_c1', '_c2', '_c3', '_c4', '_c5', '_c6', '_c7']\n",
    "merged_data = merged_data.drop(*columns_to_drop)"
   ]
  },
  {
   "cell_type": "code",
   "execution_count": 56,
   "id": "ce614c09",
   "metadata": {},
   "outputs": [
    {
     "name": "stdout",
     "output_type": "stream",
     "text": [
      "root\n",
      " |-- RecordID: integer (nullable = true)\n",
      " |-- Country: string (nullable = true)\n",
      " |-- Gender: string (nullable = true)\n",
      " |-- Demographics Question: string (nullable = true)\n",
      " |-- Demographics Response: string (nullable = true)\n",
      " |-- Question: string (nullable = true)\n",
      " |-- Survey Year: string (nullable = true)\n",
      " |-- Value: double (nullable = false)\n",
      " |-- Measurement: integer (nullable = false)\n",
      " |-- User feedback: string (nullable = true)\n",
      "\n",
      "+-----+\n",
      "|Value|\n",
      "+-----+\n",
      "| null|\n",
      "| 10.1|\n",
      "| 13.7|\n",
      "| 13.8|\n",
      "| 13.8|\n",
      "| 17.0|\n",
      "| 17.3|\n",
      "| 18.0|\n",
      "| 18.1|\n",
      "| 18.2|\n",
      "| 18.3|\n",
      "| 18.3|\n",
      "| 18.8|\n",
      "| 19.1|\n",
      "| 20.8|\n",
      "| null|\n",
      "|  4.5|\n",
      "|  4.6|\n",
      "|  5.2|\n",
      "|  6.3|\n",
      "+-----+\n",
      "only showing top 20 rows\n",
      "\n",
      "+-------+------------------+\n",
      "|summary|             Value|\n",
      "+-------+------------------+\n",
      "|  count|            378000|\n",
      "|   mean| 19.76253687315055|\n",
      "| stddev|16.004974791697258|\n",
      "|    min|               0.0|\n",
      "|    max|              86.9|\n",
      "+-------+------------------+\n",
      "\n"
     ]
    }
   ],
   "source": [
    "merged_data.printSchema()\n",
    "new = 'Value'\n",
    "\n",
    "df.select(new).show()\n",
    "merged_data.select(new).describe().show()"
   ]
  },
  {
   "cell_type": "code",
   "execution_count": 57,
   "id": "fbeba851",
   "metadata": {},
   "outputs": [],
   "source": [
    "#4.1 Feature selection & Encoding the string fields\n",
    "from pyspark.ml.feature import StringIndexer, OneHotEncoder\n",
    "from pyspark.ml.feature import VectorAssembler"
   ]
  },
  {
   "cell_type": "code",
   "execution_count": 58,
   "id": "01e93f8e",
   "metadata": {},
   "outputs": [],
   "source": [
    "#Encoding 'Country'\n",
    "indexer = StringIndexer(inputCol=\"Country\", outputCol=\"CountryIndex\")\n",
    "encoder = OneHotEncoder(inputCols=[\"CountryIndex\"], outputCols=[\"CountryVec\"])\n",
    "df = indexer.fit(df).transform(df)\n",
    "df = encoder.fit(df).transform(df)"
   ]
  },
  {
   "cell_type": "code",
   "execution_count": 59,
   "id": "4e8993cd",
   "metadata": {},
   "outputs": [
    {
     "name": "stdout",
     "output_type": "stream",
     "text": [
      "root\n",
      " |-- RecordID: integer (nullable = true)\n",
      " |-- Country: string (nullable = true)\n",
      " |-- Gender: string (nullable = true)\n",
      " |-- Demographics Question: string (nullable = true)\n",
      " |-- Demographics Response: string (nullable = true)\n",
      " |-- Question: string (nullable = true)\n",
      " |-- Survey Year: string (nullable = true)\n",
      " |-- Value: double (nullable = true)\n",
      " |-- User feedback: string (nullable = true)\n",
      " |-- CountryIndex: double (nullable = false)\n",
      " |-- CountryVec: vector (nullable = true)\n",
      "\n"
     ]
    }
   ],
   "source": [
    "df.printSchema()"
   ]
  },
  {
   "cell_type": "code",
   "execution_count": 60,
   "id": "922fda86",
   "metadata": {
    "scrolled": true
   },
   "outputs": [
    {
     "name": "stdout",
     "output_type": "stream",
     "text": [
      "root\n",
      " |-- RecordID: integer (nullable = true)\n",
      " |-- Country: string (nullable = true)\n",
      " |-- Gender: string (nullable = true)\n",
      " |-- Demographics Question: string (nullable = true)\n",
      " |-- Demographics Response: string (nullable = true)\n",
      " |-- Question: string (nullable = true)\n",
      " |-- Survey Year: string (nullable = true)\n",
      " |-- Value: double (nullable = true)\n",
      " |-- User feedback: string (nullable = true)\n",
      " |-- CountryIndex: double (nullable = false)\n",
      " |-- CountryVec: vector (nullable = true)\n",
      " |-- GenderIndex: double (nullable = false)\n",
      " |-- GenderVec: vector (nullable = true)\n",
      "\n"
     ]
    }
   ],
   "source": [
    "#Encoding 'Gender'\n",
    "indexer = StringIndexer(inputCol=\"Gender\", outputCol=\"GenderIndex\")\n",
    "encoder = OneHotEncoder(inputCols=[\"GenderIndex\"], outputCols=[\"GenderVec\"])\n",
    "df = indexer.fit(df).transform(df)\n",
    "df = encoder.fit(df).transform(df)\n",
    "df.printSchema()"
   ]
  },
  {
   "cell_type": "code",
   "execution_count": 61,
   "id": "5d0473e5",
   "metadata": {},
   "outputs": [
    {
     "name": "stdout",
     "output_type": "stream",
     "text": [
      "root\n",
      " |-- RecordID: integer (nullable = true)\n",
      " |-- Country: string (nullable = true)\n",
      " |-- Gender: string (nullable = true)\n",
      " |-- Demographics Question: string (nullable = true)\n",
      " |-- Demographics Response: string (nullable = true)\n",
      " |-- Question: string (nullable = true)\n",
      " |-- Survey Year: string (nullable = true)\n",
      " |-- Value: double (nullable = true)\n",
      " |-- User feedback: string (nullable = true)\n",
      " |-- CountryIndex: double (nullable = false)\n",
      " |-- CountryVec: vector (nullable = true)\n",
      " |-- GenderIndex: double (nullable = false)\n",
      " |-- GenderVec: vector (nullable = true)\n",
      " |-- ResponseIndex: double (nullable = false)\n",
      "\n"
     ]
    }
   ],
   "source": [
    "#Encoding 'Demographics Response' \n",
    "#responseIndexer = StringIndexer(inputCol=\"Demographics Response\", outputCol=\"ResponseIndex\")\n",
    "#responseEncoder = OneHotEncoder(inputCols=[\"ResponseIndex\"], outputCols=[\"ResponseVec\"])\n",
    "#df = responseIndexer.fit(df).transform(df)\n",
    "#df = responseEncoder.fit(df).transform(df)\n",
    "indexer = StringIndexer(inputCol=\"Demographics Response\", outputCol=\"ResponseIndex\")\n",
    "df = indexer.fit(df).transform(df)\n",
    "df.printSchema()"
   ]
  },
  {
   "cell_type": "code",
   "execution_count": 62,
   "id": "08cbc67a",
   "metadata": {},
   "outputs": [
    {
     "name": "stdout",
     "output_type": "stream",
     "text": [
      "+--------+-----------+------+---------------------+---------------------+--------------------+-----------+-----+-------------+------------+--------------+-----------+-------------+-------------+\n",
      "|RecordID|    Country|Gender|Demographics Question|Demographics Response|            Question|Survey Year|Value|User feedback|CountryIndex|    CountryVec|GenderIndex|    GenderVec|ResponseIndex|\n",
      "+--------+-----------+------+---------------------+---------------------+--------------------+-----------+-----+-------------+------------+--------------+-----------+-------------+-------------+\n",
      "|       1|Afghanistan|     F|       Marital status|        Never married|... if she burns ...| 01/01/2015| null|         null|         0.0|(69,[0],[1.0])|        0.0|(1,[0],[1.0])|          7.0|\n",
      "|       1|Afghanistan|     F|            Education|               Higher|... if she burns ...| 01/01/2015| 10.1|         null|         0.0|(69,[0],[1.0])|        0.0|(1,[0],[1.0])|          5.0|\n",
      "|       1|Afghanistan|     F|            Education|            Secondary|... if she burns ...| 01/01/2015| 13.7|         null|         0.0|(69,[0],[1.0])|        0.0|(1,[0],[1.0])|         11.0|\n",
      "|       1|Afghanistan|     F|            Education|              Primary|... if she burns ...| 01/01/2015| 13.8|           10|         0.0|(69,[0],[1.0])|        0.0|(1,[0],[1.0])|          9.0|\n",
      "|       1|Afghanistan|     F|       Marital status| Widowed, divorced...|... if she burns ...| 01/01/2015| 13.8|         null|         0.0|(69,[0],[1.0])|        0.0|(1,[0],[1.0])|         14.0|\n",
      "|       1|Afghanistan|     F|           Employment|    Employed for kind|... if she burns ...| 01/01/2015| 17.0|         null|         0.0|(69,[0],[1.0])|        0.0|(1,[0],[1.0])|          4.0|\n",
      "|       1|Afghanistan|     F|                  Age|                15-24|... if she burns ...| 01/01/2015| 17.3|           23|         0.0|(69,[0],[1.0])|        0.0|(1,[0],[1.0])|          0.0|\n",
      "|       1|Afghanistan|     F|           Employment|           Unemployed|... if she burns ...| 01/01/2015| 18.0|            e|         0.0|(69,[0],[1.0])|        0.0|(1,[0],[1.0])|         12.0|\n",
      "|       1|Afghanistan|     F|            Residence|                Rural|... if she burns ...| 01/01/2015| 18.1|           4t|         0.0|(69,[0],[1.0])|        0.0|(1,[0],[1.0])|         10.0|\n",
      "|       1|Afghanistan|     F|                  Age|                25-34|... if she burns ...| 01/01/2015| 18.2|             |         0.0|(69,[0],[1.0])|        0.0|(1,[0],[1.0])|          1.0|\n",
      "|       1|Afghanistan|     F|       Marital status| Married or living...|... if she burns ...| 01/01/2015| 18.3|         null|         0.0|(69,[0],[1.0])|        0.0|(1,[0],[1.0])|          6.0|\n",
      "|       1|Afghanistan|     F|            Residence|                Urban|... if she burns ...| 01/01/2015| 18.3|         null|         0.0|(69,[0],[1.0])|        0.0|(1,[0],[1.0])|         13.0|\n",
      "|       1|Afghanistan|     F|                  Age|                35-49|... if she burns ...| 01/01/2015| 18.8|          532|         0.0|(69,[0],[1.0])|        0.0|(1,[0],[1.0])|          2.0|\n",
      "|       1|Afghanistan|     F|            Education|         No education|... if she burns ...| 01/01/2015| 19.1|         null|         0.0|(69,[0],[1.0])|        0.0|(1,[0],[1.0])|          8.0|\n",
      "|       1|Afghanistan|     F|           Employment|    Employed for cash|... if she burns ...| 01/01/2015| 20.8|         null|         0.0|(69,[0],[1.0])|        0.0|(1,[0],[1.0])|          3.0|\n",
      "|       1|Afghanistan|     M|       Marital status|        Never married|... if she burns ...| 01/01/2015| null|         null|         0.0|(69,[0],[1.0])|        1.0|    (1,[],[])|          7.0|\n",
      "|       1|Afghanistan|     M|            Education|               Higher|... if she burns ...| 01/01/2015|  4.5|         null|         0.0|(69,[0],[1.0])|        1.0|    (1,[],[])|          5.0|\n",
      "|       1|Afghanistan|     M|            Residence|                Urban|... if she burns ...| 01/01/2015|  4.6|          543|         0.0|(69,[0],[1.0])|        1.0|    (1,[],[])|         13.0|\n",
      "|       1|Afghanistan|     M|           Employment|           Unemployed|... if she burns ...| 01/01/2015|  5.2|         null|         0.0|(69,[0],[1.0])|        1.0|    (1,[],[])|         12.0|\n",
      "|       1|Afghanistan|     M|            Education|              Primary|... if she burns ...| 01/01/2015|  6.3|         null|         0.0|(69,[0],[1.0])|        1.0|    (1,[],[])|          9.0|\n",
      "+--------+-----------+------+---------------------+---------------------+--------------------+-----------+-----+-------------+------------+--------------+-----------+-------------+-------------+\n",
      "only showing top 20 rows\n",
      "\n"
     ]
    }
   ],
   "source": [
    "df.show()\n",
    "#retreat\n",
    "\n",
    "new_df = df.na.fill(0)\n"
   ]
  },
  {
   "cell_type": "code",
   "execution_count": 63,
   "id": "3bc90528",
   "metadata": {
    "scrolled": true
   },
   "outputs": [
    {
     "name": "stdout",
     "output_type": "stream",
     "text": [
      "+--------+-----------+------+---------------------+---------------------+--------------------+-----------+-----+-------------+------------+--------------+-----------+-------------+-------------+\n",
      "|RecordID|    Country|Gender|Demographics Question|Demographics Response|            Question|Survey Year|Value|User feedback|CountryIndex|    CountryVec|GenderIndex|    GenderVec|ResponseIndex|\n",
      "+--------+-----------+------+---------------------+---------------------+--------------------+-----------+-----+-------------+------------+--------------+-----------+-------------+-------------+\n",
      "|       1|Afghanistan|     F|       Marital status|        Never married|... if she burns ...| 01/01/2015|  0.0|         null|         0.0|(69,[0],[1.0])|        0.0|(1,[0],[1.0])|          7.0|\n",
      "|       1|Afghanistan|     F|            Education|               Higher|... if she burns ...| 01/01/2015| 10.1|         null|         0.0|(69,[0],[1.0])|        0.0|(1,[0],[1.0])|          5.0|\n",
      "|       1|Afghanistan|     F|            Education|            Secondary|... if she burns ...| 01/01/2015| 13.7|         null|         0.0|(69,[0],[1.0])|        0.0|(1,[0],[1.0])|         11.0|\n",
      "|       1|Afghanistan|     F|            Education|              Primary|... if she burns ...| 01/01/2015| 13.8|           10|         0.0|(69,[0],[1.0])|        0.0|(1,[0],[1.0])|          9.0|\n",
      "|       1|Afghanistan|     F|       Marital status| Widowed, divorced...|... if she burns ...| 01/01/2015| 13.8|         null|         0.0|(69,[0],[1.0])|        0.0|(1,[0],[1.0])|         14.0|\n",
      "|       1|Afghanistan|     F|           Employment|    Employed for kind|... if she burns ...| 01/01/2015| 17.0|         null|         0.0|(69,[0],[1.0])|        0.0|(1,[0],[1.0])|          4.0|\n",
      "|       1|Afghanistan|     F|                  Age|                15-24|... if she burns ...| 01/01/2015| 17.3|           23|         0.0|(69,[0],[1.0])|        0.0|(1,[0],[1.0])|          0.0|\n",
      "|       1|Afghanistan|     F|           Employment|           Unemployed|... if she burns ...| 01/01/2015| 18.0|            e|         0.0|(69,[0],[1.0])|        0.0|(1,[0],[1.0])|         12.0|\n",
      "|       1|Afghanistan|     F|            Residence|                Rural|... if she burns ...| 01/01/2015| 18.1|           4t|         0.0|(69,[0],[1.0])|        0.0|(1,[0],[1.0])|         10.0|\n",
      "|       1|Afghanistan|     F|                  Age|                25-34|... if she burns ...| 01/01/2015| 18.2|             |         0.0|(69,[0],[1.0])|        0.0|(1,[0],[1.0])|          1.0|\n",
      "|       1|Afghanistan|     F|       Marital status| Married or living...|... if she burns ...| 01/01/2015| 18.3|         null|         0.0|(69,[0],[1.0])|        0.0|(1,[0],[1.0])|          6.0|\n",
      "|       1|Afghanistan|     F|            Residence|                Urban|... if she burns ...| 01/01/2015| 18.3|         null|         0.0|(69,[0],[1.0])|        0.0|(1,[0],[1.0])|         13.0|\n",
      "|       1|Afghanistan|     F|                  Age|                35-49|... if she burns ...| 01/01/2015| 18.8|          532|         0.0|(69,[0],[1.0])|        0.0|(1,[0],[1.0])|          2.0|\n",
      "|       1|Afghanistan|     F|            Education|         No education|... if she burns ...| 01/01/2015| 19.1|         null|         0.0|(69,[0],[1.0])|        0.0|(1,[0],[1.0])|          8.0|\n",
      "|       1|Afghanistan|     F|           Employment|    Employed for cash|... if she burns ...| 01/01/2015| 20.8|         null|         0.0|(69,[0],[1.0])|        0.0|(1,[0],[1.0])|          3.0|\n",
      "|       1|Afghanistan|     M|       Marital status|        Never married|... if she burns ...| 01/01/2015|  0.0|         null|         0.0|(69,[0],[1.0])|        1.0|    (1,[],[])|          7.0|\n",
      "|       1|Afghanistan|     M|            Education|               Higher|... if she burns ...| 01/01/2015|  4.5|         null|         0.0|(69,[0],[1.0])|        1.0|    (1,[],[])|          5.0|\n",
      "|       1|Afghanistan|     M|            Residence|                Urban|... if she burns ...| 01/01/2015|  4.6|          543|         0.0|(69,[0],[1.0])|        1.0|    (1,[],[])|         13.0|\n",
      "|       1|Afghanistan|     M|           Employment|           Unemployed|... if she burns ...| 01/01/2015|  5.2|         null|         0.0|(69,[0],[1.0])|        1.0|    (1,[],[])|         12.0|\n",
      "|       1|Afghanistan|     M|            Education|              Primary|... if she burns ...| 01/01/2015|  6.3|         null|         0.0|(69,[0],[1.0])|        1.0|    (1,[],[])|          9.0|\n",
      "+--------+-----------+------+---------------------+---------------------+--------------------+-----------+-----+-------------+------------+--------------+-----------+-------------+-------------+\n",
      "only showing top 20 rows\n",
      "\n"
     ]
    }
   ],
   "source": [
    "new_df.show()"
   ]
  },
  {
   "cell_type": "code",
   "execution_count": 64,
   "id": "27cbfd54",
   "metadata": {},
   "outputs": [
    {
     "name": "stdout",
     "output_type": "stream",
     "text": [
      "Skewness of 'Value': 1.1445442844796359\n"
     ]
    }
   ],
   "source": [
    "from pyspark.sql.functions import skewness\n",
    "skewness_value = new_df.select(skewness(new_df['Value'])).collect()[0][0]\n",
    "print(f\"Skewness of 'Value': {skewness_value}\")\n"
   ]
  },
  {
   "cell_type": "code",
   "execution_count": 65,
   "id": "2812041f",
   "metadata": {},
   "outputs": [],
   "source": [
    "from pyspark.sql.functions import sqrt\n",
    "new_df = new_df.withColumn('new_values', sqrt(new_df['Value']))\n"
   ]
  },
  {
   "cell_type": "code",
   "execution_count": 66,
   "id": "6d28298f",
   "metadata": {},
   "outputs": [
    {
     "name": "stdout",
     "output_type": "stream",
     "text": [
      "+--------+-----------+------+---------------------+---------------------+--------------------+-----------+-----+-------------+------------+--------------+-----------+-------------+-------------+------------------+\n",
      "|RecordID|    Country|Gender|Demographics Question|Demographics Response|            Question|Survey Year|Value|User feedback|CountryIndex|    CountryVec|GenderIndex|    GenderVec|ResponseIndex|        new_values|\n",
      "+--------+-----------+------+---------------------+---------------------+--------------------+-----------+-----+-------------+------------+--------------+-----------+-------------+-------------+------------------+\n",
      "|       1|Afghanistan|     F|       Marital status|        Never married|... if she burns ...| 01/01/2015|  0.0|         null|         0.0|(69,[0],[1.0])|        0.0|(1,[0],[1.0])|          7.0|               0.0|\n",
      "|       1|Afghanistan|     F|            Education|               Higher|... if she burns ...| 01/01/2015| 10.1|         null|         0.0|(69,[0],[1.0])|        0.0|(1,[0],[1.0])|          5.0|3.1780497164141406|\n",
      "|       1|Afghanistan|     F|            Education|            Secondary|... if she burns ...| 01/01/2015| 13.7|         null|         0.0|(69,[0],[1.0])|        0.0|(1,[0],[1.0])|         11.0|3.7013511046643495|\n",
      "|       1|Afghanistan|     F|            Education|              Primary|... if she burns ...| 01/01/2015| 13.8|           10|         0.0|(69,[0],[1.0])|        0.0|(1,[0],[1.0])|          9.0| 3.714835124201342|\n",
      "|       1|Afghanistan|     F|       Marital status| Widowed, divorced...|... if she burns ...| 01/01/2015| 13.8|         null|         0.0|(69,[0],[1.0])|        0.0|(1,[0],[1.0])|         14.0| 3.714835124201342|\n",
      "|       1|Afghanistan|     F|           Employment|    Employed for kind|... if she burns ...| 01/01/2015| 17.0|         null|         0.0|(69,[0],[1.0])|        0.0|(1,[0],[1.0])|          4.0| 4.123105625617661|\n",
      "|       1|Afghanistan|     F|                  Age|                15-24|... if she burns ...| 01/01/2015| 17.3|           23|         0.0|(69,[0],[1.0])|        0.0|(1,[0],[1.0])|          0.0| 4.159326868617084|\n",
      "|       1|Afghanistan|     F|           Employment|           Unemployed|... if she burns ...| 01/01/2015| 18.0|            e|         0.0|(69,[0],[1.0])|        0.0|(1,[0],[1.0])|         12.0| 4.242640687119285|\n",
      "|       1|Afghanistan|     F|            Residence|                Rural|... if she burns ...| 01/01/2015| 18.1|           4t|         0.0|(69,[0],[1.0])|        0.0|(1,[0],[1.0])|         10.0| 4.254409477236529|\n",
      "|       1|Afghanistan|     F|                  Age|                25-34|... if she burns ...| 01/01/2015| 18.2|             |         0.0|(69,[0],[1.0])|        0.0|(1,[0],[1.0])|          1.0| 4.266145801540309|\n",
      "|       1|Afghanistan|     F|       Marital status| Married or living...|... if she burns ...| 01/01/2015| 18.3|         null|         0.0|(69,[0],[1.0])|        0.0|(1,[0],[1.0])|          6.0| 4.277849927241488|\n",
      "|       1|Afghanistan|     F|            Residence|                Urban|... if she burns ...| 01/01/2015| 18.3|         null|         0.0|(69,[0],[1.0])|        0.0|(1,[0],[1.0])|         13.0| 4.277849927241488|\n",
      "|       1|Afghanistan|     F|                  Age|                35-49|... if she burns ...| 01/01/2015| 18.8|          532|         0.0|(69,[0],[1.0])|        0.0|(1,[0],[1.0])|          2.0|  4.33589667773576|\n",
      "|       1|Afghanistan|     F|            Education|         No education|... if she burns ...| 01/01/2015| 19.1|         null|         0.0|(69,[0],[1.0])|        0.0|(1,[0],[1.0])|          8.0| 4.370354676682432|\n",
      "|       1|Afghanistan|     F|           Employment|    Employed for cash|... if she burns ...| 01/01/2015| 20.8|         null|         0.0|(69,[0],[1.0])|        0.0|(1,[0],[1.0])|          3.0| 4.560701700396552|\n",
      "|       1|Afghanistan|     M|       Marital status|        Never married|... if she burns ...| 01/01/2015|  0.0|         null|         0.0|(69,[0],[1.0])|        1.0|    (1,[],[])|          7.0|               0.0|\n",
      "|       1|Afghanistan|     M|            Education|               Higher|... if she burns ...| 01/01/2015|  4.5|         null|         0.0|(69,[0],[1.0])|        1.0|    (1,[],[])|          5.0|2.1213203435596424|\n",
      "|       1|Afghanistan|     M|            Residence|                Urban|... if she burns ...| 01/01/2015|  4.6|          543|         0.0|(69,[0],[1.0])|        1.0|    (1,[],[])|         13.0|2.1447610589527217|\n",
      "|       1|Afghanistan|     M|           Employment|           Unemployed|... if she burns ...| 01/01/2015|  5.2|         null|         0.0|(69,[0],[1.0])|        1.0|    (1,[],[])|         12.0| 2.280350850198276|\n",
      "|       1|Afghanistan|     M|            Education|              Primary|... if she burns ...| 01/01/2015|  6.3|         null|         0.0|(69,[0],[1.0])|        1.0|    (1,[],[])|          9.0|2.5099800796022267|\n",
      "+--------+-----------+------+---------------------+---------------------+--------------------+-----------+-----+-------------+------------+--------------+-----------+-------------+-------------+------------------+\n",
      "only showing top 20 rows\n",
      "\n",
      "root\n",
      " |-- RecordID: integer (nullable = true)\n",
      " |-- Country: string (nullable = true)\n",
      " |-- Gender: string (nullable = true)\n",
      " |-- Demographics Question: string (nullable = true)\n",
      " |-- Demographics Response: string (nullable = true)\n",
      " |-- Question: string (nullable = true)\n",
      " |-- Survey Year: string (nullable = true)\n",
      " |-- Value: double (nullable = false)\n",
      " |-- User feedback: string (nullable = true)\n",
      " |-- CountryIndex: double (nullable = false)\n",
      " |-- CountryVec: vector (nullable = true)\n",
      " |-- GenderIndex: double (nullable = false)\n",
      " |-- GenderVec: vector (nullable = true)\n",
      " |-- ResponseIndex: double (nullable = false)\n",
      " |-- new_values: double (nullable = true)\n",
      "\n"
     ]
    }
   ],
   "source": [
    "new_df.show()\n",
    "new_df.printSchema()"
   ]
  },
  {
   "cell_type": "code",
   "execution_count": 67,
   "id": "3c57333c",
   "metadata": {},
   "outputs": [],
   "source": [
    "##########"
   ]
  },
  {
   "cell_type": "code",
   "execution_count": null,
   "id": "964a55b1",
   "metadata": {},
   "outputs": [],
   "source": [
    "\n"
   ]
  },
  {
   "cell_type": "code",
   "execution_count": 68,
   "id": "b43a2124",
   "metadata": {},
   "outputs": [
    {
     "name": "stdout",
     "output_type": "stream",
     "text": [
      "Accuracy = 0.46980392156862744\n"
     ]
    }
   ],
   "source": [
    "from pyspark.ml import Pipeline\n",
    "from pyspark.ml.feature import VectorAssembler\n",
    "from pyspark.ml.classification import RandomForestClassifier\n",
    "from pyspark.ml.evaluation import MulticlassClassificationEvaluator\n",
    "\n",
    "#Random Forest Classification - Country\n",
    "#with pipeline\n",
    "feature_columns = ['ResponseIndex'] \n",
    "assembler = VectorAssembler(inputCols=feature_columns, outputCol=\"features\")#create the feature columns\n",
    "rf = RandomForestClassifier(labelCol=\"GenderIndex\", featuresCol=\"features\", numTrees=10)\n",
    "\n",
    "#Initialize the pipeline\n",
    "pipeline = Pipeline(stages=[assembler, rf])\n",
    "\n",
    "#split the data& Training data\n",
    "train_data, test_data = df.randomSplit([0.8, 0.2])\n",
    "model = pipeline.fit(train_data)\n",
    "#check the accuracy\n",
    "predictions = model.transform(test_data)\n",
    "evaluator = MulticlassClassificationEvaluator(\n",
    "    labelCol=\"GenderIndex\", predictionCol=\"prediction\", metricName=\"accuracy\")\n",
    "accuracy = evaluator.evaluate(predictions)\n",
    "print(f\"Accuracy = {accuracy}\")\n",
    "\n"
   ]
  },
  {
   "cell_type": "code",
   "execution_count": 69,
   "id": "aece29d1",
   "metadata": {},
   "outputs": [
    {
     "name": "stdout",
     "output_type": "stream",
     "text": [
      "+--------+------+----------+\n",
      "|RecordID|Gender|prediction|\n",
      "+--------+------+----------+\n",
      "|       1|     F|       1.0|\n",
      "|       1|     F|       0.0|\n",
      "|       1|     M|       0.0|\n",
      "|       1|     M|       1.0|\n",
      "|       1|     M|       0.0|\n",
      "|       1|     M|       1.0|\n",
      "|       1|     M|       0.0|\n",
      "|       2|     F|       0.0|\n",
      "|       2|     F|       0.0|\n",
      "|       2|     F|       0.0|\n",
      "|       2|     F|       0.0|\n",
      "|       2|     F|       0.0|\n",
      "|       2|     F|       1.0|\n",
      "|       2|     M|       0.0|\n",
      "|       2|     M|       0.0|\n",
      "|       2|     M|       0.0|\n",
      "|       3|     F|       0.0|\n",
      "|       3|     M|       0.0|\n",
      "|       3|     M|       0.0|\n",
      "|       3|     M|       0.0|\n",
      "+--------+------+----------+\n",
      "only showing top 20 rows\n",
      "\n",
      "+------+----------+-----+\n",
      "|Gender|prediction|count|\n",
      "+------+----------+-----+\n",
      "|     M|       1.0|  363|\n",
      "|     F|       1.0|  419|\n",
      "|     F|       0.0|  835|\n",
      "|     M|       0.0|  933|\n",
      "+------+----------+-----+\n",
      "\n"
     ]
    }
   ],
   "source": [
    "\n",
    "predictions.select('RecordID', 'Gender', 'prediction').show()\n",
    "predictions.groupBy('Gender', 'prediction').count().show()\n"
   ]
  },
  {
   "cell_type": "code",
   "execution_count": 70,
   "id": "77401ba0",
   "metadata": {},
   "outputs": [],
   "source": [
    "#Random Forest Classification - Country\n",
    "feature_columns = ['CountryVec']  # form the feature columns \n",
    "assembler = VectorAssembler(inputCols=feature_columns, outputCol=\"features\")\n",
    "# initialize RandomForestClassifier\n",
    "rf = RandomForestClassifier(labelCol=\"GenderIndex\", featuresCol=\"features\", numTrees=10)\n",
    "output = assembler.transform(new_df)\n",
    "\n",
    "#split the data\n",
    "train_data, test_data = output.randomSplit([0.7, 0.3])\n",
    "\n",
    "# Trianing model \n",
    "rf_model = rf.fit(train_data)\n",
    "\n",
    "# find thetransformation \n",
    "predictions = rf_model.transform(test_data)"
   ]
  },
  {
   "cell_type": "code",
   "execution_count": 71,
   "id": "9a23b168",
   "metadata": {},
   "outputs": [
    {
     "name": "stdout",
     "output_type": "stream",
     "text": [
      "Accuracy: 0.47832817337461303\n",
      "F1 Score: 0.4588615755540784\n"
     ]
    }
   ],
   "source": [
    "#Caculate the accuracy of the model\n",
    "evaluator = MulticlassClassificationEvaluator(labelCol=\"GenderIndex\", predictionCol=\"prediction\", metricName=\"accuracy\")\n",
    "accuracy = evaluator.evaluate(predictions)\n",
    "print(f\"Accuracy: {accuracy}\")\n",
    "\n",
    "\n",
    "evaluator.setMetricName(\"f1\")\n",
    "f1 = evaluator.evaluate(predictions)\n",
    "print(f\"F1 Score: {f1}\")"
   ]
  },
  {
   "cell_type": "code",
   "execution_count": null,
   "id": "4c7d1b68",
   "metadata": {},
   "outputs": [],
   "source": []
  },
  {
   "cell_type": "code",
   "execution_count": 72,
   "id": "cf645f9c",
   "metadata": {},
   "outputs": [
    {
     "name": "stdout",
     "output_type": "stream",
     "text": [
      "Feature Importances: (69,[3,5,8,9,10,11,14,15,17,18,19,20,21,22,23,24,25,28,30,31,41,43,46,49,50,52,54,55,58,62,64,65,66,68],[0.020635348919323164,0.025722476540263866,0.04692260853666101,0.05682272890459263,0.02415166655413698,0.014149374506571341,0.013528829115172938,0.031178403521387545,0.013409751254244151,0.017515230440524346,0.020127983109105504,0.02488975478538814,0.011627318360036352,0.03263234067625255,0.006311753741950423,0.05410555150662448,0.010948099735554523,0.010568086334532528,0.02096288682420514,0.012433198197354268,0.00834777253907221,0.06483780500187926,0.0198129054031849,0.04743103476857034,0.03757014927909742,0.008299658926161977,0.06671704146673116,0.08609714598137112,0.04507293754458406,0.009324088465810112,0.0510899012554063,0.03185678908774288,0.04161893569880247,0.01328044301770392])\n"
     ]
    }
   ],
   "source": [
    "feature_importances = rf_model.featureImportances # Get the importance from 'Country'\n",
    "print(f\"Feature Importances: {feature_importances}\")"
   ]
  },
  {
   "cell_type": "code",
   "execution_count": 73,
   "id": "75e39da1",
   "metadata": {},
   "outputs": [
    {
     "name": "stdout",
     "output_type": "stream",
     "text": [
      "['Chad', 'Yemen', 'Congo Democratic Republic', 'Senegal', 'Guyana', 'Eritrea', 'Philippines', 'Turkey', 'Malawi', 'Comoros', 'Afghanistan', 'Cambodia', 'Jordan', 'Maldives', 'Rwanda', 'Togo', 'Angola', 'Lesotho', 'Albania', 'Cote dIvoire', 'Madagascar', 'Ghana', 'Myanmar', 'Nicaragua', 'Benin', 'Peru', 'Sierra Leone', 'India', 'Timor-Leste', 'Sao Tome and Principe', 'Tajikistan', 'Burundi', 'Bolivia', 'Nigeria', 'Gabon', 'Turkmenistan', 'Niger', 'Bangladesh', 'Congo', 'Morocco', 'Ukraine', 'Zimbabwe', 'Indonesia', 'Guatemala', 'Azerbaijan', 'Armenia', 'Liberia', 'Honduras', 'Uganda', 'Namibia', 'Zambia', 'Ethiopia', 'Eswatini', 'Guinea', 'Kyrgyz Republic', 'Mozambique', 'Gambia', 'Kenya', 'Dominican Republic', 'Tanzania', 'Haiti', 'Cameroon', 'Nepal', 'Egypt', 'Burkina Faso', 'South Africa', 'Colombia', 'Pakistan', 'Moldova', 'Mali']\n"
     ]
    }
   ],
   "source": [
    "# Form the array that contains all the country name\n",
    "unique_countries = new_df.select(\"Country\").distinct().rdd.map(lambda row: row[0]).collect()\n",
    "print(unique_countries)\n"
   ]
  },
  {
   "cell_type": "code",
   "execution_count": 74,
   "id": "51a88af2",
   "metadata": {},
   "outputs": [
    {
     "name": "stdout",
     "output_type": "stream",
     "text": [
      "Chad: 0.0\n",
      "Yemen: 0.0\n",
      "Congo Democratic Republic: 0.0\n",
      "Senegal: 0.020635348919323164\n",
      "Guyana: 0.0\n",
      "Eritrea: 0.025722476540263866\n",
      "Philippines: 0.0\n",
      "Turkey: 0.0\n",
      "Malawi: 0.04692260853666101\n",
      "Comoros: 0.05682272890459263\n",
      "Afghanistan: 0.02415166655413698\n",
      "Cambodia: 0.014149374506571341\n",
      "Jordan: 0.0\n",
      "Maldives: 0.0\n",
      "Rwanda: 0.013528829115172938\n",
      "Togo: 0.031178403521387545\n",
      "Angola: 0.0\n",
      "Lesotho: 0.013409751254244151\n",
      "Albania: 0.017515230440524346\n",
      "Cote dIvoire: 0.020127983109105504\n",
      "Madagascar: 0.02488975478538814\n",
      "Ghana: 0.011627318360036352\n",
      "Myanmar: 0.03263234067625255\n",
      "Nicaragua: 0.006311753741950423\n",
      "Benin: 0.05410555150662448\n",
      "Peru: 0.010948099735554523\n",
      "Sierra Leone: 0.0\n",
      "India: 0.0\n",
      "Timor-Leste: 0.010568086334532528\n",
      "Sao Tome and Principe: 0.0\n",
      "Tajikistan: 0.02096288682420514\n",
      "Burundi: 0.012433198197354268\n",
      "Bolivia: 0.0\n",
      "Nigeria: 0.0\n",
      "Gabon: 0.0\n",
      "Turkmenistan: 0.0\n",
      "Niger: 0.0\n",
      "Bangladesh: 0.0\n",
      "Congo: 0.0\n",
      "Morocco: 0.0\n",
      "Ukraine: 0.0\n",
      "Zimbabwe: 0.00834777253907221\n",
      "Indonesia: 0.0\n",
      "Guatemala: 0.06483780500187926\n",
      "Azerbaijan: 0.0\n",
      "Armenia: 0.0\n",
      "Liberia: 0.0198129054031849\n",
      "Honduras: 0.0\n",
      "Uganda: 0.0\n",
      "Namibia: 0.04743103476857034\n",
      "Zambia: 0.03757014927909742\n",
      "Ethiopia: 0.0\n",
      "Eswatini: 0.008299658926161977\n",
      "Guinea: 0.0\n",
      "Kyrgyz Republic: 0.06671704146673116\n",
      "Mozambique: 0.08609714598137112\n",
      "Gambia: 0.0\n",
      "Kenya: 0.0\n",
      "Dominican Republic: 0.04507293754458406\n",
      "Tanzania: 0.0\n",
      "Haiti: 0.0\n",
      "Cameroon: 0.0\n",
      "Nepal: 0.009324088465810112\n",
      "Egypt: 0.0\n",
      "Burkina Faso: 0.0510899012554063\n",
      "South Africa: 0.03185678908774288\n",
      "Colombia: 0.04161893569880247\n",
      "Pakistan: 0.0\n",
      "Moldova: 0.01328044301770392\n"
     ]
    }
   ],
   "source": [
    "\n",
    "importances = rf_model.featureImportances.toArray()\n",
    "\n",
    "#Searching for the importance \n",
    "for country, importance in zip(unique_countries, importances):\n",
    "    print(f\"{country}: {importance}\")\n"
   ]
  },
  {
   "cell_type": "code",
   "execution_count": 75,
   "id": "dd7089b0",
   "metadata": {
    "scrolled": false
   },
   "outputs": [
    {
     "name": "stdout",
     "output_type": "stream",
     "text": [
      "Mozambique: 0.08609714598137112\n",
      "Kyrgyz Republic: 0.06671704146673116\n",
      "Guatemala: 0.06483780500187926\n",
      "Comoros: 0.05682272890459263\n",
      "Benin: 0.05410555150662448\n",
      "Burkina Faso: 0.0510899012554063\n",
      "Namibia: 0.04743103476857034\n",
      "Malawi: 0.04692260853666101\n",
      "Dominican Republic: 0.04507293754458406\n",
      "Colombia: 0.04161893569880247\n",
      "Zambia: 0.03757014927909742\n",
      "Myanmar: 0.03263234067625255\n",
      "South Africa: 0.03185678908774288\n",
      "Togo: 0.031178403521387545\n",
      "Eritrea: 0.025722476540263866\n",
      "Madagascar: 0.02488975478538814\n",
      "Afghanistan: 0.02415166655413698\n",
      "Tajikistan: 0.02096288682420514\n",
      "Senegal: 0.020635348919323164\n",
      "Cote dIvoire: 0.020127983109105504\n",
      "Liberia: 0.0198129054031849\n",
      "Albania: 0.017515230440524346\n",
      "Cambodia: 0.014149374506571341\n",
      "Rwanda: 0.013528829115172938\n",
      "Lesotho: 0.013409751254244151\n",
      "Moldova: 0.01328044301770392\n",
      "Burundi: 0.012433198197354268\n",
      "Ghana: 0.011627318360036352\n",
      "Peru: 0.010948099735554523\n",
      "Timor-Leste: 0.010568086334532528\n",
      "Nepal: 0.009324088465810112\n",
      "Zimbabwe: 0.00834777253907221\n",
      "Eswatini: 0.008299658926161977\n",
      "Nicaragua: 0.006311753741950423\n",
      "Chad: 0.0\n",
      "Yemen: 0.0\n",
      "Congo Democratic Republic: 0.0\n",
      "Guyana: 0.0\n",
      "Philippines: 0.0\n",
      "Turkey: 0.0\n",
      "Jordan: 0.0\n",
      "Maldives: 0.0\n",
      "Angola: 0.0\n",
      "Sierra Leone: 0.0\n",
      "India: 0.0\n",
      "Sao Tome and Principe: 0.0\n",
      "Bolivia: 0.0\n",
      "Nigeria: 0.0\n",
      "Gabon: 0.0\n",
      "Turkmenistan: 0.0\n",
      "Niger: 0.0\n",
      "Bangladesh: 0.0\n",
      "Congo: 0.0\n",
      "Morocco: 0.0\n",
      "Ukraine: 0.0\n",
      "Indonesia: 0.0\n",
      "Azerbaijan: 0.0\n",
      "Armenia: 0.0\n",
      "Honduras: 0.0\n",
      "Uganda: 0.0\n",
      "Ethiopia: 0.0\n",
      "Guinea: 0.0\n",
      "Gambia: 0.0\n",
      "Kenya: 0.0\n",
      "Tanzania: 0.0\n",
      "Haiti: 0.0\n",
      "Cameroon: 0.0\n",
      "Egypt: 0.0\n",
      "Pakistan: 0.0\n"
     ]
    }
   ],
   "source": [
    "\n",
    "#Searching for the importance \n",
    "feature_importances = rf_model.featureImportances.toArray()\n",
    "feature_names = unique_countries  \n",
    "\n",
    "features_and_importances = zip(feature_names, feature_importances)\n",
    "\n",
    "\n",
    "sorted_features = sorted(features_and_importances, key=lambda x: x[1], reverse=True)\n",
    "\n",
    "#ordered them \n",
    "for feature, importance in sorted_features:\n",
    "    print(f\"{feature}: {importance}\")\n"
   ]
  },
  {
   "cell_type": "code",
   "execution_count": 76,
   "id": "a67618ea",
   "metadata": {},
   "outputs": [
    {
     "data": {
      "image/png": "[encoded data removed]",
      "text/plain": [
       "<Figure size 432x288 with 1 Axes>"
      ]
     },
     "metadata": {
      "needs_background": "light"
     },
     "output_type": "display_data"
    }
   ],
   "source": [
    "from sklearn.metrics import roc_curve, auc\n",
    "import matplotlib.pyplot as plt\n",
    "import numpy as np\n",
    "\n",
    "#Roc\n",
    "# Geting the probability \n",
    "predictions = rf_model.transform(test_data).select(\"probability\", \"GenderIndex\").toPandas()\n",
    "\n",
    "\n",
    "y_prob = np.array([v[1] for v in predictions[\"probability\"]])\n",
    "\n",
    "# Caculating the value of ROC\n",
    "fpr, tpr, _ = roc_curve(predictions[\"GenderIndex\"], y_prob)\n",
    "\n",
    "# Caculating AUC（Area Under Curve）\n",
    "roc_auc = auc(fpr, tpr)\n",
    "\n",
    "# Drawing the plots\n",
    "plt.figure()\n",
    "plt.plot(fpr, tpr, label='ROC curve (area = %0.2f)' % roc_auc)#Drawing the ROC line\n",
    "plt.plot([0, 1], [0, 1], 'k--')#drawing the baseline\n",
    "plt.xlim([0.0, 1.0])\n",
    "plt.ylim([0.0, 1.05])\n",
    "plt.xlabel('False Positive Rate')#Apply the labels\n",
    "plt.ylabel('True Positive Rate')\n",
    "plt.title('Receiver Operating Characteristic-ROC Curve-Country')\n",
    "plt.legend(loc=\"lower right\")\n",
    "plt.show()"
   ]
  },
  {
   "cell_type": "code",
   "execution_count": null,
   "id": "ea1d1e70",
   "metadata": {},
   "outputs": [],
   "source": []
  }
 ],
 "metadata": {
  "kernelspec": {
   "display_name": "Python 3 (ipykernel)",
   "language": "python",
   "name": "python3"
  },
  "language_info": {
   "codemirror_mode": {
    "name": "ipython",
    "version": 3
   },
   "file_extension": ".py",
   "mimetype": "text/x-python",
   "name": "python",
   "nbconvert_exporter": "python",
   "pygments_lexer": "ipython3",
   "version": "3.10.12"
  }
 },
 "nbformat": 4,
 "nbformat_minor": 5
}
