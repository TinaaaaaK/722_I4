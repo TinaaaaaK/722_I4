{
 "cells": [
  {
   "cell_type": "markdown",
   "id": "89eda58d",
   "metadata": {},
   "source": [
    "This is some connect "
   ]
  },
  {
   "cell_type": "code",
   "execution_count": 296,
   "id": "671e6d0d",
   "metadata": {
    "scrolled": true
   },
   "outputs": [],
   "source": [
    "# Must be included at the beginning of each new notebook. Remember to change the app name.\n",
    "import findspark\n",
    "findspark.init('/home/ubuntu/spark-3.2.1-bin-hadoop2.7')\n",
    "import pyspark\n",
    "from pyspark.sql import SparkSession\n",
    "spark = SparkSession.builder.appName('basics').getOrCreate()"
   ]
  },
  {
   "cell_type": "code",
   "execution_count": 297,
   "id": "fff31127",
   "metadata": {},
   "outputs": [],
   "source": [
    "file = 'violence_data_NEW.csv'\n",
    "df = spark.read.csv(file, header=True, inferSchema=True)"
   ]
  },
  {
   "cell_type": "code",
   "execution_count": 298,
   "id": "a859fb5a",
   "metadata": {},
   "outputs": [],
   "source": [
    "from pyspark.sql.types import (StructField,StringType,IntegerType,StructType)"
   ]
  },
  {
   "cell_type": "code",
   "execution_count": 299,
   "id": "de4181ae",
   "metadata": {},
   "outputs": [],
   "source": [
    "#3.1 drop the 'Usere feedback' field\n",
    "columns_to_drop = ['User feedback']\n",
    "new_df = df.drop(*columns_to_drop)"
   ]
  },
  {
   "cell_type": "code",
   "execution_count": 300,
   "id": "d23fc58e",
   "metadata": {},
   "outputs": [
    {
     "data": {
      "text/plain": [
       "['RecordID',\n",
       " 'Country',\n",
       " 'Gender',\n",
       " 'Demographics Question',\n",
       " 'Demographics Response',\n",
       " 'Question',\n",
       " 'Survey Year',\n",
       " 'Value']"
      ]
     },
     "execution_count": 300,
     "metadata": {},
     "output_type": "execute_result"
    }
   ],
   "source": [
    "new_df.columns"
   ]
  },
  {
   "cell_type": "code",
   "execution_count": 301,
   "id": "14a55c66",
   "metadata": {},
   "outputs": [],
   "source": [
    "#use your sales average to fill missing data. \n",
    "from pyspark.sql.functions import mean\n",
    "#3.2 Dealing with the null value in 'Value' field\n",
    "mean_value = df.select(mean(df['Value'])).collect()[0][0]\n",
    "new_df = new_df.na.fill({'Value': mean_value})"
   ]
  },
  {
   "cell_type": "code",
   "execution_count": 302,
   "id": "a3dd6144",
   "metadata": {},
   "outputs": [
    {
     "name": "stdout",
     "output_type": "stream",
     "text": [
      "+--------+-----------+------+---------------------+---------------------+--------------------+-----------+-----------------+\n",
      "|RecordID|    Country|Gender|Demographics Question|Demographics Response|            Question|Survey Year|            Value|\n",
      "+--------+-----------+------+---------------------+---------------------+--------------------+-----------+-----------------+\n",
      "|       1|Afghanistan|     F|       Marital status|        Never married|... if she burns ...| 01/01/2015|19.76253687315632|\n",
      "|       1|Afghanistan|     F|            Education|               Higher|... if she burns ...| 01/01/2015|             10.1|\n",
      "|       1|Afghanistan|     F|            Education|            Secondary|... if she burns ...| 01/01/2015|             13.7|\n",
      "|       1|Afghanistan|     F|            Education|              Primary|... if she burns ...| 01/01/2015|             13.8|\n",
      "|       1|Afghanistan|     F|       Marital status| Widowed, divorced...|... if she burns ...| 01/01/2015|             13.8|\n",
      "|       1|Afghanistan|     F|           Employment|    Employed for kind|... if she burns ...| 01/01/2015|             17.0|\n",
      "|       1|Afghanistan|     F|                  Age|                15-24|... if she burns ...| 01/01/2015|             17.3|\n",
      "|       1|Afghanistan|     F|           Employment|           Unemployed|... if she burns ...| 01/01/2015|             18.0|\n",
      "|       1|Afghanistan|     F|            Residence|                Rural|... if she burns ...| 01/01/2015|             18.1|\n",
      "|       1|Afghanistan|     F|                  Age|                25-34|... if she burns ...| 01/01/2015|             18.2|\n",
      "|       1|Afghanistan|     F|       Marital status| Married or living...|... if she burns ...| 01/01/2015|             18.3|\n",
      "|       1|Afghanistan|     F|            Residence|                Urban|... if she burns ...| 01/01/2015|             18.3|\n",
      "|       1|Afghanistan|     F|                  Age|                35-49|... if she burns ...| 01/01/2015|             18.8|\n",
      "|       1|Afghanistan|     F|            Education|         No education|... if she burns ...| 01/01/2015|             19.1|\n",
      "|       1|Afghanistan|     F|           Employment|    Employed for cash|... if she burns ...| 01/01/2015|             20.8|\n",
      "|       1|Afghanistan|     M|       Marital status|        Never married|... if she burns ...| 01/01/2015|19.76253687315632|\n",
      "|       1|Afghanistan|     M|            Education|               Higher|... if she burns ...| 01/01/2015|              4.5|\n",
      "|       1|Afghanistan|     M|            Residence|                Urban|... if she burns ...| 01/01/2015|              4.6|\n",
      "|       1|Afghanistan|     M|           Employment|           Unemployed|... if she burns ...| 01/01/2015|              5.2|\n",
      "|       1|Afghanistan|     M|            Education|              Primary|... if she burns ...| 01/01/2015|              6.3|\n",
      "+--------+-----------+------+---------------------+---------------------+--------------------+-----------+-----------------+\n",
      "only showing top 20 rows\n",
      "\n",
      "root\n",
      " |-- RecordID: integer (nullable = true)\n",
      " |-- Country: string (nullable = true)\n",
      " |-- Gender: string (nullable = true)\n",
      " |-- Demographics Question: string (nullable = true)\n",
      " |-- Demographics Response: string (nullable = true)\n",
      " |-- Question: string (nullable = true)\n",
      " |-- Survey Year: string (nullable = true)\n",
      " |-- Value: double (nullable = false)\n",
      "\n"
     ]
    }
   ],
   "source": [
    "new_df.show()\n",
    "new_df.printSchema()"
   ]
  },
  {
   "cell_type": "code",
   "execution_count": 303,
   "id": "5783a8ae",
   "metadata": {},
   "outputs": [
    {
     "name": "stdout",
     "output_type": "stream",
     "text": [
      "+-----------------+\n",
      "|            Value|\n",
      "+-----------------+\n",
      "|19.76253687315632|\n",
      "|             10.1|\n",
      "|             13.7|\n",
      "|             13.8|\n",
      "|             13.8|\n",
      "|             17.0|\n",
      "|             17.3|\n",
      "|             18.0|\n",
      "|             18.1|\n",
      "|             18.2|\n",
      "|             18.3|\n",
      "|             18.3|\n",
      "|             18.8|\n",
      "|             19.1|\n",
      "|             20.8|\n",
      "|19.76253687315632|\n",
      "|              4.5|\n",
      "|              4.6|\n",
      "|              5.2|\n",
      "|              6.3|\n",
      "+-----------------+\n",
      "only showing top 20 rows\n",
      "\n",
      "+-------+------------------+\n",
      "|summary|             Value|\n",
      "+-------+------------------+\n",
      "|  count|             12600|\n",
      "|   mean| 19.76253687315705|\n",
      "| stddev|16.005588776096097|\n",
      "|    min|               0.0|\n",
      "|    max|              86.9|\n",
      "+-------+------------------+\n",
      "\n"
     ]
    }
   ],
   "source": [
    "new = 'Value'\n",
    "\n",
    "new_df.select(new).show()\n",
    "new_df.select(new).describe().show()"
   ]
  },
  {
   "cell_type": "code",
   "execution_count": 304,
   "id": "e85507af",
   "metadata": {},
   "outputs": [],
   "source": [
    "#3.3 Constructing new data from 'Value' called 'Measurement'\n",
    "from pyspark.sql.functions import mean, col, when \n",
    "data_copy_33 = new_df.withColumn(\n",
    "    'Measurement',\n",
    "    when(col('Value') == mean_value, 0).otherwise(1)\n",
    ")\n"
   ]
  },
  {
   "cell_type": "code",
   "execution_count": 305,
   "id": "90536425",
   "metadata": {},
   "outputs": [
    {
     "name": "stdout",
     "output_type": "stream",
     "text": [
      "+-----------+\n",
      "|Measurement|\n",
      "+-----------+\n",
      "|          0|\n",
      "|          1|\n",
      "|          1|\n",
      "|          1|\n",
      "|          1|\n",
      "|          1|\n",
      "|          1|\n",
      "|          1|\n",
      "|          1|\n",
      "|          1|\n",
      "|          1|\n",
      "|          1|\n",
      "|          1|\n",
      "|          1|\n",
      "|          1|\n",
      "|          0|\n",
      "|          1|\n",
      "|          1|\n",
      "|          1|\n",
      "|          1|\n",
      "+-----------+\n",
      "only showing top 20 rows\n",
      "\n",
      "+-------+-------------------+\n",
      "|summary|        Measurement|\n",
      "+-------+-------------------+\n",
      "|  count|              12600|\n",
      "|   mean| 0.8878571428571429|\n",
      "| stddev|0.31555465373180014|\n",
      "|    min|                  0|\n",
      "|    max|                  1|\n",
      "+-------+-------------------+\n",
      "\n"
     ]
    }
   ],
   "source": [
    "new = 'Measurement'\n",
    "\n",
    "data_copy_33.select(new).show()\n",
    "data_copy_33.select(new).describe().show()"
   ]
  },
  {
   "cell_type": "code",
   "execution_count": 306,
   "id": "f6358654",
   "metadata": {},
   "outputs": [
    {
     "name": "stdout",
     "output_type": "stream",
     "text": [
      "root\n",
      " |-- RecordID: integer (nullable = true)\n",
      " |-- Country: string (nullable = true)\n",
      " |-- Gender: string (nullable = true)\n",
      " |-- Demographics Question: string (nullable = true)\n",
      " |-- Demographics Response: string (nullable = true)\n",
      " |-- Question: string (nullable = true)\n",
      " |-- Survey Year: string (nullable = true)\n",
      " |-- Value: double (nullable = false)\n",
      " |-- Measurement: integer (nullable = false)\n",
      "\n"
     ]
    }
   ],
   "source": [
    "data_copy_33.printSchema()"
   ]
  },
  {
   "cell_type": "code",
   "execution_count": 307,
   "id": "07ffe426",
   "metadata": {},
   "outputs": [],
   "source": [
    "#3.4 Merging with other dataframe\n",
    "file2 = 'violence_data_merge.csv'\n",
    "merge_df = spark.read.csv(file2, header=True, inferSchema=True)"
   ]
  },
  {
   "cell_type": "code",
   "execution_count": 308,
   "id": "4b5aa2cd",
   "metadata": {
    "scrolled": true
   },
   "outputs": [
    {
     "name": "stdout",
     "output_type": "stream",
     "text": [
      "+--------+----+----+----+----+----+----+----+-------------+\n",
      "|RecordID| _c1| _c2| _c3| _c4| _c5| _c6| _c7|User feedback|\n",
      "+--------+----+----+----+----+----+----+----+-------------+\n",
      "|       1|null|null|null|null|null|null|null|         null|\n",
      "|       1|null|null|null|null|null|null|null|         null|\n",
      "|       1|null|null|null|null|null|null|null|         null|\n",
      "|       1|null|null|null|null|null|null|null|           10|\n",
      "|       1|null|null|null|null|null|null|null|         null|\n",
      "|       1|null|null|null|null|null|null|null|         null|\n",
      "|       1|null|null|null|null|null|null|null|           23|\n",
      "|       1|null|null|null|null|null|null|null|            e|\n",
      "|       1|null|null|null|null|null|null|null|           4t|\n",
      "|       1|null|null|null|null|null|null|null|             |\n",
      "|       1|null|null|null|null|null|null|null|         null|\n",
      "|       1|null|null|null|null|null|null|null|         null|\n",
      "|       1|null|null|null|null|null|null|null|          532|\n",
      "|       1|null|null|null|null|null|null|null|         null|\n",
      "|       1|null|null|null|null|null|null|null|         null|\n",
      "|       1|null|null|null|null|null|null|null|         null|\n",
      "|       1|null|null|null|null|null|null|null|         null|\n",
      "|       1|null|null|null|null|null|null|null|          543|\n",
      "|       1|null|null|null|null|null|null|null|         null|\n",
      "|       1|null|null|null|null|null|null|null|         null|\n",
      "+--------+----+----+----+----+----+----+----+-------------+\n",
      "only showing top 20 rows\n",
      "\n"
     ]
    },
    {
     "name": "stderr",
     "output_type": "stream",
     "text": [
      "23/10/11 04:12:09 WARN CSVHeaderChecker: CSV header does not conform to the schema.\n",
      " Header: RecordID, , , , , , , , User feedback\n",
      " Schema: RecordID, _c1, _c2, _c3, _c4, _c5, _c6, _c7, User feedback\n",
      "Expected: _c1 but found: \n",
      "CSV file: file:///home/ubuntu/722_I4/violence_data_merge.csv\n"
     ]
    }
   ],
   "source": [
    "merge_df.show()"
   ]
  },
  {
   "cell_type": "code",
   "execution_count": 309,
   "id": "967035c8",
   "metadata": {},
   "outputs": [],
   "source": [
    "merged_data = data_copy_33.join(merge_df, 'RecordID')"
   ]
  },
  {
   "cell_type": "code",
   "execution_count": 310,
   "id": "6a54d672",
   "metadata": {},
   "outputs": [
    {
     "name": "stdout",
     "output_type": "stream",
     "text": [
      "+--------+-----------+------+---------------------+---------------------+--------------------+-----------+-----------------+-----------+----+----+----+----+----+----+----+-------------+\n",
      "|RecordID|    Country|Gender|Demographics Question|Demographics Response|            Question|Survey Year|            Value|Measurement| _c1| _c2| _c3| _c4| _c5| _c6| _c7|User feedback|\n",
      "+--------+-----------+------+---------------------+---------------------+--------------------+-----------+-----------------+-----------+----+----+----+----+----+----+----+-------------+\n",
      "|       1|Afghanistan|     F|       Marital status|        Never married|... if she burns ...| 01/01/2015|19.76253687315632|          0|null|null|null|null|null|null|null|           4e|\n",
      "|       1|Afghanistan|     F|       Marital status|        Never married|... if she burns ...| 01/01/2015|19.76253687315632|          0|null|null|null|null|null|null|null|         gf43|\n",
      "|       1|Afghanistan|     F|       Marital status|        Never married|... if she burns ...| 01/01/2015|19.76253687315632|          0|null|null|null|null|null|null|null|         null|\n",
      "|       1|Afghanistan|     F|       Marital status|        Never married|... if she burns ...| 01/01/2015|19.76253687315632|          0|null|null|null|null|null|null|null|         null|\n",
      "|       1|Afghanistan|     F|       Marital status|        Never married|... if she burns ...| 01/01/2015|19.76253687315632|          0|null|null|null|null|null|null|null|        fdcet|\n",
      "|       1|Afghanistan|     F|       Marital status|        Never married|... if she burns ...| 01/01/2015|19.76253687315632|          0|null|null|null|null|null|null|null|         null|\n",
      "|       1|Afghanistan|     F|       Marital status|        Never married|... if she burns ...| 01/01/2015|19.76253687315632|          0|null|null|null|null|null|null|null|         null|\n",
      "|       1|Afghanistan|     F|       Marital status|        Never married|... if she burns ...| 01/01/2015|19.76253687315632|          0|null|null|null|null|null|null|null|           f5|\n",
      "|       1|Afghanistan|     F|       Marital status|        Never married|... if she burns ...| 01/01/2015|19.76253687315632|          0|null|null|null|null|null|null|null|         null|\n",
      "|       1|Afghanistan|     F|       Marital status|        Never married|... if she burns ...| 01/01/2015|19.76253687315632|          0|null|null|null|null|null|null|null|         r54t|\n",
      "|       1|Afghanistan|     F|       Marital status|        Never married|... if she burns ...| 01/01/2015|19.76253687315632|          0|null|null|null|null|null|null|null|         null|\n",
      "|       1|Afghanistan|     F|       Marital status|        Never married|... if she burns ...| 01/01/2015|19.76253687315632|          0|null|null|null|null|null|null|null|         null|\n",
      "|       1|Afghanistan|     F|       Marital status|        Never married|... if she burns ...| 01/01/2015|19.76253687315632|          0|null|null|null|null|null|null|null|          543|\n",
      "|       1|Afghanistan|     F|       Marital status|        Never married|... if she burns ...| 01/01/2015|19.76253687315632|          0|null|null|null|null|null|null|null|         null|\n",
      "|       1|Afghanistan|     F|       Marital status|        Never married|... if she burns ...| 01/01/2015|19.76253687315632|          0|null|null|null|null|null|null|null|         null|\n",
      "|       1|Afghanistan|     F|       Marital status|        Never married|... if she burns ...| 01/01/2015|19.76253687315632|          0|null|null|null|null|null|null|null|         null|\n",
      "|       1|Afghanistan|     F|       Marital status|        Never married|... if she burns ...| 01/01/2015|19.76253687315632|          0|null|null|null|null|null|null|null|         null|\n",
      "|       1|Afghanistan|     F|       Marital status|        Never married|... if she burns ...| 01/01/2015|19.76253687315632|          0|null|null|null|null|null|null|null|          532|\n",
      "|       1|Afghanistan|     F|       Marital status|        Never married|... if she burns ...| 01/01/2015|19.76253687315632|          0|null|null|null|null|null|null|null|         null|\n",
      "|       1|Afghanistan|     F|       Marital status|        Never married|... if she burns ...| 01/01/2015|19.76253687315632|          0|null|null|null|null|null|null|null|         null|\n",
      "+--------+-----------+------+---------------------+---------------------+--------------------+-----------+-----------------+-----------+----+----+----+----+----+----+----+-------------+\n",
      "only showing top 20 rows\n",
      "\n",
      "root\n",
      " |-- RecordID: integer (nullable = true)\n",
      " |-- Country: string (nullable = true)\n",
      " |-- Gender: string (nullable = true)\n",
      " |-- Demographics Question: string (nullable = true)\n",
      " |-- Demographics Response: string (nullable = true)\n",
      " |-- Question: string (nullable = true)\n",
      " |-- Survey Year: string (nullable = true)\n",
      " |-- Value: double (nullable = false)\n",
      " |-- Measurement: integer (nullable = false)\n",
      " |-- _c1: string (nullable = true)\n",
      " |-- _c2: string (nullable = true)\n",
      " |-- _c3: string (nullable = true)\n",
      " |-- _c4: string (nullable = true)\n",
      " |-- _c5: string (nullable = true)\n",
      " |-- _c6: string (nullable = true)\n",
      " |-- _c7: string (nullable = true)\n",
      " |-- User feedback: string (nullable = true)\n",
      "\n"
     ]
    },
    {
     "name": "stderr",
     "output_type": "stream",
     "text": [
      "23/10/11 04:12:09 WARN CSVHeaderChecker: CSV header does not conform to the schema.\n",
      " Header: RecordID, , , , , , , , User feedback\n",
      " Schema: RecordID, _c1, _c2, _c3, _c4, _c5, _c6, _c7, User feedback\n",
      "Expected: _c1 but found: \n",
      "CSV file: file:///home/ubuntu/722_I4/violence_data_merge.csv\n"
     ]
    }
   ],
   "source": [
    "merged_data.show()\n",
    "merged_data.printSchema()"
   ]
  },
  {
   "cell_type": "code",
   "execution_count": 311,
   "id": "921fd5a7",
   "metadata": {},
   "outputs": [],
   "source": [
    "#3.5 Removing all the other fields that do not have anything contains\n",
    "columns_to_drop = ['_c1', '_c2', '_c3', '_c4', '_c5', '_c6', '_c7']\n",
    "merged_data = merged_data.drop(*columns_to_drop)"
   ]
  },
  {
   "cell_type": "code",
   "execution_count": 312,
   "id": "ce614c09",
   "metadata": {},
   "outputs": [
    {
     "name": "stdout",
     "output_type": "stream",
     "text": [
      "root\n",
      " |-- RecordID: integer (nullable = true)\n",
      " |-- Country: string (nullable = true)\n",
      " |-- Gender: string (nullable = true)\n",
      " |-- Demographics Question: string (nullable = true)\n",
      " |-- Demographics Response: string (nullable = true)\n",
      " |-- Question: string (nullable = true)\n",
      " |-- Survey Year: string (nullable = true)\n",
      " |-- Value: double (nullable = false)\n",
      " |-- Measurement: integer (nullable = false)\n",
      " |-- User feedback: string (nullable = true)\n",
      "\n",
      "+-----+\n",
      "|Value|\n",
      "+-----+\n",
      "| null|\n",
      "| 10.1|\n",
      "| 13.7|\n",
      "| 13.8|\n",
      "| 13.8|\n",
      "| 17.0|\n",
      "| 17.3|\n",
      "| 18.0|\n",
      "| 18.1|\n",
      "| 18.2|\n",
      "| 18.3|\n",
      "| 18.3|\n",
      "| 18.8|\n",
      "| 19.1|\n",
      "| 20.8|\n",
      "| null|\n",
      "|  4.5|\n",
      "|  4.6|\n",
      "|  5.2|\n",
      "|  6.3|\n",
      "+-----+\n",
      "only showing top 20 rows\n",
      "\n",
      "+-------+------------------+\n",
      "|summary|             Value|\n",
      "+-------+------------------+\n",
      "|  count|            378000|\n",
      "|   mean| 19.76253687315055|\n",
      "| stddev|16.004974791697258|\n",
      "|    min|               0.0|\n",
      "|    max|              86.9|\n",
      "+-------+------------------+\n",
      "\n"
     ]
    }
   ],
   "source": [
    "merged_data.printSchema()\n",
    "new = 'Value'\n",
    "\n",
    "df.select(new).show()\n",
    "merged_data.select(new).describe().show()"
   ]
  },
  {
   "cell_type": "code",
   "execution_count": 313,
   "id": "fbeba851",
   "metadata": {},
   "outputs": [],
   "source": [
    "#4.1 Feature selection & Encoding the string fields\n",
    "from pyspark.ml.feature import StringIndexer, OneHotEncoder\n",
    "from pyspark.ml.feature import VectorAssembler"
   ]
  },
  {
   "cell_type": "code",
   "execution_count": 314,
   "id": "01e93f8e",
   "metadata": {},
   "outputs": [],
   "source": [
    "#Encoding 'Country'\n",
    "indexer = StringIndexer(inputCol=\"Country\", outputCol=\"CountryIndex\")\n",
    "encoder = OneHotEncoder(inputCols=[\"CountryIndex\"], outputCols=[\"CountryVec\"])\n",
    "df = indexer.fit(df).transform(df)\n",
    "df = encoder.fit(df).transform(df)"
   ]
  },
  {
   "cell_type": "code",
   "execution_count": 315,
   "id": "4e8993cd",
   "metadata": {},
   "outputs": [
    {
     "name": "stdout",
     "output_type": "stream",
     "text": [
      "root\n",
      " |-- RecordID: integer (nullable = true)\n",
      " |-- Country: string (nullable = true)\n",
      " |-- Gender: string (nullable = true)\n",
      " |-- Demographics Question: string (nullable = true)\n",
      " |-- Demographics Response: string (nullable = true)\n",
      " |-- Question: string (nullable = true)\n",
      " |-- Survey Year: string (nullable = true)\n",
      " |-- Value: double (nullable = true)\n",
      " |-- User feedback: string (nullable = true)\n",
      " |-- CountryIndex: double (nullable = false)\n",
      " |-- CountryVec: vector (nullable = true)\n",
      "\n"
     ]
    }
   ],
   "source": [
    "df.printSchema()"
   ]
  },
  {
   "cell_type": "code",
   "execution_count": 316,
   "id": "922fda86",
   "metadata": {
    "scrolled": true
   },
   "outputs": [
    {
     "name": "stdout",
     "output_type": "stream",
     "text": [
      "root\n",
      " |-- RecordID: integer (nullable = true)\n",
      " |-- Country: string (nullable = true)\n",
      " |-- Gender: string (nullable = true)\n",
      " |-- Demographics Question: string (nullable = true)\n",
      " |-- Demographics Response: string (nullable = true)\n",
      " |-- Question: string (nullable = true)\n",
      " |-- Survey Year: string (nullable = true)\n",
      " |-- Value: double (nullable = true)\n",
      " |-- User feedback: string (nullable = true)\n",
      " |-- CountryIndex: double (nullable = false)\n",
      " |-- CountryVec: vector (nullable = true)\n",
      " |-- GenderIndex: double (nullable = false)\n",
      " |-- GenderVec: vector (nullable = true)\n",
      "\n"
     ]
    }
   ],
   "source": [
    "#Encoding 'Gender'\n",
    "indexer = StringIndexer(inputCol=\"Gender\", outputCol=\"GenderIndex\")\n",
    "encoder = OneHotEncoder(inputCols=[\"GenderIndex\"], outputCols=[\"GenderVec\"])\n",
    "df = indexer.fit(df).transform(df)\n",
    "df = encoder.fit(df).transform(df)\n",
    "df.printSchema()"
   ]
  },
  {
   "cell_type": "code",
   "execution_count": 317,
   "id": "5d0473e5",
   "metadata": {},
   "outputs": [
    {
     "name": "stdout",
     "output_type": "stream",
     "text": [
      "root\n",
      " |-- RecordID: integer (nullable = true)\n",
      " |-- Country: string (nullable = true)\n",
      " |-- Gender: string (nullable = true)\n",
      " |-- Demographics Question: string (nullable = true)\n",
      " |-- Demographics Response: string (nullable = true)\n",
      " |-- Question: string (nullable = true)\n",
      " |-- Survey Year: string (nullable = true)\n",
      " |-- Value: double (nullable = true)\n",
      " |-- User feedback: string (nullable = true)\n",
      " |-- CountryIndex: double (nullable = false)\n",
      " |-- CountryVec: vector (nullable = true)\n",
      " |-- GenderIndex: double (nullable = false)\n",
      " |-- GenderVec: vector (nullable = true)\n",
      " |-- ResponseIndex: double (nullable = false)\n",
      "\n"
     ]
    }
   ],
   "source": [
    "#Encoding 'Demographics Response' \n",
    "#responseIndexer = StringIndexer(inputCol=\"Demographics Response\", outputCol=\"ResponseIndex\")\n",
    "#responseEncoder = OneHotEncoder(inputCols=[\"ResponseIndex\"], outputCols=[\"ResponseVec\"])\n",
    "#df = responseIndexer.fit(df).transform(df)\n",
    "#df = responseEncoder.fit(df).transform(df)\n",
    "indexer = StringIndexer(inputCol=\"Demographics Response\", outputCol=\"ResponseIndex\")\n",
    "df = indexer.fit(df).transform(df)\n",
    "df.printSchema()"
   ]
  },
  {
   "cell_type": "code",
   "execution_count": 318,
   "id": "08cbc67a",
   "metadata": {},
   "outputs": [
    {
     "name": "stdout",
     "output_type": "stream",
     "text": [
      "+--------+-----------+------+---------------------+---------------------+--------------------+-----------+-----+-------------+------------+--------------+-----------+-------------+-------------+\n",
      "|RecordID|    Country|Gender|Demographics Question|Demographics Response|            Question|Survey Year|Value|User feedback|CountryIndex|    CountryVec|GenderIndex|    GenderVec|ResponseIndex|\n",
      "+--------+-----------+------+---------------------+---------------------+--------------------+-----------+-----+-------------+------------+--------------+-----------+-------------+-------------+\n",
      "|       1|Afghanistan|     F|       Marital status|        Never married|... if she burns ...| 01/01/2015| null|         null|         0.0|(69,[0],[1.0])|        0.0|(1,[0],[1.0])|          7.0|\n",
      "|       1|Afghanistan|     F|            Education|               Higher|... if she burns ...| 01/01/2015| 10.1|         null|         0.0|(69,[0],[1.0])|        0.0|(1,[0],[1.0])|          5.0|\n",
      "|       1|Afghanistan|     F|            Education|            Secondary|... if she burns ...| 01/01/2015| 13.7|         null|         0.0|(69,[0],[1.0])|        0.0|(1,[0],[1.0])|         11.0|\n",
      "|       1|Afghanistan|     F|            Education|              Primary|... if she burns ...| 01/01/2015| 13.8|           10|         0.0|(69,[0],[1.0])|        0.0|(1,[0],[1.0])|          9.0|\n",
      "|       1|Afghanistan|     F|       Marital status| Widowed, divorced...|... if she burns ...| 01/01/2015| 13.8|         null|         0.0|(69,[0],[1.0])|        0.0|(1,[0],[1.0])|         14.0|\n",
      "|       1|Afghanistan|     F|           Employment|    Employed for kind|... if she burns ...| 01/01/2015| 17.0|         null|         0.0|(69,[0],[1.0])|        0.0|(1,[0],[1.0])|          4.0|\n",
      "|       1|Afghanistan|     F|                  Age|                15-24|... if she burns ...| 01/01/2015| 17.3|           23|         0.0|(69,[0],[1.0])|        0.0|(1,[0],[1.0])|          0.0|\n",
      "|       1|Afghanistan|     F|           Employment|           Unemployed|... if she burns ...| 01/01/2015| 18.0|            e|         0.0|(69,[0],[1.0])|        0.0|(1,[0],[1.0])|         12.0|\n",
      "|       1|Afghanistan|     F|            Residence|                Rural|... if she burns ...| 01/01/2015| 18.1|           4t|         0.0|(69,[0],[1.0])|        0.0|(1,[0],[1.0])|         10.0|\n",
      "|       1|Afghanistan|     F|                  Age|                25-34|... if she burns ...| 01/01/2015| 18.2|             |         0.0|(69,[0],[1.0])|        0.0|(1,[0],[1.0])|          1.0|\n",
      "|       1|Afghanistan|     F|       Marital status| Married or living...|... if she burns ...| 01/01/2015| 18.3|         null|         0.0|(69,[0],[1.0])|        0.0|(1,[0],[1.0])|          6.0|\n",
      "|       1|Afghanistan|     F|            Residence|                Urban|... if she burns ...| 01/01/2015| 18.3|         null|         0.0|(69,[0],[1.0])|        0.0|(1,[0],[1.0])|         13.0|\n",
      "|       1|Afghanistan|     F|                  Age|                35-49|... if she burns ...| 01/01/2015| 18.8|          532|         0.0|(69,[0],[1.0])|        0.0|(1,[0],[1.0])|          2.0|\n",
      "|       1|Afghanistan|     F|            Education|         No education|... if she burns ...| 01/01/2015| 19.1|         null|         0.0|(69,[0],[1.0])|        0.0|(1,[0],[1.0])|          8.0|\n",
      "|       1|Afghanistan|     F|           Employment|    Employed for cash|... if she burns ...| 01/01/2015| 20.8|         null|         0.0|(69,[0],[1.0])|        0.0|(1,[0],[1.0])|          3.0|\n",
      "|       1|Afghanistan|     M|       Marital status|        Never married|... if she burns ...| 01/01/2015| null|         null|         0.0|(69,[0],[1.0])|        1.0|    (1,[],[])|          7.0|\n",
      "|       1|Afghanistan|     M|            Education|               Higher|... if she burns ...| 01/01/2015|  4.5|         null|         0.0|(69,[0],[1.0])|        1.0|    (1,[],[])|          5.0|\n",
      "|       1|Afghanistan|     M|            Residence|                Urban|... if she burns ...| 01/01/2015|  4.6|          543|         0.0|(69,[0],[1.0])|        1.0|    (1,[],[])|         13.0|\n",
      "|       1|Afghanistan|     M|           Employment|           Unemployed|... if she burns ...| 01/01/2015|  5.2|         null|         0.0|(69,[0],[1.0])|        1.0|    (1,[],[])|         12.0|\n",
      "|       1|Afghanistan|     M|            Education|              Primary|... if she burns ...| 01/01/2015|  6.3|         null|         0.0|(69,[0],[1.0])|        1.0|    (1,[],[])|          9.0|\n",
      "+--------+-----------+------+---------------------+---------------------+--------------------+-----------+-----+-------------+------------+--------------+-----------+-------------+-------------+\n",
      "only showing top 20 rows\n",
      "\n"
     ]
    }
   ],
   "source": [
    "df.show()\n",
    "#retreat\n",
    "\n",
    "new_df = df.na.fill(0)\n"
   ]
  },
  {
   "cell_type": "code",
   "execution_count": 319,
   "id": "3bc90528",
   "metadata": {
    "scrolled": true
   },
   "outputs": [
    {
     "name": "stdout",
     "output_type": "stream",
     "text": [
      "+--------+-----------+------+---------------------+---------------------+--------------------+-----------+-----+-------------+------------+--------------+-----------+-------------+-------------+\n",
      "|RecordID|    Country|Gender|Demographics Question|Demographics Response|            Question|Survey Year|Value|User feedback|CountryIndex|    CountryVec|GenderIndex|    GenderVec|ResponseIndex|\n",
      "+--------+-----------+------+---------------------+---------------------+--------------------+-----------+-----+-------------+------------+--------------+-----------+-------------+-------------+\n",
      "|       1|Afghanistan|     F|       Marital status|        Never married|... if she burns ...| 01/01/2015|  0.0|         null|         0.0|(69,[0],[1.0])|        0.0|(1,[0],[1.0])|          7.0|\n",
      "|       1|Afghanistan|     F|            Education|               Higher|... if she burns ...| 01/01/2015| 10.1|         null|         0.0|(69,[0],[1.0])|        0.0|(1,[0],[1.0])|          5.0|\n",
      "|       1|Afghanistan|     F|            Education|            Secondary|... if she burns ...| 01/01/2015| 13.7|         null|         0.0|(69,[0],[1.0])|        0.0|(1,[0],[1.0])|         11.0|\n",
      "|       1|Afghanistan|     F|            Education|              Primary|... if she burns ...| 01/01/2015| 13.8|           10|         0.0|(69,[0],[1.0])|        0.0|(1,[0],[1.0])|          9.0|\n",
      "|       1|Afghanistan|     F|       Marital status| Widowed, divorced...|... if she burns ...| 01/01/2015| 13.8|         null|         0.0|(69,[0],[1.0])|        0.0|(1,[0],[1.0])|         14.0|\n",
      "|       1|Afghanistan|     F|           Employment|    Employed for kind|... if she burns ...| 01/01/2015| 17.0|         null|         0.0|(69,[0],[1.0])|        0.0|(1,[0],[1.0])|          4.0|\n",
      "|       1|Afghanistan|     F|                  Age|                15-24|... if she burns ...| 01/01/2015| 17.3|           23|         0.0|(69,[0],[1.0])|        0.0|(1,[0],[1.0])|          0.0|\n",
      "|       1|Afghanistan|     F|           Employment|           Unemployed|... if she burns ...| 01/01/2015| 18.0|            e|         0.0|(69,[0],[1.0])|        0.0|(1,[0],[1.0])|         12.0|\n",
      "|       1|Afghanistan|     F|            Residence|                Rural|... if she burns ...| 01/01/2015| 18.1|           4t|         0.0|(69,[0],[1.0])|        0.0|(1,[0],[1.0])|         10.0|\n",
      "|       1|Afghanistan|     F|                  Age|                25-34|... if she burns ...| 01/01/2015| 18.2|             |         0.0|(69,[0],[1.0])|        0.0|(1,[0],[1.0])|          1.0|\n",
      "|       1|Afghanistan|     F|       Marital status| Married or living...|... if she burns ...| 01/01/2015| 18.3|         null|         0.0|(69,[0],[1.0])|        0.0|(1,[0],[1.0])|          6.0|\n",
      "|       1|Afghanistan|     F|            Residence|                Urban|... if she burns ...| 01/01/2015| 18.3|         null|         0.0|(69,[0],[1.0])|        0.0|(1,[0],[1.0])|         13.0|\n",
      "|       1|Afghanistan|     F|                  Age|                35-49|... if she burns ...| 01/01/2015| 18.8|          532|         0.0|(69,[0],[1.0])|        0.0|(1,[0],[1.0])|          2.0|\n",
      "|       1|Afghanistan|     F|            Education|         No education|... if she burns ...| 01/01/2015| 19.1|         null|         0.0|(69,[0],[1.0])|        0.0|(1,[0],[1.0])|          8.0|\n",
      "|       1|Afghanistan|     F|           Employment|    Employed for cash|... if she burns ...| 01/01/2015| 20.8|         null|         0.0|(69,[0],[1.0])|        0.0|(1,[0],[1.0])|          3.0|\n",
      "|       1|Afghanistan|     M|       Marital status|        Never married|... if she burns ...| 01/01/2015|  0.0|         null|         0.0|(69,[0],[1.0])|        1.0|    (1,[],[])|          7.0|\n",
      "|       1|Afghanistan|     M|            Education|               Higher|... if she burns ...| 01/01/2015|  4.5|         null|         0.0|(69,[0],[1.0])|        1.0|    (1,[],[])|          5.0|\n",
      "|       1|Afghanistan|     M|            Residence|                Urban|... if she burns ...| 01/01/2015|  4.6|          543|         0.0|(69,[0],[1.0])|        1.0|    (1,[],[])|         13.0|\n",
      "|       1|Afghanistan|     M|           Employment|           Unemployed|... if she burns ...| 01/01/2015|  5.2|         null|         0.0|(69,[0],[1.0])|        1.0|    (1,[],[])|         12.0|\n",
      "|       1|Afghanistan|     M|            Education|              Primary|... if she burns ...| 01/01/2015|  6.3|         null|         0.0|(69,[0],[1.0])|        1.0|    (1,[],[])|          9.0|\n",
      "+--------+-----------+------+---------------------+---------------------+--------------------+-----------+-----+-------------+------------+--------------+-----------+-------------+-------------+\n",
      "only showing top 20 rows\n",
      "\n"
     ]
    }
   ],
   "source": [
    "new_df.show()"
   ]
  },
  {
   "cell_type": "code",
   "execution_count": 320,
   "id": "27cbfd54",
   "metadata": {},
   "outputs": [
    {
     "name": "stdout",
     "output_type": "stream",
     "text": [
      "Skewness of 'Value': 1.1445442844796359\n"
     ]
    }
   ],
   "source": [
    "from pyspark.sql.functions import skewness\n",
    "skewness_value = new_df.select(skewness(new_df['Value'])).collect()[0][0]\n",
    "print(f\"Skewness of 'Value': {skewness_value}\")\n"
   ]
  },
  {
   "cell_type": "code",
   "execution_count": 321,
   "id": "2812041f",
   "metadata": {},
   "outputs": [],
   "source": [
    "from pyspark.sql.functions import sqrt\n",
    "new_df = new_df.withColumn('new_values', sqrt(new_df['Value']))\n"
   ]
  },
  {
   "cell_type": "code",
   "execution_count": 322,
   "id": "6d28298f",
   "metadata": {},
   "outputs": [
    {
     "name": "stdout",
     "output_type": "stream",
     "text": [
      "+--------+-----------+------+---------------------+---------------------+--------------------+-----------+-----+-------------+------------+--------------+-----------+-------------+-------------+------------------+\n",
      "|RecordID|    Country|Gender|Demographics Question|Demographics Response|            Question|Survey Year|Value|User feedback|CountryIndex|    CountryVec|GenderIndex|    GenderVec|ResponseIndex|        new_values|\n",
      "+--------+-----------+------+---------------------+---------------------+--------------------+-----------+-----+-------------+------------+--------------+-----------+-------------+-------------+------------------+\n",
      "|       1|Afghanistan|     F|       Marital status|        Never married|... if she burns ...| 01/01/2015|  0.0|         null|         0.0|(69,[0],[1.0])|        0.0|(1,[0],[1.0])|          7.0|               0.0|\n",
      "|       1|Afghanistan|     F|            Education|               Higher|... if she burns ...| 01/01/2015| 10.1|         null|         0.0|(69,[0],[1.0])|        0.0|(1,[0],[1.0])|          5.0|3.1780497164141406|\n",
      "|       1|Afghanistan|     F|            Education|            Secondary|... if she burns ...| 01/01/2015| 13.7|         null|         0.0|(69,[0],[1.0])|        0.0|(1,[0],[1.0])|         11.0|3.7013511046643495|\n",
      "|       1|Afghanistan|     F|            Education|              Primary|... if she burns ...| 01/01/2015| 13.8|           10|         0.0|(69,[0],[1.0])|        0.0|(1,[0],[1.0])|          9.0| 3.714835124201342|\n",
      "|       1|Afghanistan|     F|       Marital status| Widowed, divorced...|... if she burns ...| 01/01/2015| 13.8|         null|         0.0|(69,[0],[1.0])|        0.0|(1,[0],[1.0])|         14.0| 3.714835124201342|\n",
      "|       1|Afghanistan|     F|           Employment|    Employed for kind|... if she burns ...| 01/01/2015| 17.0|         null|         0.0|(69,[0],[1.0])|        0.0|(1,[0],[1.0])|          4.0| 4.123105625617661|\n",
      "|       1|Afghanistan|     F|                  Age|                15-24|... if she burns ...| 01/01/2015| 17.3|           23|         0.0|(69,[0],[1.0])|        0.0|(1,[0],[1.0])|          0.0| 4.159326868617084|\n",
      "|       1|Afghanistan|     F|           Employment|           Unemployed|... if she burns ...| 01/01/2015| 18.0|            e|         0.0|(69,[0],[1.0])|        0.0|(1,[0],[1.0])|         12.0| 4.242640687119285|\n",
      "|       1|Afghanistan|     F|            Residence|                Rural|... if she burns ...| 01/01/2015| 18.1|           4t|         0.0|(69,[0],[1.0])|        0.0|(1,[0],[1.0])|         10.0| 4.254409477236529|\n",
      "|       1|Afghanistan|     F|                  Age|                25-34|... if she burns ...| 01/01/2015| 18.2|             |         0.0|(69,[0],[1.0])|        0.0|(1,[0],[1.0])|          1.0| 4.266145801540309|\n",
      "|       1|Afghanistan|     F|       Marital status| Married or living...|... if she burns ...| 01/01/2015| 18.3|         null|         0.0|(69,[0],[1.0])|        0.0|(1,[0],[1.0])|          6.0| 4.277849927241488|\n",
      "|       1|Afghanistan|     F|            Residence|                Urban|... if she burns ...| 01/01/2015| 18.3|         null|         0.0|(69,[0],[1.0])|        0.0|(1,[0],[1.0])|         13.0| 4.277849927241488|\n",
      "|       1|Afghanistan|     F|                  Age|                35-49|... if she burns ...| 01/01/2015| 18.8|          532|         0.0|(69,[0],[1.0])|        0.0|(1,[0],[1.0])|          2.0|  4.33589667773576|\n",
      "|       1|Afghanistan|     F|            Education|         No education|... if she burns ...| 01/01/2015| 19.1|         null|         0.0|(69,[0],[1.0])|        0.0|(1,[0],[1.0])|          8.0| 4.370354676682432|\n",
      "|       1|Afghanistan|     F|           Employment|    Employed for cash|... if she burns ...| 01/01/2015| 20.8|         null|         0.0|(69,[0],[1.0])|        0.0|(1,[0],[1.0])|          3.0| 4.560701700396552|\n",
      "|       1|Afghanistan|     M|       Marital status|        Never married|... if she burns ...| 01/01/2015|  0.0|         null|         0.0|(69,[0],[1.0])|        1.0|    (1,[],[])|          7.0|               0.0|\n",
      "|       1|Afghanistan|     M|            Education|               Higher|... if she burns ...| 01/01/2015|  4.5|         null|         0.0|(69,[0],[1.0])|        1.0|    (1,[],[])|          5.0|2.1213203435596424|\n",
      "|       1|Afghanistan|     M|            Residence|                Urban|... if she burns ...| 01/01/2015|  4.6|          543|         0.0|(69,[0],[1.0])|        1.0|    (1,[],[])|         13.0|2.1447610589527217|\n",
      "|       1|Afghanistan|     M|           Employment|           Unemployed|... if she burns ...| 01/01/2015|  5.2|         null|         0.0|(69,[0],[1.0])|        1.0|    (1,[],[])|         12.0| 2.280350850198276|\n",
      "|       1|Afghanistan|     M|            Education|              Primary|... if she burns ...| 01/01/2015|  6.3|         null|         0.0|(69,[0],[1.0])|        1.0|    (1,[],[])|          9.0|2.5099800796022267|\n",
      "+--------+-----------+------+---------------------+---------------------+--------------------+-----------+-----+-------------+------------+--------------+-----------+-------------+-------------+------------------+\n",
      "only showing top 20 rows\n",
      "\n",
      "root\n",
      " |-- RecordID: integer (nullable = true)\n",
      " |-- Country: string (nullable = true)\n",
      " |-- Gender: string (nullable = true)\n",
      " |-- Demographics Question: string (nullable = true)\n",
      " |-- Demographics Response: string (nullable = true)\n",
      " |-- Question: string (nullable = true)\n",
      " |-- Survey Year: string (nullable = true)\n",
      " |-- Value: double (nullable = false)\n",
      " |-- User feedback: string (nullable = true)\n",
      " |-- CountryIndex: double (nullable = false)\n",
      " |-- CountryVec: vector (nullable = true)\n",
      " |-- GenderIndex: double (nullable = false)\n",
      " |-- GenderVec: vector (nullable = true)\n",
      " |-- ResponseIndex: double (nullable = false)\n",
      " |-- new_values: double (nullable = true)\n",
      "\n"
     ]
    }
   ],
   "source": [
    "new_df.show()\n",
    "new_df.printSchema()"
   ]
  },
  {
   "cell_type": "code",
   "execution_count": 323,
   "id": "41cf9af8",
   "metadata": {},
   "outputs": [],
   "source": [
    "###########################################################"
   ]
  },
  {
   "cell_type": "code",
   "execution_count": 324,
   "id": "0a4d0aca",
   "metadata": {},
   "outputs": [],
   "source": [
    "from pyspark.ml.linalg import Vectors\n",
    "from pyspark.ml.feature import VectorAssembler"
   ]
  },
  {
   "cell_type": "code",
   "execution_count": 325,
   "id": "8108f2ab",
   "metadata": {},
   "outputs": [],
   "source": [
    "# The input columns are the feature column names, and the output column is what you'd like the new column to be named. \n",
    "assembler = VectorAssembler(\n",
    "    inputCols=[\"GenderIndex\",\"RecordID\"],\n",
    "    outputCol=\"features\")"
   ]
  },
  {
   "cell_type": "code",
   "execution_count": 326,
   "id": "db01c444",
   "metadata": {},
   "outputs": [],
   "source": [
    "# Now that we've created the assembler variable, let's actually transform the data.\n",
    "output = assembler.transform(new_df)"
   ]
  },
  {
   "cell_type": "code",
   "execution_count": 327,
   "id": "93903f61",
   "metadata": {},
   "outputs": [
    {
     "name": "stdout",
     "output_type": "stream",
     "text": [
      "+---------+------------------+\n",
      "| features|        new_values|\n",
      "+---------+------------------+\n",
      "|[0.0,1.0]|               0.0|\n",
      "|[0.0,1.0]|3.1780497164141406|\n",
      "|[0.0,1.0]|3.7013511046643495|\n",
      "|[0.0,1.0]| 3.714835124201342|\n",
      "|[0.0,1.0]| 3.714835124201342|\n",
      "|[0.0,1.0]| 4.123105625617661|\n",
      "|[0.0,1.0]| 4.159326868617084|\n",
      "|[0.0,1.0]| 4.242640687119285|\n",
      "|[0.0,1.0]| 4.254409477236529|\n",
      "|[0.0,1.0]| 4.266145801540309|\n",
      "|[0.0,1.0]| 4.277849927241488|\n",
      "|[0.0,1.0]| 4.277849927241488|\n",
      "|[0.0,1.0]|  4.33589667773576|\n",
      "|[0.0,1.0]| 4.370354676682432|\n",
      "|[0.0,1.0]| 4.560701700396552|\n",
      "|[1.0,1.0]|               0.0|\n",
      "|[1.0,1.0]|2.1213203435596424|\n",
      "|[1.0,1.0]|2.1447610589527217|\n",
      "|[1.0,1.0]| 2.280350850198276|\n",
      "|[1.0,1.0]|2.5099800796022267|\n",
      "+---------+------------------+\n",
      "only showing top 20 rows\n",
      "\n"
     ]
    }
   ],
   "source": [
    "# Let's select two columns (the feature and predictor).\n",
    "# This is now in the appropriate format to be processed by Spark.\n",
    "final_data = output.select(\"features\",'new_values')\n",
    "#I tried use 'Value',larger RMSE value\n",
    "final_data.show()"
   ]
  },
  {
   "cell_type": "code",
   "execution_count": 328,
   "id": "c2427d49",
   "metadata": {},
   "outputs": [
    {
     "name": "stderr",
     "output_type": "stream",
     "text": [
      "23/10/11 04:12:11 WARN Instrumentation: [8cff9726] regParam is zero, which might cause numerical instability and overfitting.\n"
     ]
    },
    {
     "name": "stdout",
     "output_type": "stream",
     "text": [
      "Coefficients: [-1.3248450328598067,0.004437415059549771], Intercept: 3.285952392784894\n"
     ]
    }
   ],
   "source": [
    "#6.1 Linear Regression\n",
    "from pyspark.ml.regression import LinearRegression\n",
    "from pyspark.ml.evaluation import RegressionEvaluator\n",
    "#split the data\n",
    "train_data, test_data = final_data.randomSplit([0.7, 0.3])\n",
    "\n",
    "lr = LinearRegression( labelCol=\"new_values\")\n",
    "\n",
    "# Trianing model \n",
    "lr_model = lr.fit(train_data)\n",
    "#print out the result\n",
    "print(f\"Coefficients: {lr_model.coefficients}, Intercept: {lr_model.intercept}\")\n",
    "\n",
    "\n"
   ]
  },
  {
   "cell_type": "code",
   "execution_count": null,
   "id": "977b0d62",
   "metadata": {},
   "outputs": [],
   "source": []
  },
  {
   "cell_type": "code",
   "execution_count": 329,
   "id": "5be08a69",
   "metadata": {},
   "outputs": [
    {
     "name": "stdout",
     "output_type": "stream",
     "text": [
      "+---------+-------------------+------------------+\n",
      "| features|         new_values|        prediction|\n",
      "+---------+-------------------+------------------+\n",
      "|[0.0,1.0]| 3.7013511046643495|3.2903898078444436|\n",
      "|[0.0,1.0]|  4.123105625617661|3.2903898078444436|\n",
      "|[0.0,1.0]|  4.242640687119285|3.2903898078444436|\n",
      "|[0.0,1.0]|  4.266145801540309|3.2903898078444436|\n",
      "|[0.0,1.0]|  4.277849927241488|3.2903898078444436|\n",
      "|[0.0,2.0]| 0.6324555320336759|3.2948272229039937|\n",
      "|[0.0,2.0]| 0.7745966692414834|3.2948272229039937|\n",
      "|[0.0,2.0]| 0.8944271909999159|3.2948272229039937|\n",
      "|[0.0,2.0]| 0.8944271909999159|3.2948272229039937|\n",
      "|[0.0,2.0]| 1.1832159566199232|3.2948272229039937|\n",
      "|[0.0,3.0]| 0.9486832980505138|3.2992646379635433|\n",
      "|[0.0,3.0]| 2.6267851073127395|3.2992646379635433|\n",
      "|[0.0,3.0]| 2.9664793948382653|3.2992646379635433|\n",
      "|[0.0,3.0]| 3.1304951684997055|3.2992646379635433|\n",
      "|[0.0,3.0]| 3.1622776601683795|3.2992646379635433|\n",
      "|[0.0,3.0]| 3.6606010435446255|3.2992646379635433|\n",
      "|[0.0,4.0]|                0.0| 3.303702053023093|\n",
      "|[0.0,4.0]|0.31622776601683794| 3.303702053023093|\n",
      "|[0.0,4.0]| 0.5477225575051661| 3.303702053023093|\n",
      "|[0.0,4.0]| 0.5477225575051661| 3.303702053023093|\n",
      "+---------+-------------------+------------------+\n",
      "only showing top 20 rows\n",
      "\n"
     ]
    }
   ],
   "source": [
    "\n",
    "pred_results = lr_model.transform(test_data)\n",
    "\n",
    "pred_results.show()\n",
    "\n"
   ]
  },
  {
   "cell_type": "code",
   "execution_count": 330,
   "id": "b25cc973",
   "metadata": {},
   "outputs": [
    {
     "name": "stdout",
     "output_type": "stream",
     "text": [
      "+--------------------+\n",
      "|           residuals|\n",
      "+--------------------+\n",
      "|  0.4109612968199059|\n",
      "|   0.832715817773217|\n",
      "|  0.9522508792748412|\n",
      "|  0.9757559936958651|\n",
      "|  0.9874601193970443|\n",
      "| -2.6623716908703177|\n",
      "| -2.5202305536625103|\n",
      "|  -2.400400031904078|\n",
      "|  -2.400400031904078|\n",
      "| -2.1116112662840703|\n",
      "| -2.3505813399130293|\n",
      "| -0.6724795306508038|\n",
      "|  -0.332785243125278|\n",
      "|-0.16876946946383775|\n",
      "|-0.13698697779516378|\n",
      "| 0.36133640558108215|\n",
      "|  -3.303702053023093|\n",
      "|  -2.987474287006255|\n",
      "|  -2.755979495517927|\n",
      "|  -2.755979495517927|\n",
      "+--------------------+\n",
      "only showing top 20 rows\n",
      "\n",
      "RSME: 2.0521394859884947\n"
     ]
    }
   ],
   "source": [
    "\n",
    "# Let's evaluate the model against the test data.\n",
    "test_results = lr_model.evaluate(test_data)\n",
    "\n",
    "# Interesting results! This shows the difference between the predicted value and the test data.\n",
    "test_results.residuals.show()\n",
    "\n",
    "# Let's get some evaluation metrics (as discussed in the previous linear regression notebook).\n",
    "print(\"RSME: {}\".format(test_results.rootMeanSquaredError))\n"
   ]
  },
  {
   "cell_type": "code",
   "execution_count": 331,
   "id": "105ccc57",
   "metadata": {},
   "outputs": [
    {
     "name": "stdout",
     "output_type": "stream",
     "text": [
      "R2: 0.13483848032663426\n"
     ]
    }
   ],
   "source": [
    "print(\"R2: {}\".format(test_results.r2))"
   ]
  },
  {
   "cell_type": "code",
   "execution_count": null,
   "id": "3c57333c",
   "metadata": {},
   "outputs": [],
   "source": []
  }
 ],
 "metadata": {
  "kernelspec": {
   "display_name": "Python 3 (ipykernel)",
   "language": "python",
   "name": "python3"
  },
  "language_info": {
   "codemirror_mode": {
    "name": "ipython",
    "version": 3
   },
   "file_extension": ".py",
   "mimetype": "text/x-python",
   "name": "python",
   "nbconvert_exporter": "python",
   "pygments_lexer": "ipython3",
   "version": "3.10.12"
  }
 },
 "nbformat": 4,
 "nbformat_minor": 5
}
